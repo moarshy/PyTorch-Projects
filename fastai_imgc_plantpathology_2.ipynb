{
  "nbformat": 4,
  "nbformat_minor": 0,
  "metadata": {
    "accelerator": "GPU",
    "colab": {
      "name": "fastai_imgc_plantpathology_2.ipynb",
      "provenance": [],
      "authorship_tag": "ABX9TyPdE7ojFTUz5/Ffc2ftMINZ",
      "include_colab_link": true
    },
    "kernelspec": {
      "display_name": "Python 3",
      "name": "python3"
    }
  },
  "cells": [
    {
      "cell_type": "markdown",
      "metadata": {
        "id": "view-in-github",
        "colab_type": "text"
      },
      "source": [
        "<a href=\"https://colab.research.google.com/github/moarshy/PyTorch_fastai_Projects/blob/main/fastai_imgc_plantpathology_2.ipynb\" target=\"_parent\"><img src=\"https://colab.research.google.com/assets/colab-badge.svg\" alt=\"Open In Colab\"/></a>"
      ]
    },
    {
      "cell_type": "markdown",
      "metadata": {
        "id": "OcZuumzfVWK7"
      },
      "source": [
        "The idea of this notebook is to use fastai with timm's efficientnet model. \n",
        "\n",
        "We will use Plant Pathology dataset from Kaggle and see what scoring we can achieve\n",
        "\n",
        "Tecniques used in this image classification\n",
        "* transfer learning\n",
        "* efficientnet architecture from timm\n",
        "* stratified kfold crossvalidation\n",
        "* MixUp\n",
        "* label smoothing\n",
        "* TTA\n",
        "\n",
        "\n",
        "In this notebook, our results were private score: 0.96454 and public score: 0.96877. There is still room for further improvement"
      ]
    },
    {
      "cell_type": "code",
      "metadata": {
        "colab": {
          "base_uri": "https://localhost:8080/"
        },
        "id": "0y3p5OMtWFiN",
        "outputId": "808d0f02-0d62-48f5-f723-5eff7f3994f3"
      },
      "source": [
        "from google.colab import drive\n",
        "drive.mount('/content/drive')"
      ],
      "execution_count": 1,
      "outputs": [
        {
          "output_type": "stream",
          "text": [
            "Mounted at /content/drive\n"
          ],
          "name": "stdout"
        }
      ]
    },
    {
      "cell_type": "code",
      "metadata": {
        "id": "JAZGWAlmWIki"
      },
      "source": [
        "!pip uninstall fastai -q -y\n",
        "!pip install fastai -q"
      ],
      "execution_count": null,
      "outputs": []
    },
    {
      "cell_type": "code",
      "metadata": {
        "id": "VW-IvspHW8he"
      },
      "source": [
        "!pip install timm -q"
      ],
      "execution_count": null,
      "outputs": []
    },
    {
      "cell_type": "code",
      "metadata": {
        "id": "jfpzYecqXjSL"
      },
      "source": [
        "! pip install iterative-stratification > /dev/null -q"
      ],
      "execution_count": null,
      "outputs": []
    },
    {
      "cell_type": "code",
      "metadata": {
        "id": "dpLDrn4fWT7d"
      },
      "source": [
        "import fastai\n",
        "from fastai.vision.all import *\n",
        "from iterstrat.ml_stratifiers import MultilabelStratifiedKFold\n",
        "from sklearn.metrics import roc_auc_score\n",
        "\n",
        "import pandas as pd\n",
        "from tqdm.notebook import tqdm"
      ],
      "execution_count": null,
      "outputs": []
    },
    {
      "cell_type": "code",
      "metadata": {
        "id": "Fpi5LrIkYjFT"
      },
      "source": [
        "from timm import create_model\n",
        "import timm\n",
        "from fastai.vision.learner import _update_first_layer\n",
        "from fastai.vision.learner import _add_norm\n",
        "import torch.nn as nn"
      ],
      "execution_count": null,
      "outputs": []
    },
    {
      "cell_type": "markdown",
      "metadata": {
        "id": "GT6YM1eAWYKa"
      },
      "source": [
        "# Experiment set-up\n",
        "\n",
        "* transfer learning --> densnet201\n",
        "* img_size 600\n",
        "* batch size 16\n",
        "* mixup\n",
        "* stratified kfold\n",
        "* oversampling\n",
        "* label smoothing\n",
        "* tta"
      ]
    },
    {
      "cell_type": "code",
      "metadata": {
        "id": "7ruu2p7BWWia"
      },
      "source": [
        "PATH = Path('/content/drive/MyDrive/colab_notebooks/fastai/Plant Pathology')\n",
        "DATA_DIR = Path('/content/drive/MyDrive/colab_notebooks/fastai/Plant Pathology/data')\n",
        "IMG_DIR = PATH/'data/images'\n",
        "TRAIN_CSV = 'train.csv'\n",
        "TEST_CSV = 'test.csv'\n",
        "SS_CSV = 'sample_submission.csv'"
      ],
      "execution_count": null,
      "outputs": []
    },
    {
      "cell_type": "code",
      "metadata": {
        "id": "XK22i2BqXF0z"
      },
      "source": [
        "SEED = 42\n",
        "set_seed(42)\n",
        "N_FOLDS = 5\n",
        "IMG_SIZE = 128\n",
        "BS = 64"
      ],
      "execution_count": null,
      "outputs": []
    },
    {
      "cell_type": "code",
      "metadata": {
        "id": "dlIGkotSXHIe"
      },
      "source": [
        "train_df = pd.read_csv(DATA_DIR/TRAIN_CSV)"
      ],
      "execution_count": null,
      "outputs": []
    },
    {
      "cell_type": "code",
      "metadata": {
        "colab": {
          "base_uri": "https://localhost:8080/",
          "height": 202
        },
        "id": "vOCPK2iJXIZM",
        "outputId": "d0f41176-6deb-41fb-f840-98307ecfa1bf"
      },
      "source": [
        "train_df.head()"
      ],
      "execution_count": null,
      "outputs": [
        {
          "output_type": "execute_result",
          "data": {
            "text/html": [
              "<div>\n",
              "<style scoped>\n",
              "    .dataframe tbody tr th:only-of-type {\n",
              "        vertical-align: middle;\n",
              "    }\n",
              "\n",
              "    .dataframe tbody tr th {\n",
              "        vertical-align: top;\n",
              "    }\n",
              "\n",
              "    .dataframe thead th {\n",
              "        text-align: right;\n",
              "    }\n",
              "</style>\n",
              "<table border=\"1\" class=\"dataframe\">\n",
              "  <thead>\n",
              "    <tr style=\"text-align: right;\">\n",
              "      <th></th>\n",
              "      <th>image_id</th>\n",
              "      <th>healthy</th>\n",
              "      <th>multiple_diseases</th>\n",
              "      <th>rust</th>\n",
              "      <th>scab</th>\n",
              "    </tr>\n",
              "  </thead>\n",
              "  <tbody>\n",
              "    <tr>\n",
              "      <th>0</th>\n",
              "      <td>Train_0</td>\n",
              "      <td>0</td>\n",
              "      <td>0</td>\n",
              "      <td>0</td>\n",
              "      <td>1</td>\n",
              "    </tr>\n",
              "    <tr>\n",
              "      <th>1</th>\n",
              "      <td>Train_1</td>\n",
              "      <td>0</td>\n",
              "      <td>1</td>\n",
              "      <td>0</td>\n",
              "      <td>0</td>\n",
              "    </tr>\n",
              "    <tr>\n",
              "      <th>2</th>\n",
              "      <td>Train_2</td>\n",
              "      <td>1</td>\n",
              "      <td>0</td>\n",
              "      <td>0</td>\n",
              "      <td>0</td>\n",
              "    </tr>\n",
              "    <tr>\n",
              "      <th>3</th>\n",
              "      <td>Train_3</td>\n",
              "      <td>0</td>\n",
              "      <td>0</td>\n",
              "      <td>1</td>\n",
              "      <td>0</td>\n",
              "    </tr>\n",
              "    <tr>\n",
              "      <th>4</th>\n",
              "      <td>Train_4</td>\n",
              "      <td>1</td>\n",
              "      <td>0</td>\n",
              "      <td>0</td>\n",
              "      <td>0</td>\n",
              "    </tr>\n",
              "  </tbody>\n",
              "</table>\n",
              "</div>"
            ],
            "text/plain": [
              "  image_id  healthy  multiple_diseases  rust  scab\n",
              "0  Train_0        0                  0     0     1\n",
              "1  Train_1        0                  1     0     0\n",
              "2  Train_2        1                  0     0     0\n",
              "3  Train_3        0                  0     1     0\n",
              "4  Train_4        1                  0     0     0"
            ]
          },
          "metadata": {
            "tags": []
          },
          "execution_count": 10
        }
      ]
    },
    {
      "cell_type": "code",
      "metadata": {
        "id": "Ujb-BB2_XQ6-"
      },
      "source": [
        "LABELS = ['healthy', 'multiple_diseases', 'rust', 'scab']\n"
      ],
      "execution_count": null,
      "outputs": []
    },
    {
      "cell_type": "code",
      "metadata": {
        "id": "NrYBh5y8XJmz"
      },
      "source": [
        "train_df['label'] = train_df[LABELS].idxmax(1)"
      ],
      "execution_count": null,
      "outputs": []
    },
    {
      "cell_type": "markdown",
      "metadata": {
        "id": "y2YI8Hp0XPLj"
      },
      "source": [
        "# Oversampling and dataloader"
      ]
    },
    {
      "cell_type": "code",
      "metadata": {
        "id": "MCBHWhxmXOl2"
      },
      "source": [
        "#create folds\n",
        "train_df['fold'] = -1\n",
        "\n",
        "strat_kfold = MultilabelStratifiedKFold(n_splits=N_FOLDS, random_state=SEED, shuffle=True)\n",
        "for i, (_, test_index) in enumerate(strat_kfold.split(train_df.image_id.values, train_df.iloc[:,1:].values)):\n",
        "    train_df.iloc[test_index, -1] = i\n",
        "    \n",
        "train_df['fold'] = train_df['fold'].astype('int')"
      ],
      "execution_count": null,
      "outputs": []
    },
    {
      "cell_type": "code",
      "metadata": {
        "id": "pabfRHn_Xp23"
      },
      "source": [
        "def get_data(fold):\n",
        "    \n",
        "    train_df_no_val = train_df[train_df['fold'] != {fold}]     #training set\n",
        "    train_df_just_val = train_df[train_df['fold'] == {fold}]   #validation set\n",
        "\n",
        "    train_df_bal = pd.concat(\n",
        "                   [train_df_no_val[train_df_no_val['label'] != \"multiple_diseases\"], train_df_just_val] +\n",
        "                   [train_df_no_val[train_df_no_val['label'] == 'multiple_diseases']] * 6\n",
        "                   ).sample(frac=1.0, random_state=SEED).reset_index(drop=True)\n",
        "\n",
        "    datablock = DataBlock(\n",
        "                blocks=(ImageBlock, CategoryBlock(vocab=LABELS)),\n",
        "                getters=[\n",
        "                ColReader('image_id', pref=IMG_DIR, suff='.jpg'),\n",
        "                ColReader('label')\n",
        "                ],\n",
        "                splitter=IndexSplitter(train_df_bal.loc[train_df_bal.fold==fold].index),\n",
        "                item_tfms=Resize(IMG_SIZE),\n",
        "                batch_tfms=[*aug_transforms(size=IMG_SIZE, max_rotate=30., min_scale=0.75, flip_vert=True, do_flip=True), \n",
        "                        Normalize.from_stats(*imagenet_stats)]\n",
        "                )\n",
        "    return datablock.dataloaders(source=train_df_bal, bs=BS)"
      ],
      "execution_count": null,
      "outputs": []
    },
    {
      "cell_type": "code",
      "metadata": {
        "id": "BGiMn7kqX-Fe"
      },
      "source": [
        "def comp_metric(preds, targs, labels=range(len(LABELS))):\n",
        "    # One-hot encode targets\n",
        "    targs = np.eye(4)[targs]\n",
        "    return np.mean([roc_auc_score(targs[:,i], preds[:,i]) for i in labels])\n",
        "\n",
        "def healthy_roc_auc(*args):\n",
        "    return comp_metric(*args, labels=[0])\n",
        "\n",
        "def multiple_diseases_roc_auc(*args):\n",
        "    return comp_metric(*args, labels=[1])\n",
        "\n",
        "def rust_roc_auc(*args):\n",
        "    return comp_metric(*args, labels=[2])\n",
        "\n",
        "def scab_roc_auc(*args):\n",
        "    return comp_metric(*args, labels=[3])"
      ],
      "execution_count": null,
      "outputs": []
    },
    {
      "cell_type": "markdown",
      "metadata": {
        "id": "VBxV-F16edKl"
      },
      "source": [
        "# timm Model\n",
        "\n"
      ]
    },
    {
      "cell_type": "code",
      "metadata": {
        "id": "Low_vRU1ep3u"
      },
      "source": [
        "class Model(nn.Module):\n",
        "    def __init__(self, model_arch, n_class, pretrained=False):\n",
        "        super().__init__()\n",
        "        self.model = timm.create_model(model_arch, pretrained=pretrained)\n",
        "        n_features = self.model.classifier.in_features\n",
        "        self.model.classifier = nn.Linear(n_features, n_class)\n",
        "        \n",
        "    def forward(self, x):\n",
        "        x = self.model(x)\n",
        "        return x"
      ],
      "execution_count": null,
      "outputs": []
    },
    {
      "cell_type": "code",
      "metadata": {
        "colab": {
          "base_uri": "https://localhost:8080/"
        },
        "id": "_0sR03Aae1dK",
        "outputId": "a4ee0495-23df-465a-db85-8cf701e9d0b6"
      },
      "source": [
        "model = Model('tf_efficientnet_b3_ns', len(LABELS), pretrained=True)"
      ],
      "execution_count": null,
      "outputs": [
        {
          "output_type": "stream",
          "text": [
            "Downloading: \"https://github.com/rwightman/pytorch-image-models/releases/download/v0.1-weights/tf_efficientnet_b3_ns-9d44bf68.pth\" to /root/.cache/torch/hub/checkpoints/tf_efficientnet_b3_ns-9d44bf68.pth\n"
          ],
          "name": "stderr"
        }
      ]
    },
    {
      "cell_type": "code",
      "metadata": {
        "id": "rN_4Gt2rfszU"
      },
      "source": [
        "dls = get_data(0)"
      ],
      "execution_count": null,
      "outputs": []
    },
    {
      "cell_type": "code",
      "metadata": {
        "id": "wGvBluPhfpPF"
      },
      "source": [
        "opt_func = partial(Adam, lr=1e-3, wd=0.005, eps=1e-8)\n",
        "learn = Learner(dls, model, loss_func=LabelSmoothingCrossEntropy(),\n",
        "                opt_func=opt_func,\n",
        "                metrics=[accuracy, AccumMetric(comp_metric, flatten=False)],\n",
        "                cbs=MixUp()).to_fp16()"
      ],
      "execution_count": null,
      "outputs": []
    },
    {
      "cell_type": "code",
      "metadata": {
        "colab": {
          "base_uri": "https://localhost:8080/",
          "height": 301
        },
        "id": "MZNWFZMrf-VT",
        "outputId": "e7036be9-4ed1-46cd-eec4-dc6ee6c50414"
      },
      "source": [
        "learn.lr_find()"
      ],
      "execution_count": null,
      "outputs": [
        {
          "output_type": "display_data",
          "data": {
            "text/html": [
              ""
            ],
            "text/plain": [
              "<IPython.core.display.HTML object>"
            ]
          },
          "metadata": {
            "tags": []
          }
        },
        {
          "output_type": "execute_result",
          "data": {
            "text/plain": [
              "SuggestedLRs(lr_min=0.0019054606556892395, lr_steep=0.001737800776027143)"
            ]
          },
          "metadata": {
            "tags": []
          },
          "execution_count": 34
        },
        {
          "output_type": "display_data",
          "data": {
            "image/png": "[encoded data removed]",
            "text/plain": [
              "<Figure size 432x288 with 1 Axes>"
            ]
          },
          "metadata": {
            "tags": []
          }
        }
      ]
    },
    {
      "cell_type": "code",
      "metadata": {
        "colab": {
          "base_uri": "https://localhost:8080/",
          "height": 292
        },
        "id": "-JrakdsEguoh",
        "outputId": "c737f08f-14b8-475b-f79d-20cd59a5e4e3"
      },
      "source": [
        "learn.fine_tune(5, base_lr=0.0017378, freeze_epochs=2)"
      ],
      "execution_count": null,
      "outputs": [
        {
          "output_type": "display_data",
          "data": {
            "text/html": [
              "<table border=\"1\" class=\"dataframe\">\n",
              "  <thead>\n",
              "    <tr style=\"text-align: left;\">\n",
              "      <th>epoch</th>\n",
              "      <th>train_loss</th>\n",
              "      <th>valid_loss</th>\n",
              "      <th>accuracy</th>\n",
              "      <th>comp_metric</th>\n",
              "      <th>time</th>\n",
              "    </tr>\n",
              "  </thead>\n",
              "  <tbody>\n",
              "    <tr>\n",
              "      <td>0</td>\n",
              "      <td>1.251482</td>\n",
              "      <td>0.834706</td>\n",
              "      <td>0.756545</td>\n",
              "      <td>0.895529</td>\n",
              "      <td>02:04</td>\n",
              "    </tr>\n",
              "    <tr>\n",
              "      <td>1</td>\n",
              "      <td>1.054975</td>\n",
              "      <td>0.789331</td>\n",
              "      <td>0.821990</td>\n",
              "      <td>0.875768</td>\n",
              "      <td>01:26</td>\n",
              "    </tr>\n",
              "  </tbody>\n",
              "</table>"
            ],
            "text/plain": [
              "<IPython.core.display.HTML object>"
            ]
          },
          "metadata": {
            "tags": []
          }
        },
        {
          "output_type": "display_data",
          "data": {
            "text/html": [
              "<table border=\"1\" class=\"dataframe\">\n",
              "  <thead>\n",
              "    <tr style=\"text-align: left;\">\n",
              "      <th>epoch</th>\n",
              "      <th>train_loss</th>\n",
              "      <th>valid_loss</th>\n",
              "      <th>accuracy</th>\n",
              "      <th>comp_metric</th>\n",
              "      <th>time</th>\n",
              "    </tr>\n",
              "  </thead>\n",
              "  <tbody>\n",
              "    <tr>\n",
              "      <td>0</td>\n",
              "      <td>0.834447</td>\n",
              "      <td>0.643697</td>\n",
              "      <td>0.853403</td>\n",
              "      <td>0.931786</td>\n",
              "      <td>01:26</td>\n",
              "    </tr>\n",
              "    <tr>\n",
              "      <td>1</td>\n",
              "      <td>0.809841</td>\n",
              "      <td>0.645811</td>\n",
              "      <td>0.874346</td>\n",
              "      <td>0.921489</td>\n",
              "      <td>01:25</td>\n",
              "    </tr>\n",
              "    <tr>\n",
              "      <td>2</td>\n",
              "      <td>0.796481</td>\n",
              "      <td>0.610828</td>\n",
              "      <td>0.887435</td>\n",
              "      <td>0.937501</td>\n",
              "      <td>01:25</td>\n",
              "    </tr>\n",
              "    <tr>\n",
              "      <td>3</td>\n",
              "      <td>0.781504</td>\n",
              "      <td>0.648869</td>\n",
              "      <td>0.884817</td>\n",
              "      <td>0.915322</td>\n",
              "      <td>01:25</td>\n",
              "    </tr>\n",
              "    <tr>\n",
              "      <td>4</td>\n",
              "      <td>0.759213</td>\n",
              "      <td>0.616056</td>\n",
              "      <td>0.890052</td>\n",
              "      <td>0.931546</td>\n",
              "      <td>01:26</td>\n",
              "    </tr>\n",
              "  </tbody>\n",
              "</table>"
            ],
            "text/plain": [
              "<IPython.core.display.HTML object>"
            ]
          },
          "metadata": {
            "tags": []
          }
        }
      ]
    },
    {
      "cell_type": "code",
      "metadata": {
        "id": "HkG8DZokieXD"
      },
      "source": [
        "learn.unfreeze()"
      ],
      "execution_count": null,
      "outputs": []
    },
    {
      "cell_type": "markdown",
      "metadata": {
        "id": "CPysZ6nQknMl"
      },
      "source": [
        "# Trainging with efficientnet"
      ]
    },
    {
      "cell_type": "code",
      "metadata": {
        "id": "ZDNaDXkbk-ub"
      },
      "source": [
        "IMG_SIZE = 600\n",
        "BS = 16"
      ],
      "execution_count": null,
      "outputs": []
    },
    {
      "cell_type": "code",
      "metadata": {
        "id": "NJj0zVzlkt1g"
      },
      "source": [
        "def get_learner(fold_num, model):\n",
        "\n",
        "    data = get_data(fold_num)\n",
        "    opt_func = partial(Adam, lr=1e-3, wd=0.005, eps=1e-8)\n",
        "    learn = Learner(\n",
        "        data, model, loss_func=LabelSmoothingCrossEntropy(),\n",
        "        opt_func = opt_func,\n",
        "        metrics=[accuracy, AccumMetric(comp_metric, flatten=False)],\n",
        "        cbs=MixUp()).to_fp16()\n",
        "\n",
        "    return learn"
      ],
      "execution_count": null,
      "outputs": []
    },
    {
      "cell_type": "code",
      "metadata": {
        "colab": {
          "base_uri": "https://localhost:8080/",
          "height": 1000
        },
        "id": "dCb4sEyKkmns",
        "outputId": "1aa02963-9bb2-4e81-e980-1d97da46a936"
      },
      "source": [
        "for i in range(N_FOLDS):\n",
        "    print(f'Fold {i} results')\n",
        "    savemodel = SaveModelCallback(monitor='valid_loss', every_epoch=True, fname=f'{DATA_DIR}/model/model_efficientnet_best_fold_{i}')\n",
        "    learn = get_learner(fold_num=i, model=model)\n",
        "\n",
        "    learn.fit_one_cycle(3)\n",
        "    learn.unfreeze()\n",
        "    learn.fit_one_cycle(6, slice(1e-6, 1e-3), cbs=savemodel)\n",
        "    \n",
        "    learn.recorder.plot_loss()\n",
        "    \n",
        "    learn.save(f'{DATA_DIR}/model/model_efficientnet_fold_{i}')"
      ],
      "execution_count": null,
      "outputs": [
        {
          "output_type": "stream",
          "text": [
            "Fold 0 results\n"
          ],
          "name": "stdout"
        },
        {
          "output_type": "display_data",
          "data": {
            "text/html": [
              "<table border=\"1\" class=\"dataframe\">\n",
              "  <thead>\n",
              "    <tr style=\"text-align: left;\">\n",
              "      <th>epoch</th>\n",
              "      <th>train_loss</th>\n",
              "      <th>valid_loss</th>\n",
              "      <th>accuracy</th>\n",
              "      <th>comp_metric</th>\n",
              "      <th>time</th>\n",
              "    </tr>\n",
              "  </thead>\n",
              "  <tbody>\n",
              "    <tr>\n",
              "      <td>0</td>\n",
              "      <td>0.643899</td>\n",
              "      <td>0.423214</td>\n",
              "      <td>0.976440</td>\n",
              "      <td>0.987116</td>\n",
              "      <td>02:07</td>\n",
              "    </tr>\n",
              "    <tr>\n",
              "      <td>1</td>\n",
              "      <td>0.653210</td>\n",
              "      <td>0.388196</td>\n",
              "      <td>0.986911</td>\n",
              "      <td>0.992105</td>\n",
              "      <td>02:09</td>\n",
              "    </tr>\n",
              "    <tr>\n",
              "      <td>2</td>\n",
              "      <td>0.626883</td>\n",
              "      <td>0.386649</td>\n",
              "      <td>0.986911</td>\n",
              "      <td>0.997562</td>\n",
              "      <td>02:09</td>\n",
              "    </tr>\n",
              "  </tbody>\n",
              "</table>"
            ],
            "text/plain": [
              "<IPython.core.display.HTML object>"
            ]
          },
          "metadata": {
            "tags": []
          }
        },
        {
          "output_type": "display_data",
          "data": {
            "text/html": [
              "<table border=\"1\" class=\"dataframe\">\n",
              "  <thead>\n",
              "    <tr style=\"text-align: left;\">\n",
              "      <th>epoch</th>\n",
              "      <th>train_loss</th>\n",
              "      <th>valid_loss</th>\n",
              "      <th>accuracy</th>\n",
              "      <th>comp_metric</th>\n",
              "      <th>time</th>\n",
              "    </tr>\n",
              "  </thead>\n",
              "  <tbody>\n",
              "    <tr>\n",
              "      <td>0</td>\n",
              "      <td>0.642750</td>\n",
              "      <td>0.416256</td>\n",
              "      <td>0.984293</td>\n",
              "      <td>0.995817</td>\n",
              "      <td>02:11</td>\n",
              "    </tr>\n",
              "    <tr>\n",
              "      <td>1</td>\n",
              "      <td>0.666391</td>\n",
              "      <td>0.464986</td>\n",
              "      <td>0.939791</td>\n",
              "      <td>0.990527</td>\n",
              "      <td>02:12</td>\n",
              "    </tr>\n",
              "    <tr>\n",
              "      <td>2</td>\n",
              "      <td>0.652677</td>\n",
              "      <td>0.425493</td>\n",
              "      <td>0.973822</td>\n",
              "      <td>0.987699</td>\n",
              "      <td>02:12</td>\n",
              "    </tr>\n",
              "    <tr>\n",
              "      <td>3</td>\n",
              "      <td>0.636264</td>\n",
              "      <td>0.420738</td>\n",
              "      <td>0.973822</td>\n",
              "      <td>0.988795</td>\n",
              "      <td>02:12</td>\n",
              "    </tr>\n",
              "    <tr>\n",
              "      <td>4</td>\n",
              "      <td>0.615271</td>\n",
              "      <td>0.411800</td>\n",
              "      <td>0.984293</td>\n",
              "      <td>0.994817</td>\n",
              "      <td>02:12</td>\n",
              "    </tr>\n",
              "    <tr>\n",
              "      <td>5</td>\n",
              "      <td>0.602413</td>\n",
              "      <td>0.404939</td>\n",
              "      <td>0.984293</td>\n",
              "      <td>0.994872</td>\n",
              "      <td>02:12</td>\n",
              "    </tr>\n",
              "  </tbody>\n",
              "</table>"
            ],
            "text/plain": [
              "<IPython.core.display.HTML object>"
            ]
          },
          "metadata": {
            "tags": []
          }
        },
        {
          "output_type": "stream",
          "text": [
            "Fold 1 results\n"
          ],
          "name": "stdout"
        },
        {
          "output_type": "display_data",
          "data": {
            "text/html": [
              "<table border=\"1\" class=\"dataframe\">\n",
              "  <thead>\n",
              "    <tr style=\"text-align: left;\">\n",
              "      <th>epoch</th>\n",
              "      <th>train_loss</th>\n",
              "      <th>valid_loss</th>\n",
              "      <th>accuracy</th>\n",
              "      <th>comp_metric</th>\n",
              "      <th>time</th>\n",
              "    </tr>\n",
              "  </thead>\n",
              "  <tbody>\n",
              "    <tr>\n",
              "      <td>0</td>\n",
              "      <td>0.665327</td>\n",
              "      <td>0.397150</td>\n",
              "      <td>0.981675</td>\n",
              "      <td>0.999438</td>\n",
              "      <td>02:11</td>\n",
              "    </tr>\n",
              "    <tr>\n",
              "      <td>1</td>\n",
              "      <td>0.655469</td>\n",
              "      <td>0.383951</td>\n",
              "      <td>0.989529</td>\n",
              "      <td>0.999787</td>\n",
              "      <td>02:16</td>\n",
              "    </tr>\n",
              "    <tr>\n",
              "      <td>2</td>\n",
              "      <td>0.618138</td>\n",
              "      <td>0.376811</td>\n",
              "      <td>0.989529</td>\n",
              "      <td>0.999925</td>\n",
              "      <td>02:15</td>\n",
              "    </tr>\n",
              "  </tbody>\n",
              "</table>"
            ],
            "text/plain": [
              "<IPython.core.display.HTML object>"
            ]
          },
          "metadata": {
            "tags": []
          }
        },
        {
          "output_type": "display_data",
          "data": {
            "text/html": [
              "<table border=\"1\" class=\"dataframe\">\n",
              "  <thead>\n",
              "    <tr style=\"text-align: left;\">\n",
              "      <th>epoch</th>\n",
              "      <th>train_loss</th>\n",
              "      <th>valid_loss</th>\n",
              "      <th>accuracy</th>\n",
              "      <th>comp_metric</th>\n",
              "      <th>time</th>\n",
              "    </tr>\n",
              "  </thead>\n",
              "  <tbody>\n",
              "    <tr>\n",
              "      <td>0</td>\n",
              "      <td>0.618753</td>\n",
              "      <td>0.381934</td>\n",
              "      <td>0.992147</td>\n",
              "      <td>0.999975</td>\n",
              "      <td>02:14</td>\n",
              "    </tr>\n",
              "    <tr>\n",
              "      <td>1</td>\n",
              "      <td>0.639478</td>\n",
              "      <td>0.430898</td>\n",
              "      <td>0.968586</td>\n",
              "      <td>0.995581</td>\n",
              "      <td>02:13</td>\n",
              "    </tr>\n",
              "    <tr>\n",
              "      <td>2</td>\n",
              "      <td>0.639131</td>\n",
              "      <td>0.413696</td>\n",
              "      <td>0.971204</td>\n",
              "      <td>0.998638</td>\n",
              "      <td>02:12</td>\n",
              "    </tr>\n",
              "    <tr>\n",
              "      <td>3</td>\n",
              "      <td>0.630620</td>\n",
              "      <td>0.383500</td>\n",
              "      <td>0.989529</td>\n",
              "      <td>0.999541</td>\n",
              "      <td>02:12</td>\n",
              "    </tr>\n",
              "    <tr>\n",
              "      <td>4</td>\n",
              "      <td>0.632871</td>\n",
              "      <td>0.388269</td>\n",
              "      <td>0.981675</td>\n",
              "      <td>0.999150</td>\n",
              "      <td>02:11</td>\n",
              "    </tr>\n",
              "    <tr>\n",
              "      <td>5</td>\n",
              "      <td>0.608948</td>\n",
              "      <td>0.382307</td>\n",
              "      <td>0.984293</td>\n",
              "      <td>0.999383</td>\n",
              "      <td>02:10</td>\n",
              "    </tr>\n",
              "  </tbody>\n",
              "</table>"
            ],
            "text/plain": [
              "<IPython.core.display.HTML object>"
            ]
          },
          "metadata": {
            "tags": []
          }
        },
        {
          "output_type": "stream",
          "text": [
            "Fold 2 results\n"
          ],
          "name": "stdout"
        },
        {
          "output_type": "display_data",
          "data": {
            "text/html": [
              "<table border=\"1\" class=\"dataframe\">\n",
              "  <thead>\n",
              "    <tr style=\"text-align: left;\">\n",
              "      <th>epoch</th>\n",
              "      <th>train_loss</th>\n",
              "      <th>valid_loss</th>\n",
              "      <th>accuracy</th>\n",
              "      <th>comp_metric</th>\n",
              "      <th>time</th>\n",
              "    </tr>\n",
              "  </thead>\n",
              "  <tbody>\n",
              "    <tr>\n",
              "      <td>0</td>\n",
              "      <td>0.671980</td>\n",
              "      <td>0.401519</td>\n",
              "      <td>0.981675</td>\n",
              "      <td>0.999425</td>\n",
              "      <td>02:10</td>\n",
              "    </tr>\n",
              "    <tr>\n",
              "      <td>1</td>\n",
              "      <td>0.634348</td>\n",
              "      <td>0.371006</td>\n",
              "      <td>0.994764</td>\n",
              "      <td>0.999317</td>\n",
              "      <td>02:10</td>\n",
              "    </tr>\n",
              "    <tr>\n",
              "      <td>2</td>\n",
              "      <td>0.622128</td>\n",
              "      <td>0.368189</td>\n",
              "      <td>0.994764</td>\n",
              "      <td>0.999574</td>\n",
              "      <td>02:09</td>\n",
              "    </tr>\n",
              "  </tbody>\n",
              "</table>"
            ],
            "text/plain": [
              "<IPython.core.display.HTML object>"
            ]
          },
          "metadata": {
            "tags": []
          }
        },
        {
          "output_type": "display_data",
          "data": {
            "text/html": [
              "<table border=\"1\" class=\"dataframe\">\n",
              "  <thead>\n",
              "    <tr style=\"text-align: left;\">\n",
              "      <th>epoch</th>\n",
              "      <th>train_loss</th>\n",
              "      <th>valid_loss</th>\n",
              "      <th>accuracy</th>\n",
              "      <th>comp_metric</th>\n",
              "      <th>time</th>\n",
              "    </tr>\n",
              "  </thead>\n",
              "  <tbody>\n",
              "    <tr>\n",
              "      <td>0</td>\n",
              "      <td>0.610940</td>\n",
              "      <td>0.378448</td>\n",
              "      <td>0.992147</td>\n",
              "      <td>0.999603</td>\n",
              "      <td>02:09</td>\n",
              "    </tr>\n",
              "    <tr>\n",
              "      <td>1</td>\n",
              "      <td>0.648033</td>\n",
              "      <td>0.415220</td>\n",
              "      <td>0.976440</td>\n",
              "      <td>0.997154</td>\n",
              "      <td>02:08</td>\n",
              "    </tr>\n",
              "    <tr>\n",
              "      <td>2</td>\n",
              "      <td>0.635492</td>\n",
              "      <td>0.381836</td>\n",
              "      <td>0.992147</td>\n",
              "      <td>0.999356</td>\n",
              "      <td>02:08</td>\n",
              "    </tr>\n",
              "    <tr>\n",
              "      <td>3</td>\n",
              "      <td>0.625655</td>\n",
              "      <td>0.386691</td>\n",
              "      <td>0.984293</td>\n",
              "      <td>0.999291</td>\n",
              "      <td>02:08</td>\n",
              "    </tr>\n",
              "    <tr>\n",
              "      <td>4</td>\n",
              "      <td>0.607153</td>\n",
              "      <td>0.378458</td>\n",
              "      <td>0.989529</td>\n",
              "      <td>0.998864</td>\n",
              "      <td>02:07</td>\n",
              "    </tr>\n",
              "    <tr>\n",
              "      <td>5</td>\n",
              "      <td>0.597830</td>\n",
              "      <td>0.374053</td>\n",
              "      <td>0.992147</td>\n",
              "      <td>0.999425</td>\n",
              "      <td>02:08</td>\n",
              "    </tr>\n",
              "  </tbody>\n",
              "</table>"
            ],
            "text/plain": [
              "<IPython.core.display.HTML object>"
            ]
          },
          "metadata": {
            "tags": []
          }
        },
        {
          "output_type": "stream",
          "text": [
            "Fold 3 results\n"
          ],
          "name": "stdout"
        },
        {
          "output_type": "display_data",
          "data": {
            "text/html": [
              "<table border=\"1\" class=\"dataframe\">\n",
              "  <thead>\n",
              "    <tr style=\"text-align: left;\">\n",
              "      <th>epoch</th>\n",
              "      <th>train_loss</th>\n",
              "      <th>valid_loss</th>\n",
              "      <th>accuracy</th>\n",
              "      <th>comp_metric</th>\n",
              "      <th>time</th>\n",
              "    </tr>\n",
              "  </thead>\n",
              "  <tbody>\n",
              "    <tr>\n",
              "      <td>0</td>\n",
              "      <td>0.635362</td>\n",
              "      <td>0.393685</td>\n",
              "      <td>0.984334</td>\n",
              "      <td>0.999153</td>\n",
              "      <td>02:09</td>\n",
              "    </tr>\n",
              "    <tr>\n",
              "      <td>1</td>\n",
              "      <td>0.634572</td>\n",
              "      <td>0.382443</td>\n",
              "      <td>0.989556</td>\n",
              "      <td>0.999780</td>\n",
              "      <td>02:08</td>\n",
              "    </tr>\n",
              "    <tr>\n",
              "      <td>2</td>\n",
              "      <td>0.612179</td>\n",
              "      <td>0.365901</td>\n",
              "      <td>0.997389</td>\n",
              "      <td>0.999924</td>\n",
              "      <td>02:08</td>\n",
              "    </tr>\n",
              "  </tbody>\n",
              "</table>"
            ],
            "text/plain": [
              "<IPython.core.display.HTML object>"
            ]
          },
          "metadata": {
            "tags": []
          }
        },
        {
          "output_type": "display_data",
          "data": {
            "text/html": [
              "<table border=\"1\" class=\"dataframe\">\n",
              "  <thead>\n",
              "    <tr style=\"text-align: left;\">\n",
              "      <th>epoch</th>\n",
              "      <th>train_loss</th>\n",
              "      <th>valid_loss</th>\n",
              "      <th>accuracy</th>\n",
              "      <th>comp_metric</th>\n",
              "      <th>time</th>\n",
              "    </tr>\n",
              "  </thead>\n",
              "  <tbody>\n",
              "    <tr>\n",
              "      <td>0</td>\n",
              "      <td>0.599160</td>\n",
              "      <td>0.368581</td>\n",
              "      <td>0.989556</td>\n",
              "      <td>0.999959</td>\n",
              "      <td>02:08</td>\n",
              "    </tr>\n",
              "    <tr>\n",
              "      <td>1</td>\n",
              "      <td>0.658362</td>\n",
              "      <td>0.408666</td>\n",
              "      <td>0.976501</td>\n",
              "      <td>0.996489</td>\n",
              "      <td>02:07</td>\n",
              "    </tr>\n",
              "    <tr>\n",
              "      <td>2</td>\n",
              "      <td>0.626428</td>\n",
              "      <td>0.373978</td>\n",
              "      <td>0.986945</td>\n",
              "      <td>0.999983</td>\n",
              "      <td>02:07</td>\n",
              "    </tr>\n",
              "    <tr>\n",
              "      <td>3</td>\n",
              "      <td>0.642327</td>\n",
              "      <td>0.381586</td>\n",
              "      <td>0.986945</td>\n",
              "      <td>0.999839</td>\n",
              "      <td>02:10</td>\n",
              "    </tr>\n",
              "    <tr>\n",
              "      <td>4</td>\n",
              "      <td>0.615132</td>\n",
              "      <td>0.368494</td>\n",
              "      <td>0.992167</td>\n",
              "      <td>0.999924</td>\n",
              "      <td>02:09</td>\n",
              "    </tr>\n",
              "    <tr>\n",
              "      <td>5</td>\n",
              "      <td>0.609591</td>\n",
              "      <td>0.365360</td>\n",
              "      <td>0.994778</td>\n",
              "      <td>0.999924</td>\n",
              "      <td>02:08</td>\n",
              "    </tr>\n",
              "  </tbody>\n",
              "</table>"
            ],
            "text/plain": [
              "<IPython.core.display.HTML object>"
            ]
          },
          "metadata": {
            "tags": []
          }
        },
        {
          "output_type": "stream",
          "text": [
            "Fold 4 results\n"
          ],
          "name": "stdout"
        },
        {
          "output_type": "display_data",
          "data": {
            "text/html": [
              "<table border=\"1\" class=\"dataframe\">\n",
              "  <thead>\n",
              "    <tr style=\"text-align: left;\">\n",
              "      <th>epoch</th>\n",
              "      <th>train_loss</th>\n",
              "      <th>valid_loss</th>\n",
              "      <th>accuracy</th>\n",
              "      <th>comp_metric</th>\n",
              "      <th>time</th>\n",
              "    </tr>\n",
              "  </thead>\n",
              "  <tbody>\n",
              "    <tr>\n",
              "      <td>0</td>\n",
              "      <td>0.646600</td>\n",
              "      <td>0.371056</td>\n",
              "      <td>0.994778</td>\n",
              "      <td>0.999952</td>\n",
              "      <td>02:08</td>\n",
              "    </tr>\n",
              "    <tr>\n",
              "      <td>1</td>\n",
              "      <td>0.642292</td>\n",
              "      <td>0.374897</td>\n",
              "      <td>0.997389</td>\n",
              "      <td>0.997265</td>\n",
              "      <td>02:08</td>\n",
              "    </tr>\n",
              "    <tr>\n",
              "      <td>2</td>\n",
              "      <td>0.619978</td>\n",
              "      <td>0.366672</td>\n",
              "      <td>0.997389</td>\n",
              "      <td>0.997353</td>\n",
              "      <td>02:09</td>\n",
              "    </tr>\n",
              "  </tbody>\n",
              "</table>"
            ],
            "text/plain": [
              "<IPython.core.display.HTML object>"
            ]
          },
          "metadata": {
            "tags": []
          }
        },
        {
          "output_type": "display_data",
          "data": {
            "text/html": [
              "<table border=\"1\" class=\"dataframe\">\n",
              "  <thead>\n",
              "    <tr style=\"text-align: left;\">\n",
              "      <th>epoch</th>\n",
              "      <th>train_loss</th>\n",
              "      <th>valid_loss</th>\n",
              "      <th>accuracy</th>\n",
              "      <th>comp_metric</th>\n",
              "      <th>time</th>\n",
              "    </tr>\n",
              "  </thead>\n",
              "  <tbody>\n",
              "    <tr>\n",
              "      <td>0</td>\n",
              "      <td>0.607602</td>\n",
              "      <td>0.372398</td>\n",
              "      <td>0.997389</td>\n",
              "      <td>0.997161</td>\n",
              "      <td>02:08</td>\n",
              "    </tr>\n",
              "    <tr>\n",
              "      <td>1</td>\n",
              "      <td>0.633818</td>\n",
              "      <td>0.420553</td>\n",
              "      <td>0.976501</td>\n",
              "      <td>0.997408</td>\n",
              "      <td>02:08</td>\n",
              "    </tr>\n",
              "    <tr>\n",
              "      <td>2</td>\n",
              "      <td>0.644183</td>\n",
              "      <td>0.384016</td>\n",
              "      <td>0.992167</td>\n",
              "      <td>0.999168</td>\n",
              "      <td>02:08</td>\n",
              "    </tr>\n",
              "    <tr>\n",
              "      <td>3</td>\n",
              "      <td>0.622727</td>\n",
              "      <td>0.398131</td>\n",
              "      <td>0.992167</td>\n",
              "      <td>0.997105</td>\n",
              "      <td>02:07</td>\n",
              "    </tr>\n",
              "    <tr>\n",
              "      <td>4</td>\n",
              "      <td>0.607728</td>\n",
              "      <td>0.389593</td>\n",
              "      <td>0.997389</td>\n",
              "      <td>0.997161</td>\n",
              "      <td>02:08</td>\n",
              "    </tr>\n",
              "    <tr>\n",
              "      <td>5</td>\n",
              "      <td>0.594803</td>\n",
              "      <td>0.385305</td>\n",
              "      <td>0.997389</td>\n",
              "      <td>0.997161</td>\n",
              "      <td>02:07</td>\n",
              "    </tr>\n",
              "  </tbody>\n",
              "</table>"
            ],
            "text/plain": [
              "<IPython.core.display.HTML object>"
            ]
          },
          "metadata": {
            "tags": []
          }
        },
        {
          "output_type": "display_data",
          "data": {
            "image/png": "[encoded data removed]",
            "text/plain": [
              "<Figure size 432x288 with 1 Axes>"
            ]
          },
          "metadata": {
            "tags": []
          }
        }
      ]
    },
    {
      "cell_type": "code",
      "metadata": {
        "id": "Qs6kMSDilWOc"
      },
      "source": [
        "# Prediction - no tta"
      ],
      "execution_count": null,
      "outputs": []
    },
    {
      "cell_type": "code",
      "metadata": {
        "id": "Z2H-EecnXCG1"
      },
      "source": [
        "dls = get_data(0)\n",
        "test_df = pd.read_csv(DATA_DIR/TEST_CSV)\n",
        "test_dl = dls.test_dl(test_df)"
      ],
      "execution_count": null,
      "outputs": []
    },
    {
      "cell_type": "code",
      "metadata": {
        "colab": {
          "base_uri": "https://localhost:8080/",
          "height": 17
        },
        "id": "6JhWZRaRXIWM",
        "outputId": "255f8189-6d9a-45df-9e2d-7f815059b720"
      },
      "source": [
        "preds = []\n",
        "for i in range(N_FOLDS):\n",
        "  learn = get_learner(i, model=model)\n",
        "  learn.load(f'{DATA_DIR}/model/model_efficientnet_fold_{i}')\n",
        "\n",
        "  test_preds, _ = learn.get_preds(dl=test_dl)\n",
        "  preds.append(test_preds)"
      ],
      "execution_count": null,
      "outputs": [
        {
          "output_type": "display_data",
          "data": {
            "text/html": [
              ""
            ],
            "text/plain": [
              "<IPython.core.display.HTML object>"
            ]
          },
          "metadata": {
            "tags": []
          }
        },
        {
          "output_type": "display_data",
          "data": {
            "text/html": [
              ""
            ],
            "text/plain": [
              "<IPython.core.display.HTML object>"
            ]
          },
          "metadata": {
            "tags": []
          }
        },
        {
          "output_type": "display_data",
          "data": {
            "text/html": [
              ""
            ],
            "text/plain": [
              "<IPython.core.display.HTML object>"
            ]
          },
          "metadata": {
            "tags": []
          }
        },
        {
          "output_type": "display_data",
          "data": {
            "text/html": [
              ""
            ],
            "text/plain": [
              "<IPython.core.display.HTML object>"
            ]
          },
          "metadata": {
            "tags": []
          }
        },
        {
          "output_type": "display_data",
          "data": {
            "text/html": [
              ""
            ],
            "text/plain": [
              "<IPython.core.display.HTML object>"
            ]
          },
          "metadata": {
            "tags": []
          }
        }
      ]
    },
    {
      "cell_type": "code",
      "metadata": {
        "id": "eLvBwoF4XmES"
      },
      "source": [
        "test_preds= np.mean(np.stack(preds), axis=0)"
      ],
      "execution_count": null,
      "outputs": []
    },
    {
      "cell_type": "code",
      "metadata": {
        "id": "XAW0bRK5YM1h"
      },
      "source": [
        "sub_df = pd.concat([test_df, pd.DataFrame(test_preds, columns=LABELS)], axis=1)\n",
        "sub_df = sub_df[['image_id', 'healthy', 'multiple_diseases', 'rust', 'scab']]\n",
        "sub_df.to_csv(f'{DATA_DIR}/submission_efficient_notta.csv', index=False)"
      ],
      "execution_count": null,
      "outputs": []
    },
    {
      "cell_type": "code",
      "metadata": {
        "colab": {
          "base_uri": "https://localhost:8080/",
          "height": 117
        },
        "id": "MfOKupdiYTMB",
        "outputId": "e0a3c67e-f3b3-4fb7-ed3f-67afe8cc5adf"
      },
      "source": [
        "#preds with tta\n",
        "preds = []\n",
        "for i in range(N_FOLDS):\n",
        "  learn = get_learner(i, model=model)\n",
        "  learn.load(f'{DATA_DIR}/model/model_efficientnet_fold_{i}')\n",
        "\n",
        "  test_preds, _ = learn.tta(dl=test_dl)\n",
        "  preds.append(test_preds)"
      ],
      "execution_count": null,
      "outputs": [
        {
          "output_type": "display_data",
          "data": {
            "text/html": [
              "\n",
              "    <div>\n",
              "        <style>\n",
              "            /* Turns off some styling */\n",
              "            progress {\n",
              "                /* gets rid of default border in Firefox and Opera. */\n",
              "                border: none;\n",
              "                /* Needs to be in here for Safari polyfill so background images work as expected. */\n",
              "                background-size: auto;\n",
              "            }\n",
              "            .progress-bar-interrupted, .progress-bar-interrupted::-webkit-progress-bar {\n",
              "                background: #F44336;\n",
              "            }\n",
              "        </style>\n",
              "      <progress value='0' class='' max='1' style='width:300px; height:20px; vertical-align: middle;'></progress>\n",
              "      \n",
              "    </div>\n",
              "    \n"
            ],
            "text/plain": [
              "<IPython.core.display.HTML object>"
            ]
          },
          "metadata": {
            "tags": []
          }
        },
        {
          "output_type": "display_data",
          "data": {
            "text/html": [
              ""
            ],
            "text/plain": [
              "<IPython.core.display.HTML object>"
            ]
          },
          "metadata": {
            "tags": []
          }
        },
        {
          "output_type": "display_data",
          "data": {
            "text/html": [
              "\n",
              "    <div>\n",
              "        <style>\n",
              "            /* Turns off some styling */\n",
              "            progress {\n",
              "                /* gets rid of default border in Firefox and Opera. */\n",
              "                border: none;\n",
              "                /* Needs to be in here for Safari polyfill so background images work as expected. */\n",
              "                background-size: auto;\n",
              "            }\n",
              "            .progress-bar-interrupted, .progress-bar-interrupted::-webkit-progress-bar {\n",
              "                background: #F44336;\n",
              "            }\n",
              "        </style>\n",
              "      <progress value='0' class='' max='1' style='width:300px; height:20px; vertical-align: middle;'></progress>\n",
              "      \n",
              "    </div>\n",
              "    \n"
            ],
            "text/plain": [
              "<IPython.core.display.HTML object>"
            ]
          },
          "metadata": {
            "tags": []
          }
        },
        {
          "output_type": "display_data",
          "data": {
            "text/html": [
              ""
            ],
            "text/plain": [
              "<IPython.core.display.HTML object>"
            ]
          },
          "metadata": {
            "tags": []
          }
        },
        {
          "output_type": "display_data",
          "data": {
            "text/html": [
              "\n",
              "    <div>\n",
              "        <style>\n",
              "            /* Turns off some styling */\n",
              "            progress {\n",
              "                /* gets rid of default border in Firefox and Opera. */\n",
              "                border: none;\n",
              "                /* Needs to be in here for Safari polyfill so background images work as expected. */\n",
              "                background-size: auto;\n",
              "            }\n",
              "            .progress-bar-interrupted, .progress-bar-interrupted::-webkit-progress-bar {\n",
              "                background: #F44336;\n",
              "            }\n",
              "        </style>\n",
              "      <progress value='0' class='' max='1' style='width:300px; height:20px; vertical-align: middle;'></progress>\n",
              "      \n",
              "    </div>\n",
              "    \n"
            ],
            "text/plain": [
              "<IPython.core.display.HTML object>"
            ]
          },
          "metadata": {
            "tags": []
          }
        },
        {
          "output_type": "display_data",
          "data": {
            "text/html": [
              ""
            ],
            "text/plain": [
              "<IPython.core.display.HTML object>"
            ]
          },
          "metadata": {
            "tags": []
          }
        },
        {
          "output_type": "display_data",
          "data": {
            "text/html": [
              "\n",
              "    <div>\n",
              "        <style>\n",
              "            /* Turns off some styling */\n",
              "            progress {\n",
              "                /* gets rid of default border in Firefox and Opera. */\n",
              "                border: none;\n",
              "                /* Needs to be in here for Safari polyfill so background images work as expected. */\n",
              "                background-size: auto;\n",
              "            }\n",
              "            .progress-bar-interrupted, .progress-bar-interrupted::-webkit-progress-bar {\n",
              "                background: #F44336;\n",
              "            }\n",
              "        </style>\n",
              "      <progress value='0' class='' max='1' style='width:300px; height:20px; vertical-align: middle;'></progress>\n",
              "      \n",
              "    </div>\n",
              "    \n"
            ],
            "text/plain": [
              "<IPython.core.display.HTML object>"
            ]
          },
          "metadata": {
            "tags": []
          }
        },
        {
          "output_type": "display_data",
          "data": {
            "text/html": [
              ""
            ],
            "text/plain": [
              "<IPython.core.display.HTML object>"
            ]
          },
          "metadata": {
            "tags": []
          }
        },
        {
          "output_type": "display_data",
          "data": {
            "text/html": [
              "\n",
              "    <div>\n",
              "        <style>\n",
              "            /* Turns off some styling */\n",
              "            progress {\n",
              "                /* gets rid of default border in Firefox and Opera. */\n",
              "                border: none;\n",
              "                /* Needs to be in here for Safari polyfill so background images work as expected. */\n",
              "                background-size: auto;\n",
              "            }\n",
              "            .progress-bar-interrupted, .progress-bar-interrupted::-webkit-progress-bar {\n",
              "                background: #F44336;\n",
              "            }\n",
              "        </style>\n",
              "      <progress value='0' class='' max='1' style='width:300px; height:20px; vertical-align: middle;'></progress>\n",
              "      \n",
              "    </div>\n",
              "    \n"
            ],
            "text/plain": [
              "<IPython.core.display.HTML object>"
            ]
          },
          "metadata": {
            "tags": []
          }
        },
        {
          "output_type": "display_data",
          "data": {
            "text/html": [
              ""
            ],
            "text/plain": [
              "<IPython.core.display.HTML object>"
            ]
          },
          "metadata": {
            "tags": []
          }
        }
      ]
    },
    {
      "cell_type": "code",
      "metadata": {
        "id": "tpNDTCZfbCCn"
      },
      "source": [
        "test_preds= np.mean(np.stack(preds), axis=0)"
      ],
      "execution_count": null,
      "outputs": []
    },
    {
      "cell_type": "code",
      "metadata": {
        "id": "eO34M92dbIPH"
      },
      "source": [
        "sub_df = pd.concat([test_df, pd.DataFrame(test_preds, columns=LABELS)], axis=1)\n",
        "sub_df = sub_df[['image_id', 'healthy', 'multiple_diseases', 'rust', 'scab']]\n",
        "sub_df.to_csv(f'{DATA_DIR}/submission_efficient_tta.csv', index=False)"
      ],
      "execution_count": null,
      "outputs": []
    },
    {
      "cell_type": "markdown",
      "metadata": {
        "id": "ir53Ay6OgZZC"
      },
      "source": [
        "# Training with efficientnet v2"
      ]
    },
    {
      "cell_type": "code",
      "metadata": {
        "id": "6RYPfJndgYjf"
      },
      "source": [
        "IMG_SIZE = 700\n",
        "BS = 16\n",
        "#increase oversampling of multiple_disease to 4x\n",
        "#no weight decay"
      ],
      "execution_count": null,
      "outputs": []
    },
    {
      "cell_type": "code",
      "metadata": {
        "id": "qCTRK-O2bLfY"
      },
      "source": [
        "def get_learner(fold_num, model):\n",
        "\n",
        "    data = get_data(fold_num)\n",
        "    opt_func = partial(Adam, lr=1e-3, wd=0.0005, eps=1e-8)\n",
        "    learn = Learner(\n",
        "        data, model, loss_func=LabelSmoothingCrossEntropy(),\n",
        "        opt_func = opt_func,\n",
        "        metrics=[accuracy, AccumMetric(comp_metric, flatten=False)],\n",
        "        cbs=MixUp()).to_fp16()\n",
        "\n",
        "    return learn"
      ],
      "execution_count": null,
      "outputs": []
    },
    {
      "cell_type": "code",
      "metadata": {
        "colab": {
          "base_uri": "https://localhost:8080/",
          "height": 1000
        },
        "id": "O5bxvSc6kjLH",
        "outputId": "df3c9da5-9834-4a3c-cdc3-827d99f60226"
      },
      "source": [
        "for i in range(N_FOLDS):\n",
        "    print(f'Fold {i} results')\n",
        "    savemodel = SaveModelCallback(monitor='valid_loss', every_epoch=False, fname=f'{DATA_DIR}/model/model_efficientnet2_best_fold_{i}')\n",
        "    learn = get_learner(fold_num=i, model=model)\n",
        "\n",
        "    learn.fit_one_cycle(3)\n",
        "    learn.unfreeze()\n",
        "    learn.fit_one_cycle(6, slice(1e-6, 1e-3), cbs=savemodel)\n",
        "    \n",
        "    learn.recorder.plot_loss()\n",
        "    \n",
        "    learn.save(f'{DATA_DIR}/model/model_efficientnet2_fold_{i}')"
      ],
      "execution_count": null,
      "outputs": [
        {
          "output_type": "stream",
          "text": [
            "Fold 0 results\n"
          ],
          "name": "stdout"
        },
        {
          "output_type": "display_data",
          "data": {
            "text/html": [
              "<table border=\"1\" class=\"dataframe\">\n",
              "  <thead>\n",
              "    <tr style=\"text-align: left;\">\n",
              "      <th>epoch</th>\n",
              "      <th>train_loss</th>\n",
              "      <th>valid_loss</th>\n",
              "      <th>accuracy</th>\n",
              "      <th>comp_metric</th>\n",
              "      <th>time</th>\n",
              "    </tr>\n",
              "  </thead>\n",
              "  <tbody>\n",
              "    <tr>\n",
              "      <td>0</td>\n",
              "      <td>0.625193</td>\n",
              "      <td>0.415521</td>\n",
              "      <td>0.973822</td>\n",
              "      <td>0.996661</td>\n",
              "      <td>02:46</td>\n",
              "    </tr>\n",
              "    <tr>\n",
              "      <td>1</td>\n",
              "      <td>0.623968</td>\n",
              "      <td>0.376997</td>\n",
              "      <td>0.992147</td>\n",
              "      <td>0.999420</td>\n",
              "      <td>02:38</td>\n",
              "    </tr>\n",
              "    <tr>\n",
              "      <td>2</td>\n",
              "      <td>0.612945</td>\n",
              "      <td>0.361072</td>\n",
              "      <td>0.997382</td>\n",
              "      <td>1.000000</td>\n",
              "      <td>02:38</td>\n",
              "    </tr>\n",
              "  </tbody>\n",
              "</table>"
            ],
            "text/plain": [
              "<IPython.core.display.HTML object>"
            ]
          },
          "metadata": {
            "tags": []
          }
        },
        {
          "output_type": "display_data",
          "data": {
            "text/html": [
              "<table border=\"1\" class=\"dataframe\">\n",
              "  <thead>\n",
              "    <tr style=\"text-align: left;\">\n",
              "      <th>epoch</th>\n",
              "      <th>train_loss</th>\n",
              "      <th>valid_loss</th>\n",
              "      <th>accuracy</th>\n",
              "      <th>comp_metric</th>\n",
              "      <th>time</th>\n",
              "    </tr>\n",
              "  </thead>\n",
              "  <tbody>\n",
              "    <tr>\n",
              "      <td>0</td>\n",
              "      <td>0.610796</td>\n",
              "      <td>0.376784</td>\n",
              "      <td>0.986911</td>\n",
              "      <td>0.999165</td>\n",
              "      <td>02:38</td>\n",
              "    </tr>\n",
              "    <tr>\n",
              "      <td>1</td>\n",
              "      <td>0.636635</td>\n",
              "      <td>0.424619</td>\n",
              "      <td>0.971204</td>\n",
              "      <td>0.994717</td>\n",
              "      <td>02:40</td>\n",
              "    </tr>\n",
              "    <tr>\n",
              "      <td>2</td>\n",
              "      <td>0.629351</td>\n",
              "      <td>0.401584</td>\n",
              "      <td>0.979058</td>\n",
              "      <td>0.998731</td>\n",
              "      <td>02:39</td>\n",
              "    </tr>\n",
              "    <tr>\n",
              "      <td>3</td>\n",
              "      <td>0.612558</td>\n",
              "      <td>0.386442</td>\n",
              "      <td>0.986911</td>\n",
              "      <td>0.997863</td>\n",
              "      <td>02:39</td>\n",
              "    </tr>\n",
              "    <tr>\n",
              "      <td>4</td>\n",
              "      <td>0.600456</td>\n",
              "      <td>0.384830</td>\n",
              "      <td>0.986911</td>\n",
              "      <td>0.998093</td>\n",
              "      <td>02:39</td>\n",
              "    </tr>\n",
              "    <tr>\n",
              "      <td>5</td>\n",
              "      <td>0.597878</td>\n",
              "      <td>0.383988</td>\n",
              "      <td>0.986911</td>\n",
              "      <td>0.998020</td>\n",
              "      <td>02:39</td>\n",
              "    </tr>\n",
              "  </tbody>\n",
              "</table>"
            ],
            "text/plain": [
              "<IPython.core.display.HTML object>"
            ]
          },
          "metadata": {
            "tags": []
          }
        },
        {
          "output_type": "stream",
          "text": [
            "Better model found at epoch 0 with valid_loss value: 0.3767843246459961.\n",
            "Fold 1 results\n"
          ],
          "name": "stdout"
        },
        {
          "output_type": "display_data",
          "data": {
            "text/html": [
              "<table border=\"1\" class=\"dataframe\">\n",
              "  <thead>\n",
              "    <tr style=\"text-align: left;\">\n",
              "      <th>epoch</th>\n",
              "      <th>train_loss</th>\n",
              "      <th>valid_loss</th>\n",
              "      <th>accuracy</th>\n",
              "      <th>comp_metric</th>\n",
              "      <th>time</th>\n",
              "    </tr>\n",
              "  </thead>\n",
              "  <tbody>\n",
              "    <tr>\n",
              "      <td>0</td>\n",
              "      <td>0.605751</td>\n",
              "      <td>0.374851</td>\n",
              "      <td>0.997382</td>\n",
              "      <td>1.000000</td>\n",
              "      <td>02:37</td>\n",
              "    </tr>\n",
              "    <tr>\n",
              "      <td>1</td>\n",
              "      <td>0.618145</td>\n",
              "      <td>0.362542</td>\n",
              "      <td>0.994764</td>\n",
              "      <td>1.000000</td>\n",
              "      <td>02:39</td>\n",
              "    </tr>\n",
              "    <tr>\n",
              "      <td>2</td>\n",
              "      <td>0.612321</td>\n",
              "      <td>0.358521</td>\n",
              "      <td>0.997382</td>\n",
              "      <td>1.000000</td>\n",
              "      <td>02:39</td>\n",
              "    </tr>\n",
              "  </tbody>\n",
              "</table>"
            ],
            "text/plain": [
              "<IPython.core.display.HTML object>"
            ]
          },
          "metadata": {
            "tags": []
          }
        },
        {
          "output_type": "display_data",
          "data": {
            "text/html": [
              "<table border=\"1\" class=\"dataframe\">\n",
              "  <thead>\n",
              "    <tr style=\"text-align: left;\">\n",
              "      <th>epoch</th>\n",
              "      <th>train_loss</th>\n",
              "      <th>valid_loss</th>\n",
              "      <th>accuracy</th>\n",
              "      <th>comp_metric</th>\n",
              "      <th>time</th>\n",
              "    </tr>\n",
              "  </thead>\n",
              "  <tbody>\n",
              "    <tr>\n",
              "      <td>0</td>\n",
              "      <td>0.619260</td>\n",
              "      <td>0.377972</td>\n",
              "      <td>0.989529</td>\n",
              "      <td>0.999560</td>\n",
              "      <td>02:39</td>\n",
              "    </tr>\n",
              "    <tr>\n",
              "      <td>1</td>\n",
              "      <td>0.637759</td>\n",
              "      <td>0.458525</td>\n",
              "      <td>0.950262</td>\n",
              "      <td>0.997835</td>\n",
              "      <td>02:39</td>\n",
              "    </tr>\n",
              "    <tr>\n",
              "      <td>2</td>\n",
              "      <td>0.646755</td>\n",
              "      <td>0.386873</td>\n",
              "      <td>0.984293</td>\n",
              "      <td>0.999291</td>\n",
              "      <td>02:39</td>\n",
              "    </tr>\n",
              "    <tr>\n",
              "      <td>3</td>\n",
              "      <td>0.619988</td>\n",
              "      <td>0.389662</td>\n",
              "      <td>0.979058</td>\n",
              "      <td>0.997654</td>\n",
              "      <td>02:39</td>\n",
              "    </tr>\n",
              "    <tr>\n",
              "      <td>4</td>\n",
              "      <td>0.606409</td>\n",
              "      <td>0.380043</td>\n",
              "      <td>0.994764</td>\n",
              "      <td>0.997448</td>\n",
              "      <td>02:39</td>\n",
              "    </tr>\n",
              "    <tr>\n",
              "      <td>5</td>\n",
              "      <td>0.592532</td>\n",
              "      <td>0.374567</td>\n",
              "      <td>0.994764</td>\n",
              "      <td>0.998738</td>\n",
              "      <td>02:38</td>\n",
              "    </tr>\n",
              "  </tbody>\n",
              "</table>"
            ],
            "text/plain": [
              "<IPython.core.display.HTML object>"
            ]
          },
          "metadata": {
            "tags": []
          }
        },
        {
          "output_type": "stream",
          "text": [
            "Better model found at epoch 0 with valid_loss value: 0.37797197699546814.\n",
            "Better model found at epoch 5 with valid_loss value: 0.3745674788951874.\n",
            "Fold 2 results\n"
          ],
          "name": "stdout"
        },
        {
          "output_type": "display_data",
          "data": {
            "text/html": [
              "<table border=\"1\" class=\"dataframe\">\n",
              "  <thead>\n",
              "    <tr style=\"text-align: left;\">\n",
              "      <th>epoch</th>\n",
              "      <th>train_loss</th>\n",
              "      <th>valid_loss</th>\n",
              "      <th>accuracy</th>\n",
              "      <th>comp_metric</th>\n",
              "      <th>time</th>\n",
              "    </tr>\n",
              "  </thead>\n",
              "  <tbody>\n",
              "    <tr>\n",
              "      <td>0</td>\n",
              "      <td>0.631075</td>\n",
              "      <td>0.410633</td>\n",
              "      <td>0.973822</td>\n",
              "      <td>0.999493</td>\n",
              "      <td>02:37</td>\n",
              "    </tr>\n",
              "    <tr>\n",
              "      <td>1</td>\n",
              "      <td>0.627063</td>\n",
              "      <td>0.364313</td>\n",
              "      <td>0.997382</td>\n",
              "      <td>0.999635</td>\n",
              "      <td>02:38</td>\n",
              "    </tr>\n",
              "    <tr>\n",
              "      <td>2</td>\n",
              "      <td>0.614307</td>\n",
              "      <td>0.361746</td>\n",
              "      <td>0.997382</td>\n",
              "      <td>0.999681</td>\n",
              "      <td>02:38</td>\n",
              "    </tr>\n",
              "  </tbody>\n",
              "</table>"
            ],
            "text/plain": [
              "<IPython.core.display.HTML object>"
            ]
          },
          "metadata": {
            "tags": []
          }
        },
        {
          "output_type": "display_data",
          "data": {
            "text/html": [
              "<table border=\"1\" class=\"dataframe\">\n",
              "  <thead>\n",
              "    <tr style=\"text-align: left;\">\n",
              "      <th>epoch</th>\n",
              "      <th>train_loss</th>\n",
              "      <th>valid_loss</th>\n",
              "      <th>accuracy</th>\n",
              "      <th>comp_metric</th>\n",
              "      <th>time</th>\n",
              "    </tr>\n",
              "  </thead>\n",
              "  <tbody>\n",
              "    <tr>\n",
              "      <td>0</td>\n",
              "      <td>0.602997</td>\n",
              "      <td>0.371205</td>\n",
              "      <td>0.992147</td>\n",
              "      <td>0.999676</td>\n",
              "      <td>02:37</td>\n",
              "    </tr>\n",
              "    <tr>\n",
              "      <td>1</td>\n",
              "      <td>0.624997</td>\n",
              "      <td>0.369295</td>\n",
              "      <td>0.997382</td>\n",
              "      <td>0.998726</td>\n",
              "      <td>02:38</td>\n",
              "    </tr>\n",
              "    <tr>\n",
              "      <td>2</td>\n",
              "      <td>0.608586</td>\n",
              "      <td>0.369879</td>\n",
              "      <td>0.994764</td>\n",
              "      <td>0.999552</td>\n",
              "      <td>02:38</td>\n",
              "    </tr>\n",
              "    <tr>\n",
              "      <td>3</td>\n",
              "      <td>0.615457</td>\n",
              "      <td>0.367999</td>\n",
              "      <td>0.994764</td>\n",
              "      <td>0.999903</td>\n",
              "      <td>02:39</td>\n",
              "    </tr>\n",
              "    <tr>\n",
              "      <td>4</td>\n",
              "      <td>0.600474</td>\n",
              "      <td>0.366119</td>\n",
              "      <td>0.992147</td>\n",
              "      <td>0.999937</td>\n",
              "      <td>02:38</td>\n",
              "    </tr>\n",
              "    <tr>\n",
              "      <td>5</td>\n",
              "      <td>0.599410</td>\n",
              "      <td>0.361222</td>\n",
              "      <td>0.997382</td>\n",
              "      <td>0.999905</td>\n",
              "      <td>02:37</td>\n",
              "    </tr>\n",
              "  </tbody>\n",
              "</table>"
            ],
            "text/plain": [
              "<IPython.core.display.HTML object>"
            ]
          },
          "metadata": {
            "tags": []
          }
        },
        {
          "output_type": "stream",
          "text": [
            "Better model found at epoch 0 with valid_loss value: 0.3712051808834076.\n",
            "Better model found at epoch 1 with valid_loss value: 0.369295209646225.\n",
            "Better model found at epoch 3 with valid_loss value: 0.3679991066455841.\n",
            "Better model found at epoch 4 with valid_loss value: 0.3661193549633026.\n",
            "Better model found at epoch 5 with valid_loss value: 0.36122193932533264.\n",
            "Fold 3 results\n"
          ],
          "name": "stdout"
        },
        {
          "output_type": "display_data",
          "data": {
            "text/html": [
              "<table border=\"1\" class=\"dataframe\">\n",
              "  <thead>\n",
              "    <tr style=\"text-align: left;\">\n",
              "      <th>epoch</th>\n",
              "      <th>train_loss</th>\n",
              "      <th>valid_loss</th>\n",
              "      <th>accuracy</th>\n",
              "      <th>comp_metric</th>\n",
              "      <th>time</th>\n",
              "    </tr>\n",
              "  </thead>\n",
              "  <tbody>\n",
              "    <tr>\n",
              "      <td>0</td>\n",
              "      <td>0.619965</td>\n",
              "      <td>0.398012</td>\n",
              "      <td>0.986945</td>\n",
              "      <td>0.999659</td>\n",
              "      <td>02:39</td>\n",
              "    </tr>\n",
              "    <tr>\n",
              "      <td>1</td>\n",
              "      <td>0.616255</td>\n",
              "      <td>0.359967</td>\n",
              "      <td>0.997389</td>\n",
              "      <td>1.000000</td>\n",
              "      <td>02:38</td>\n",
              "    </tr>\n",
              "    <tr>\n",
              "      <td>2</td>\n",
              "      <td>0.608235</td>\n",
              "      <td>0.370480</td>\n",
              "      <td>0.989556</td>\n",
              "      <td>0.999809</td>\n",
              "      <td>02:38</td>\n",
              "    </tr>\n",
              "  </tbody>\n",
              "</table>"
            ],
            "text/plain": [
              "<IPython.core.display.HTML object>"
            ]
          },
          "metadata": {
            "tags": []
          }
        },
        {
          "output_type": "display_data",
          "data": {
            "text/html": [
              "<table border=\"1\" class=\"dataframe\">\n",
              "  <thead>\n",
              "    <tr style=\"text-align: left;\">\n",
              "      <th>epoch</th>\n",
              "      <th>train_loss</th>\n",
              "      <th>valid_loss</th>\n",
              "      <th>accuracy</th>\n",
              "      <th>comp_metric</th>\n",
              "      <th>time</th>\n",
              "    </tr>\n",
              "  </thead>\n",
              "  <tbody>\n",
              "    <tr>\n",
              "      <td>0</td>\n",
              "      <td>0.591724</td>\n",
              "      <td>0.358228</td>\n",
              "      <td>1.000000</td>\n",
              "      <td>1.000000</td>\n",
              "      <td>02:38</td>\n",
              "    </tr>\n",
              "    <tr>\n",
              "      <td>1</td>\n",
              "      <td>0.631921</td>\n",
              "      <td>0.436083</td>\n",
              "      <td>0.966057</td>\n",
              "      <td>0.997247</td>\n",
              "      <td>02:38</td>\n",
              "    </tr>\n",
              "    <tr>\n",
              "      <td>2</td>\n",
              "      <td>0.628987</td>\n",
              "      <td>0.357444</td>\n",
              "      <td>1.000000</td>\n",
              "      <td>1.000000</td>\n",
              "      <td>02:38</td>\n",
              "    </tr>\n",
              "    <tr>\n",
              "      <td>3</td>\n",
              "      <td>0.602148</td>\n",
              "      <td>0.367809</td>\n",
              "      <td>0.994778</td>\n",
              "      <td>0.999939</td>\n",
              "      <td>02:39</td>\n",
              "    </tr>\n",
              "    <tr>\n",
              "      <td>4</td>\n",
              "      <td>0.586641</td>\n",
              "      <td>0.357375</td>\n",
              "      <td>1.000000</td>\n",
              "      <td>1.000000</td>\n",
              "      <td>02:38</td>\n",
              "    </tr>\n",
              "    <tr>\n",
              "      <td>5</td>\n",
              "      <td>0.586488</td>\n",
              "      <td>0.358056</td>\n",
              "      <td>1.000000</td>\n",
              "      <td>1.000000</td>\n",
              "      <td>02:38</td>\n",
              "    </tr>\n",
              "  </tbody>\n",
              "</table>"
            ],
            "text/plain": [
              "<IPython.core.display.HTML object>"
            ]
          },
          "metadata": {
            "tags": []
          }
        },
        {
          "output_type": "stream",
          "text": [
            "Better model found at epoch 0 with valid_loss value: 0.35822752118110657.\n",
            "Better model found at epoch 2 with valid_loss value: 0.3574444353580475.\n",
            "Better model found at epoch 4 with valid_loss value: 0.3573746979236603.\n",
            "Fold 4 results\n"
          ],
          "name": "stdout"
        },
        {
          "output_type": "display_data",
          "data": {
            "text/html": [
              "<table border=\"1\" class=\"dataframe\">\n",
              "  <thead>\n",
              "    <tr style=\"text-align: left;\">\n",
              "      <th>epoch</th>\n",
              "      <th>train_loss</th>\n",
              "      <th>valid_loss</th>\n",
              "      <th>accuracy</th>\n",
              "      <th>comp_metric</th>\n",
              "      <th>time</th>\n",
              "    </tr>\n",
              "  </thead>\n",
              "  <tbody>\n",
              "    <tr>\n",
              "      <td>0</td>\n",
              "      <td>0.601366</td>\n",
              "      <td>0.379640</td>\n",
              "      <td>0.992167</td>\n",
              "      <td>0.999608</td>\n",
              "      <td>02:37</td>\n",
              "    </tr>\n",
              "    <tr>\n",
              "      <td>1</td>\n",
              "      <td>0.614294</td>\n",
              "      <td>0.361146</td>\n",
              "      <td>0.997389</td>\n",
              "      <td>0.999640</td>\n",
              "      <td>02:39</td>\n",
              "    </tr>\n",
              "    <tr>\n",
              "      <td>2</td>\n",
              "      <td>0.611544</td>\n",
              "      <td>0.359048</td>\n",
              "      <td>0.997389</td>\n",
              "      <td>0.999560</td>\n",
              "      <td>02:38</td>\n",
              "    </tr>\n",
              "  </tbody>\n",
              "</table>"
            ],
            "text/plain": [
              "<IPython.core.display.HTML object>"
            ]
          },
          "metadata": {
            "tags": []
          }
        },
        {
          "output_type": "display_data",
          "data": {
            "text/html": [
              "\n",
              "    <div>\n",
              "        <style>\n",
              "            /* Turns off some styling */\n",
              "            progress {\n",
              "                /* gets rid of default border in Firefox and Opera. */\n",
              "                border: none;\n",
              "                /* Needs to be in here for Safari polyfill so background images work as expected. */\n",
              "                background-size: auto;\n",
              "            }\n",
              "            .progress-bar-interrupted, .progress-bar-interrupted::-webkit-progress-bar {\n",
              "                background: #F44336;\n",
              "            }\n",
              "        </style>\n",
              "      <progress value='5' class='' max='6' style='width:300px; height:20px; vertical-align: middle;'></progress>\n",
              "      83.33% [5/6 13:16<02:39]\n",
              "    </div>\n",
              "    \n",
              "<table border=\"1\" class=\"dataframe\">\n",
              "  <thead>\n",
              "    <tr style=\"text-align: left;\">\n",
              "      <th>epoch</th>\n",
              "      <th>train_loss</th>\n",
              "      <th>valid_loss</th>\n",
              "      <th>accuracy</th>\n",
              "      <th>comp_metric</th>\n",
              "      <th>time</th>\n",
              "    </tr>\n",
              "  </thead>\n",
              "  <tbody>\n",
              "    <tr>\n",
              "      <td>0</td>\n",
              "      <td>0.602020</td>\n",
              "      <td>0.364529</td>\n",
              "      <td>0.992167</td>\n",
              "      <td>0.999840</td>\n",
              "      <td>02:39</td>\n",
              "    </tr>\n",
              "    <tr>\n",
              "      <td>1</td>\n",
              "      <td>0.611387</td>\n",
              "      <td>0.390654</td>\n",
              "      <td>0.994778</td>\n",
              "      <td>0.999480</td>\n",
              "      <td>02:39</td>\n",
              "    </tr>\n",
              "    <tr>\n",
              "      <td>2</td>\n",
              "      <td>0.622628</td>\n",
              "      <td>0.373143</td>\n",
              "      <td>0.994778</td>\n",
              "      <td>0.999272</td>\n",
              "      <td>02:39</td>\n",
              "    </tr>\n",
              "    <tr>\n",
              "      <td>3</td>\n",
              "      <td>0.619307</td>\n",
              "      <td>0.365483</td>\n",
              "      <td>0.997389</td>\n",
              "      <td>0.999440</td>\n",
              "      <td>02:39</td>\n",
              "    </tr>\n",
              "    <tr>\n",
              "      <td>4</td>\n",
              "      <td>0.586180</td>\n",
              "      <td>0.372691</td>\n",
              "      <td>0.997389</td>\n",
              "      <td>0.999280</td>\n",
              "      <td>02:39</td>\n",
              "    </tr>\n",
              "  </tbody>\n",
              "</table><p>\n",
              "\n",
              "    <div>\n",
              "        <style>\n",
              "            /* Turns off some styling */\n",
              "            progress {\n",
              "                /* gets rid of default border in Firefox and Opera. */\n",
              "                border: none;\n",
              "                /* Needs to be in here for Safari polyfill so background images work as expected. */\n",
              "                background-size: auto;\n",
              "            }\n",
              "            .progress-bar-interrupted, .progress-bar-interrupted::-webkit-progress-bar {\n",
              "                background: #F44336;\n",
              "            }\n",
              "        </style>\n",
              "      <progress value='13' class='' max='95' style='width:300px; height:20px; vertical-align: middle;'></progress>\n",
              "      13.68% [13/95 00:20<02:12 0.5874]\n",
              "    </div>\n",
              "    "
            ],
            "text/plain": [
              "<IPython.core.display.HTML object>"
            ]
          },
          "metadata": {
            "tags": []
          }
        },
        {
          "output_type": "stream",
          "text": [
            "Better model found at epoch 0 with valid_loss value: 0.3645288348197937.\n"
          ],
          "name": "stdout"
        }
      ]
    },
    {
      "cell_type": "code",
      "metadata": {
        "id": "yijPavROkx2X"
      },
      "source": [
        "# Prediciton with efficientnet 2 best model"
      ],
      "execution_count": null,
      "outputs": []
    },
    {
      "cell_type": "code",
      "metadata": {
        "id": "zb61ss27wA1c"
      },
      "source": [
        "dls = get_data(0)\n",
        "test_df = pd.read_csv(DATA_DIR/TEST_CSV)\n",
        "test_dl = dls.test_dl(test_df)"
      ],
      "execution_count": null,
      "outputs": []
    },
    {
      "cell_type": "code",
      "metadata": {
        "colab": {
          "base_uri": "https://localhost:8080/",
          "height": 195
        },
        "id": "fI0ibwnlwFEL",
        "outputId": "39308a6e-b74a-4f76-8e5a-c858258e6e3c"
      },
      "source": [
        "preds = []\n",
        "for i in range(N_FOLDS):\n",
        "  learn = get_learner(i, model=model)\n",
        "  learn.load(f'{DATA_DIR}/model/model_efficientnet2_best_fold_{i}')\n",
        "\n",
        "  test_preds, _ = learn.get_preds(dl=test_dl)\n",
        "  preds.append(test_preds)"
      ],
      "execution_count": null,
      "outputs": [
        {
          "output_type": "stream",
          "text": [
            "/usr/local/lib/python3.6/dist-packages/fastai/learner.py:54: UserWarning: Saved filed doesn't contain an optimizer state.\n",
            "  elif with_opt: warn(\"Saved filed doesn't contain an optimizer state.\")\n"
          ],
          "name": "stderr"
        },
        {
          "output_type": "display_data",
          "data": {
            "text/html": [
              ""
            ],
            "text/plain": [
              "<IPython.core.display.HTML object>"
            ]
          },
          "metadata": {
            "tags": []
          }
        },
        {
          "output_type": "stream",
          "text": [
            "/usr/local/lib/python3.6/dist-packages/fastai/learner.py:54: UserWarning: Saved filed doesn't contain an optimizer state.\n",
            "  elif with_opt: warn(\"Saved filed doesn't contain an optimizer state.\")\n"
          ],
          "name": "stderr"
        },
        {
          "output_type": "display_data",
          "data": {
            "text/html": [
              ""
            ],
            "text/plain": [
              "<IPython.core.display.HTML object>"
            ]
          },
          "metadata": {
            "tags": []
          }
        },
        {
          "output_type": "stream",
          "text": [
            "/usr/local/lib/python3.6/dist-packages/fastai/learner.py:54: UserWarning: Saved filed doesn't contain an optimizer state.\n",
            "  elif with_opt: warn(\"Saved filed doesn't contain an optimizer state.\")\n"
          ],
          "name": "stderr"
        },
        {
          "output_type": "display_data",
          "data": {
            "text/html": [
              ""
            ],
            "text/plain": [
              "<IPython.core.display.HTML object>"
            ]
          },
          "metadata": {
            "tags": []
          }
        },
        {
          "output_type": "stream",
          "text": [
            "/usr/local/lib/python3.6/dist-packages/fastai/learner.py:54: UserWarning: Saved filed doesn't contain an optimizer state.\n",
            "  elif with_opt: warn(\"Saved filed doesn't contain an optimizer state.\")\n"
          ],
          "name": "stderr"
        },
        {
          "output_type": "display_data",
          "data": {
            "text/html": [
              ""
            ],
            "text/plain": [
              "<IPython.core.display.HTML object>"
            ]
          },
          "metadata": {
            "tags": []
          }
        },
        {
          "output_type": "stream",
          "text": [
            "/usr/local/lib/python3.6/dist-packages/fastai/learner.py:54: UserWarning: Saved filed doesn't contain an optimizer state.\n",
            "  elif with_opt: warn(\"Saved filed doesn't contain an optimizer state.\")\n"
          ],
          "name": "stderr"
        },
        {
          "output_type": "display_data",
          "data": {
            "text/html": [
              ""
            ],
            "text/plain": [
              "<IPython.core.display.HTML object>"
            ]
          },
          "metadata": {
            "tags": []
          }
        }
      ]
    },
    {
      "cell_type": "code",
      "metadata": {
        "id": "OVHP0SXqwTI9"
      },
      "source": [
        "test_preds= np.mean(np.stack(preds), axis=0)"
      ],
      "execution_count": null,
      "outputs": []
    },
    {
      "cell_type": "code",
      "metadata": {
        "id": "DWVqz1esxB0L"
      },
      "source": [
        "sub_df = pd.concat([test_df, pd.DataFrame(test_preds, columns=LABELS)], axis=1)\n",
        "sub_df = sub_df[['image_id', 'healthy', 'multiple_diseases', 'rust', 'scab']]\n",
        "sub_df.to_csv(f'{DATA_DIR}/submission_efficient2_notta.csv', index=False)"
      ],
      "execution_count": null,
      "outputs": []
    },
    {
      "cell_type": "markdown",
      "metadata": {
        "id": "HdIAwRnbWZ3k"
      },
      "source": [
        "# Understanding which class we are performing well in"
      ]
    },
    {
      "cell_type": "code",
      "metadata": {
        "id": "XNv31zqkshPX"
      },
      "source": [
        "IMG_SIZE = 700\n",
        "BS = 8"
      ],
      "execution_count": null,
      "outputs": []
    },
    {
      "cell_type": "code",
      "metadata": {
        "id": "8ykXvXEA4s_Z"
      },
      "source": [
        "def get_data(fold):\n",
        "    \n",
        "    train_df_no_val = train_df[train_df['fold'] != {fold}]     #training set\n",
        "    train_df_just_val = train_df[train_df['fold'] == {fold}]   #validation set\n",
        "\n",
        "    train_df_bal = pd.concat(\n",
        "                   [train_df_no_val[train_df_no_val['label'] != \"multiple_diseases\"], train_df_just_val] +\n",
        "                   [train_df_no_val[train_df_no_val['label'] == 'multiple_diseases']] * 6\n",
        "                   ).sample(frac=1.0, random_state=SEED).reset_index(drop=True)\n",
        "\n",
        "    datablock = DataBlock(\n",
        "                blocks=(ImageBlock, CategoryBlock(vocab=LABELS)),\n",
        "                getters=[\n",
        "                ColReader('image_id', pref=IMG_DIR, suff='.jpg'),\n",
        "                ColReader('label')\n",
        "                ],\n",
        "                splitter=IndexSplitter(train_df_bal.loc[train_df_bal.fold==fold].index),\n",
        "                item_tfms=Resize(IMG_SIZE),\n",
        "                batch_tfms=[*aug_transforms(size=IMG_SIZE, max_rotate=30., min_scale=0.75, flip_vert=True, do_flip=True),\n",
        "                            Brightness(max_lighting=0.6, p=0.5),\n",
        "                            Contrast(max_lighting=0.6, p=0.5),\n",
        "                            Saturation(max_lighting=0.6, p=0.5),\n",
        "                            RandomErasing(),\n",
        "                            Normalize.from_stats(*imagenet_stats)]\n",
        "                )\n",
        "    return datablock.dataloaders(source=train_df_bal, bs=BS)"
      ],
      "execution_count": null,
      "outputs": []
    },
    {
      "cell_type": "code",
      "metadata": {
        "id": "YCkYWz3djJqE"
      },
      "source": [
        "class Model(nn.Module):\n",
        "    def __init__(self, model_arch, n_class, pretrained=False):\n",
        "        super().__init__()\n",
        "        self.model = timm.create_model(model_arch, pretrained=pretrained)\n",
        "        n_features = self.model.classifier.in_features\n",
        "        self.model.classifier = nn.Linear(n_features, n_class)\n",
        "        \n",
        "    def forward(self, x):\n",
        "        x = self.model(x)\n",
        "        return x"
      ],
      "execution_count": null,
      "outputs": []
    },
    {
      "cell_type": "code",
      "metadata": {
        "id": "5G3gJcOmio-M"
      },
      "source": [
        "def get_learner(fold_num, model):\n",
        "\n",
        "    data = get_data(fold_num)\n",
        "    opt_func = partial(Adam, lr=1e-3, wd=0.0005, eps=1e-8)\n",
        "    learn = Learner(\n",
        "        data, model, loss_func=LabelSmoothingCrossEntropy(),\n",
        "        opt_func = opt_func,\n",
        "        metrics=[accuracy, \n",
        "                 AccumMetric(comp_metric, flatten=False),\n",
        "                 AccumMetric(healthy_roc_auc, flatten=False),\n",
        "                 AccumMetric(multiple_diseases_roc_auc, flatten=False),\n",
        "                 AccumMetric(rust_roc_auc, flatten=False),\n",
        "                 AccumMetric(scab_roc_auc, flatten=False)],\n",
        "        cbs=MixUp()).to_fp16()\n",
        "\n",
        "    return learn"
      ],
      "execution_count": null,
      "outputs": []
    },
    {
      "cell_type": "code",
      "metadata": {
        "id": "TixCsD7vjRtr"
      },
      "source": [
        "model = Model('tf_efficientnet_b3_ns', len(LABELS), pretrained=True)"
      ],
      "execution_count": null,
      "outputs": []
    },
    {
      "cell_type": "code",
      "metadata": {
        "id": "pm84Bcgbi7Vd"
      },
      "source": [
        "learn = get_learner(0, model)"
      ],
      "execution_count": null,
      "outputs": []
    },
    {
      "cell_type": "code",
      "metadata": {
        "colab": {
          "base_uri": "https://localhost:8080/",
          "height": 141
        },
        "id": "__LeIkFZjzOY",
        "outputId": "aa82d492-8d32-4c41-8477-764dcc8f3c6f"
      },
      "source": [
        "learn.fit_one_cycle(3)"
      ],
      "execution_count": null,
      "outputs": [
        {
          "output_type": "display_data",
          "data": {
            "text/html": [
              "<table border=\"1\" class=\"dataframe\">\n",
              "  <thead>\n",
              "    <tr style=\"text-align: left;\">\n",
              "      <th>epoch</th>\n",
              "      <th>train_loss</th>\n",
              "      <th>valid_loss</th>\n",
              "      <th>accuracy</th>\n",
              "      <th>comp_metric</th>\n",
              "      <th>healthy_roc_auc</th>\n",
              "      <th>multiple_diseases_roc_auc</th>\n",
              "      <th>rust_roc_auc</th>\n",
              "      <th>scab_roc_auc</th>\n",
              "      <th>time</th>\n",
              "    </tr>\n",
              "  </thead>\n",
              "  <tbody>\n",
              "    <tr>\n",
              "      <td>0</td>\n",
              "      <td>1.050382</td>\n",
              "      <td>0.726290</td>\n",
              "      <td>0.777533</td>\n",
              "      <td>0.928690</td>\n",
              "      <td>0.987608</td>\n",
              "      <td>0.778741</td>\n",
              "      <td>0.992009</td>\n",
              "      <td>0.956403</td>\n",
              "      <td>03:08</td>\n",
              "    </tr>\n",
              "    <tr>\n",
              "      <td>1</td>\n",
              "      <td>0.930570</td>\n",
              "      <td>0.590497</td>\n",
              "      <td>0.881057</td>\n",
              "      <td>0.973847</td>\n",
              "      <td>0.983763</td>\n",
              "      <td>0.936737</td>\n",
              "      <td>0.996285</td>\n",
              "      <td>0.978603</td>\n",
              "      <td>03:08</td>\n",
              "    </tr>\n",
              "    <tr>\n",
              "      <td>2</td>\n",
              "      <td>0.817150</td>\n",
              "      <td>0.557378</td>\n",
              "      <td>0.933921</td>\n",
              "      <td>0.971314</td>\n",
              "      <td>0.987193</td>\n",
              "      <td>0.915543</td>\n",
              "      <td>0.999853</td>\n",
              "      <td>0.982666</td>\n",
              "      <td>03:07</td>\n",
              "    </tr>\n",
              "  </tbody>\n",
              "</table>"
            ],
            "text/plain": [
              "<IPython.core.display.HTML object>"
            ]
          },
          "metadata": {
            "tags": []
          }
        }
      ]
    },
    {
      "cell_type": "code",
      "metadata": {
        "colab": {
          "background_save": true,
          "base_uri": "https://localhost:8080/",
          "height": 125
        },
        "id": "TznPLH6ykbmY",
        "outputId": "aef820cb-bda8-48cb-e70f-1bc424f25823"
      },
      "source": [
        "learn.fit_one_cycle(3)"
      ],
      "execution_count": null,
      "outputs": [
        {
          "output_type": "display_data",
          "data": {
            "text/html": [
              "<table border=\"1\" class=\"dataframe\">\n",
              "  <thead>\n",
              "    <tr style=\"text-align: left;\">\n",
              "      <th>epoch</th>\n",
              "      <th>train_loss</th>\n",
              "      <th>valid_loss</th>\n",
              "      <th>accuracy</th>\n",
              "      <th>comp_metric</th>\n",
              "      <th>healthy_roc_auc</th>\n",
              "      <th>multiple_diseases_roc_auc</th>\n",
              "      <th>rust_roc_auc</th>\n",
              "      <th>scab_roc_auc</th>\n",
              "      <th>time</th>\n",
              "    </tr>\n",
              "  </thead>\n",
              "  <tbody>\n",
              "    <tr>\n",
              "      <td>0</td>\n",
              "      <td>0.964456</td>\n",
              "      <td>0.588492</td>\n",
              "      <td>0.878855</td>\n",
              "      <td>0.970957</td>\n",
              "      <td>0.980693</td>\n",
              "      <td>0.919075</td>\n",
              "      <td>0.999413</td>\n",
              "      <td>0.984648</td>\n",
              "      <td>03:09</td>\n",
              "    </tr>\n",
              "    <tr>\n",
              "      <td>1</td>\n",
              "      <td>0.858294</td>\n",
              "      <td>0.602769</td>\n",
              "      <td>0.863436</td>\n",
              "      <td>0.975594</td>\n",
              "      <td>0.991287</td>\n",
              "      <td>0.927103</td>\n",
              "      <td>0.995650</td>\n",
              "      <td>0.988336</td>\n",
              "      <td>03:10</td>\n",
              "    </tr>\n",
              "    <tr>\n",
              "      <td>2</td>\n",
              "      <td>0.796666</td>\n",
              "      <td>0.544046</td>\n",
              "      <td>0.920705</td>\n",
              "      <td>0.983513</td>\n",
              "      <td>0.983902</td>\n",
              "      <td>0.957129</td>\n",
              "      <td>0.999218</td>\n",
              "      <td>0.993804</td>\n",
              "      <td>03:06</td>\n",
              "    </tr>\n",
              "  </tbody>\n",
              "</table>"
            ],
            "text/plain": [
              "<IPython.core.display.HTML object>"
            ]
          },
          "metadata": {
            "tags": []
          }
        }
      ]
    }
  ]
}
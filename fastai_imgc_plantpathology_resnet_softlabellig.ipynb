{
  "nbformat": 4,
  "nbformat_minor": 0,
  "metadata": {
    "colab": {
      "name": "fastai_imgc_plantpathology_resnet_softlabellig.ipynb",
      "provenance": [],
      "collapsed_sections": [
        "koJN5rte44Ql",
        "kSAzTyj2-Yjv"
      ],
      "authorship_tag": "ABX9TyN6P5LgAEtxu7YCmj2XipHS",
      "include_colab_link": true
    },
    "kernelspec": {
      "name": "python3",
      "display_name": "Python 3"
    },
    "accelerator": "GPU",
    "widgets": {
      "application/vnd.jupyter.widget-state+json": {
        "4a55b2f3f851409490cc6ce1e6b3f46e": {
          "model_module": "@jupyter-widgets/controls",
          "model_name": "HBoxModel",
          "state": {
            "_view_name": "HBoxView",
            "_dom_classes": [],
            "_model_name": "HBoxModel",
            "_view_module": "@jupyter-widgets/controls",
            "_model_module_version": "1.5.0",
            "_view_count": null,
            "_view_module_version": "1.5.0",
            "box_style": "",
            "layout": "IPY_MODEL_7c924c797bcc44c294a16400de2cb50f",
            "_model_module": "@jupyter-widgets/controls",
            "children": [
              "IPY_MODEL_e6e8dd7a317540888ed88e447a223f05",
              "IPY_MODEL_2405030f86c14713adf7545dbbd6bc29"
            ]
          }
        },
        "7c924c797bcc44c294a16400de2cb50f": {
          "model_module": "@jupyter-widgets/base",
          "model_name": "LayoutModel",
          "state": {
            "_view_name": "LayoutView",
            "grid_template_rows": null,
            "right": null,
            "justify_content": null,
            "_view_module": "@jupyter-widgets/base",
            "overflow": null,
            "_model_module_version": "1.2.0",
            "_view_count": null,
            "flex_flow": null,
            "width": null,
            "min_width": null,
            "border": null,
            "align_items": null,
            "bottom": null,
            "_model_module": "@jupyter-widgets/base",
            "top": null,
            "grid_column": null,
            "overflow_y": null,
            "overflow_x": null,
            "grid_auto_flow": null,
            "grid_area": null,
            "grid_template_columns": null,
            "flex": null,
            "_model_name": "LayoutModel",
            "justify_items": null,
            "grid_row": null,
            "max_height": null,
            "align_content": null,
            "visibility": null,
            "align_self": null,
            "height": null,
            "min_height": null,
            "padding": null,
            "grid_auto_rows": null,
            "grid_gap": null,
            "max_width": null,
            "order": null,
            "_view_module_version": "1.2.0",
            "grid_template_areas": null,
            "object_position": null,
            "object_fit": null,
            "grid_auto_columns": null,
            "margin": null,
            "display": null,
            "left": null
          }
        },
        "e6e8dd7a317540888ed88e447a223f05": {
          "model_module": "@jupyter-widgets/controls",
          "model_name": "FloatProgressModel",
          "state": {
            "_view_name": "ProgressView",
            "style": "IPY_MODEL_25203213ed854965abe14c16d66d097f",
            "_dom_classes": [],
            "description": "100%",
            "_model_name": "FloatProgressModel",
            "bar_style": "success",
            "max": 178728960,
            "_view_module": "@jupyter-widgets/controls",
            "_model_module_version": "1.5.0",
            "value": 178728960,
            "_view_count": null,
            "_view_module_version": "1.5.0",
            "orientation": "horizontal",
            "min": 0,
            "description_tooltip": null,
            "_model_module": "@jupyter-widgets/controls",
            "layout": "IPY_MODEL_9ba5d905774243909a4471ff05cc44c8"
          }
        },
        "2405030f86c14713adf7545dbbd6bc29": {
          "model_module": "@jupyter-widgets/controls",
          "model_name": "HTMLModel",
          "state": {
            "_view_name": "HTMLView",
            "style": "IPY_MODEL_beaef99c6058494abf13ee57ebc861d3",
            "_dom_classes": [],
            "description": "",
            "_model_name": "HTMLModel",
            "placeholder": "​",
            "_view_module": "@jupyter-widgets/controls",
            "_model_module_version": "1.5.0",
            "value": " 170M/170M [00:02&lt;00:00, 62.7MB/s]",
            "_view_count": null,
            "_view_module_version": "1.5.0",
            "description_tooltip": null,
            "_model_module": "@jupyter-widgets/controls",
            "layout": "IPY_MODEL_3f11af4bd0f34a9d969b27f2016f0337"
          }
        },
        "25203213ed854965abe14c16d66d097f": {
          "model_module": "@jupyter-widgets/controls",
          "model_name": "ProgressStyleModel",
          "state": {
            "_view_name": "StyleView",
            "_model_name": "ProgressStyleModel",
            "description_width": "initial",
            "_view_module": "@jupyter-widgets/base",
            "_model_module_version": "1.5.0",
            "_view_count": null,
            "_view_module_version": "1.2.0",
            "bar_color": null,
            "_model_module": "@jupyter-widgets/controls"
          }
        },
        "9ba5d905774243909a4471ff05cc44c8": {
          "model_module": "@jupyter-widgets/base",
          "model_name": "LayoutModel",
          "state": {
            "_view_name": "LayoutView",
            "grid_template_rows": null,
            "right": null,
            "justify_content": null,
            "_view_module": "@jupyter-widgets/base",
            "overflow": null,
            "_model_module_version": "1.2.0",
            "_view_count": null,
            "flex_flow": null,
            "width": null,
            "min_width": null,
            "border": null,
            "align_items": null,
            "bottom": null,
            "_model_module": "@jupyter-widgets/base",
            "top": null,
            "grid_column": null,
            "overflow_y": null,
            "overflow_x": null,
            "grid_auto_flow": null,
            "grid_area": null,
            "grid_template_columns": null,
            "flex": null,
            "_model_name": "LayoutModel",
            "justify_items": null,
            "grid_row": null,
            "max_height": null,
            "align_content": null,
            "visibility": null,
            "align_self": null,
            "height": null,
            "min_height": null,
            "padding": null,
            "grid_auto_rows": null,
            "grid_gap": null,
            "max_width": null,
            "order": null,
            "_view_module_version": "1.2.0",
            "grid_template_areas": null,
            "object_position": null,
            "object_fit": null,
            "grid_auto_columns": null,
            "margin": null,
            "display": null,
            "left": null
          }
        },
        "beaef99c6058494abf13ee57ebc861d3": {
          "model_module": "@jupyter-widgets/controls",
          "model_name": "DescriptionStyleModel",
          "state": {
            "_view_name": "StyleView",
            "_model_name": "DescriptionStyleModel",
            "description_width": "",
            "_view_module": "@jupyter-widgets/base",
            "_model_module_version": "1.5.0",
            "_view_count": null,
            "_view_module_version": "1.2.0",
            "_model_module": "@jupyter-widgets/controls"
          }
        },
        "3f11af4bd0f34a9d969b27f2016f0337": {
          "model_module": "@jupyter-widgets/base",
          "model_name": "LayoutModel",
          "state": {
            "_view_name": "LayoutView",
            "grid_template_rows": null,
            "right": null,
            "justify_content": null,
            "_view_module": "@jupyter-widgets/base",
            "overflow": null,
            "_model_module_version": "1.2.0",
            "_view_count": null,
            "flex_flow": null,
            "width": null,
            "min_width": null,
            "border": null,
            "align_items": null,
            "bottom": null,
            "_model_module": "@jupyter-widgets/base",
            "top": null,
            "grid_column": null,
            "overflow_y": null,
            "overflow_x": null,
            "grid_auto_flow": null,
            "grid_area": null,
            "grid_template_columns": null,
            "flex": null,
            "_model_name": "LayoutModel",
            "justify_items": null,
            "grid_row": null,
            "max_height": null,
            "align_content": null,
            "visibility": null,
            "align_self": null,
            "height": null,
            "min_height": null,
            "padding": null,
            "grid_auto_rows": null,
            "grid_gap": null,
            "max_width": null,
            "order": null,
            "_view_module_version": "1.2.0",
            "grid_template_areas": null,
            "object_position": null,
            "object_fit": null,
            "grid_auto_columns": null,
            "margin": null,
            "display": null,
            "left": null
          }
        },
        "c9b371e93225452fbcf7fdc33efa7ad1": {
          "model_module": "@jupyter-widgets/controls",
          "model_name": "HBoxModel",
          "state": {
            "_view_name": "HBoxView",
            "_dom_classes": [],
            "_model_name": "HBoxModel",
            "_view_module": "@jupyter-widgets/controls",
            "_model_module_version": "1.5.0",
            "_view_count": null,
            "_view_module_version": "1.5.0",
            "box_style": "",
            "layout": "IPY_MODEL_6171b207f25c41b6949da69f47830297",
            "_model_module": "@jupyter-widgets/controls",
            "children": [
              "IPY_MODEL_cbe3ad0ab9184f689195e898613cb689",
              "IPY_MODEL_b413c42524da464b8ba18dbddb810d3a"
            ]
          }
        },
        "6171b207f25c41b6949da69f47830297": {
          "model_module": "@jupyter-widgets/base",
          "model_name": "LayoutModel",
          "state": {
            "_view_name": "LayoutView",
            "grid_template_rows": null,
            "right": null,
            "justify_content": null,
            "_view_module": "@jupyter-widgets/base",
            "overflow": null,
            "_model_module_version": "1.2.0",
            "_view_count": null,
            "flex_flow": null,
            "width": null,
            "min_width": null,
            "border": null,
            "align_items": null,
            "bottom": null,
            "_model_module": "@jupyter-widgets/base",
            "top": null,
            "grid_column": null,
            "overflow_y": null,
            "overflow_x": null,
            "grid_auto_flow": null,
            "grid_area": null,
            "grid_template_columns": null,
            "flex": null,
            "_model_name": "LayoutModel",
            "justify_items": null,
            "grid_row": null,
            "max_height": null,
            "align_content": null,
            "visibility": null,
            "align_self": null,
            "height": null,
            "min_height": null,
            "padding": null,
            "grid_auto_rows": null,
            "grid_gap": null,
            "max_width": null,
            "order": null,
            "_view_module_version": "1.2.0",
            "grid_template_areas": null,
            "object_position": null,
            "object_fit": null,
            "grid_auto_columns": null,
            "margin": null,
            "display": null,
            "left": null
          }
        },
        "cbe3ad0ab9184f689195e898613cb689": {
          "model_module": "@jupyter-widgets/controls",
          "model_name": "FloatProgressModel",
          "state": {
            "_view_name": "ProgressView",
            "style": "IPY_MODEL_b3ba8369b1da4a18990a4dcd8eabf7bb",
            "_dom_classes": [],
            "description": "100%",
            "_model_name": "FloatProgressModel",
            "bar_style": "success",
            "max": 178728960,
            "_view_module": "@jupyter-widgets/controls",
            "_model_module_version": "1.5.0",
            "value": 178728960,
            "_view_count": null,
            "_view_module_version": "1.5.0",
            "orientation": "horizontal",
            "min": 0,
            "description_tooltip": null,
            "_model_module": "@jupyter-widgets/controls",
            "layout": "IPY_MODEL_b37e94ce20a841a4b1eb21015027f2b0"
          }
        },
        "b413c42524da464b8ba18dbddb810d3a": {
          "model_module": "@jupyter-widgets/controls",
          "model_name": "HTMLModel",
          "state": {
            "_view_name": "HTMLView",
            "style": "IPY_MODEL_cee03e8681dd4291b5c196adec386de0",
            "_dom_classes": [],
            "description": "",
            "_model_name": "HTMLModel",
            "placeholder": "​",
            "_view_module": "@jupyter-widgets/controls",
            "_model_module_version": "1.5.0",
            "value": " 170M/170M [00:01&lt;00:00, 113MB/s]",
            "_view_count": null,
            "_view_module_version": "1.5.0",
            "description_tooltip": null,
            "_model_module": "@jupyter-widgets/controls",
            "layout": "IPY_MODEL_20e8d77cf8b44f6fa390ff95de1b9350"
          }
        },
        "b3ba8369b1da4a18990a4dcd8eabf7bb": {
          "model_module": "@jupyter-widgets/controls",
          "model_name": "ProgressStyleModel",
          "state": {
            "_view_name": "StyleView",
            "_model_name": "ProgressStyleModel",
            "description_width": "initial",
            "_view_module": "@jupyter-widgets/base",
            "_model_module_version": "1.5.0",
            "_view_count": null,
            "_view_module_version": "1.2.0",
            "bar_color": null,
            "_model_module": "@jupyter-widgets/controls"
          }
        },
        "b37e94ce20a841a4b1eb21015027f2b0": {
          "model_module": "@jupyter-widgets/base",
          "model_name": "LayoutModel",
          "state": {
            "_view_name": "LayoutView",
            "grid_template_rows": null,
            "right": null,
            "justify_content": null,
            "_view_module": "@jupyter-widgets/base",
            "overflow": null,
            "_model_module_version": "1.2.0",
            "_view_count": null,
            "flex_flow": null,
            "width": null,
            "min_width": null,
            "border": null,
            "align_items": null,
            "bottom": null,
            "_model_module": "@jupyter-widgets/base",
            "top": null,
            "grid_column": null,
            "overflow_y": null,
            "overflow_x": null,
            "grid_auto_flow": null,
            "grid_area": null,
            "grid_template_columns": null,
            "flex": null,
            "_model_name": "LayoutModel",
            "justify_items": null,
            "grid_row": null,
            "max_height": null,
            "align_content": null,
            "visibility": null,
            "align_self": null,
            "height": null,
            "min_height": null,
            "padding": null,
            "grid_auto_rows": null,
            "grid_gap": null,
            "max_width": null,
            "order": null,
            "_view_module_version": "1.2.0",
            "grid_template_areas": null,
            "object_position": null,
            "object_fit": null,
            "grid_auto_columns": null,
            "margin": null,
            "display": null,
            "left": null
          }
        },
        "cee03e8681dd4291b5c196adec386de0": {
          "model_module": "@jupyter-widgets/controls",
          "model_name": "DescriptionStyleModel",
          "state": {
            "_view_name": "StyleView",
            "_model_name": "DescriptionStyleModel",
            "description_width": "",
            "_view_module": "@jupyter-widgets/base",
            "_model_module_version": "1.5.0",
            "_view_count": null,
            "_view_module_version": "1.2.0",
            "_model_module": "@jupyter-widgets/controls"
          }
        },
        "20e8d77cf8b44f6fa390ff95de1b9350": {
          "model_module": "@jupyter-widgets/base",
          "model_name": "LayoutModel",
          "state": {
            "_view_name": "LayoutView",
            "grid_template_rows": null,
            "right": null,
            "justify_content": null,
            "_view_module": "@jupyter-widgets/base",
            "overflow": null,
            "_model_module_version": "1.2.0",
            "_view_count": null,
            "flex_flow": null,
            "width": null,
            "min_width": null,
            "border": null,
            "align_items": null,
            "bottom": null,
            "_model_module": "@jupyter-widgets/base",
            "top": null,
            "grid_column": null,
            "overflow_y": null,
            "overflow_x": null,
            "grid_auto_flow": null,
            "grid_area": null,
            "grid_template_columns": null,
            "flex": null,
            "_model_name": "LayoutModel",
            "justify_items": null,
            "grid_row": null,
            "max_height": null,
            "align_content": null,
            "visibility": null,
            "align_self": null,
            "height": null,
            "min_height": null,
            "padding": null,
            "grid_auto_rows": null,
            "grid_gap": null,
            "max_width": null,
            "order": null,
            "_view_module_version": "1.2.0",
            "grid_template_areas": null,
            "object_position": null,
            "object_fit": null,
            "grid_auto_columns": null,
            "margin": null,
            "display": null,
            "left": null
          }
        }
      }
    }
  },
  "cells": [
    {
      "cell_type": "markdown",
      "metadata": {
        "id": "view-in-github",
        "colab_type": "text"
      },
      "source": [
        "<a href=\"https://colab.research.google.com/github/moarshy/PyTorch_fastai_Projects/blob/main/fastai_imgc_plantpathology_resnet_softlabellig.ipynb\" target=\"_parent\"><img src=\"https://colab.research.google.com/assets/colab-badge.svg\" alt=\"Open In Colab\"/></a>"
      ]
    },
    {
      "cell_type": "markdown",
      "metadata": {
        "id": "P2zAYJZY4nFv"
      },
      "source": [
        "In this notebook softlabelling was implemented to reduce the impact of noisy labels in this [Kaggle competition](https://www.kaggle.com/c/plant-pathology-2020-fgvc7/overview)\r\n",
        "\r\n",
        "References:\r\n",
        "\r\n",
        "[notebooks](https://github.com/Isaac-Flath/kaggle/tree/main/2020-competitions/Plant_Pathology)\r\n",
        "\r\n",
        "[Isaac's Blog](https://isaac-flath.github.io/blog/deep%20learning/2021/01/18/SoftLabeling.html)"
      ]
    },
    {
      "cell_type": "code",
      "metadata": {
        "colab": {
          "base_uri": "https://localhost:8080/"
        },
        "id": "P_sADKZt4GTq",
        "outputId": "34c3721c-7bca-4e3d-a13d-e1652978c1c0"
      },
      "source": [
        "from google.colab import drive\r\n",
        "drive.mount('/content/drive')"
      ],
      "execution_count": 1,
      "outputs": [
        {
          "output_type": "stream",
          "text": [
            "Drive already mounted at /content/drive; to attempt to forcibly remount, call drive.mount(\"/content/drive\", force_remount=True).\n"
          ],
          "name": "stdout"
        }
      ]
    },
    {
      "cell_type": "code",
      "metadata": {
        "id": "Vc7CgwwU4jXr"
      },
      "source": [
        "!pip install fastai -q --upgrade"
      ],
      "execution_count": 2,
      "outputs": []
    },
    {
      "cell_type": "code",
      "metadata": {
        "id": "j8ts7sPt4zgZ"
      },
      "source": [
        "from fastai.vision.all import *\r\n",
        "from sklearn.model_selection import StratifiedKFold\r\n",
        "import gc"
      ],
      "execution_count": 3,
      "outputs": []
    },
    {
      "cell_type": "code",
      "metadata": {
        "id": "aYBOkyUE6vz_"
      },
      "source": [
        "SEED = 42\r\n",
        "set_seed(SEED)\r\n",
        "path = Path('/content/drive/MyDrive/colab_notebooks/fastai/plant_pathology/data')"
      ],
      "execution_count": 4,
      "outputs": []
    },
    {
      "cell_type": "markdown",
      "metadata": {
        "id": "koJN5rte44Ql"
      },
      "source": [
        "# PseudoLabel generation"
      ]
    },
    {
      "cell_type": "code",
      "metadata": {
        "id": "HOdaPjPO5JHh"
      },
      "source": [
        "df = pd.read_csv(path/'train.csv')"
      ],
      "execution_count": 6,
      "outputs": []
    },
    {
      "cell_type": "code",
      "metadata": {
        "colab": {
          "base_uri": "https://localhost:8080/",
          "height": 200
        },
        "id": "d3lJpALB5UZW",
        "outputId": "9c5e736f-0a94-42c5-db26-224be3ed3127"
      },
      "source": [
        "df.head()"
      ],
      "execution_count": 7,
      "outputs": [
        {
          "output_type": "execute_result",
          "data": {
            "text/html": [
              "<div>\n",
              "<style scoped>\n",
              "    .dataframe tbody tr th:only-of-type {\n",
              "        vertical-align: middle;\n",
              "    }\n",
              "\n",
              "    .dataframe tbody tr th {\n",
              "        vertical-align: top;\n",
              "    }\n",
              "\n",
              "    .dataframe thead th {\n",
              "        text-align: right;\n",
              "    }\n",
              "</style>\n",
              "<table border=\"1\" class=\"dataframe\">\n",
              "  <thead>\n",
              "    <tr style=\"text-align: right;\">\n",
              "      <th></th>\n",
              "      <th>image_id</th>\n",
              "      <th>healthy</th>\n",
              "      <th>multiple_diseases</th>\n",
              "      <th>rust</th>\n",
              "      <th>scab</th>\n",
              "    </tr>\n",
              "  </thead>\n",
              "  <tbody>\n",
              "    <tr>\n",
              "      <th>0</th>\n",
              "      <td>Train_0</td>\n",
              "      <td>0</td>\n",
              "      <td>0</td>\n",
              "      <td>0</td>\n",
              "      <td>1</td>\n",
              "    </tr>\n",
              "    <tr>\n",
              "      <th>1</th>\n",
              "      <td>Train_1</td>\n",
              "      <td>0</td>\n",
              "      <td>1</td>\n",
              "      <td>0</td>\n",
              "      <td>0</td>\n",
              "    </tr>\n",
              "    <tr>\n",
              "      <th>2</th>\n",
              "      <td>Train_2</td>\n",
              "      <td>1</td>\n",
              "      <td>0</td>\n",
              "      <td>0</td>\n",
              "      <td>0</td>\n",
              "    </tr>\n",
              "    <tr>\n",
              "      <th>3</th>\n",
              "      <td>Train_3</td>\n",
              "      <td>0</td>\n",
              "      <td>0</td>\n",
              "      <td>1</td>\n",
              "      <td>0</td>\n",
              "    </tr>\n",
              "    <tr>\n",
              "      <th>4</th>\n",
              "      <td>Train_4</td>\n",
              "      <td>1</td>\n",
              "      <td>0</td>\n",
              "      <td>0</td>\n",
              "      <td>0</td>\n",
              "    </tr>\n",
              "  </tbody>\n",
              "</table>\n",
              "</div>"
            ],
            "text/plain": [
              "  image_id  healthy  multiple_diseases  rust  scab\n",
              "0  Train_0        0                  0     0     1\n",
              "1  Train_1        0                  1     0     0\n",
              "2  Train_2        1                  0     0     0\n",
              "3  Train_3        0                  0     1     0\n",
              "4  Train_4        1                  0     0     0"
            ]
          },
          "metadata": {
            "tags": []
          },
          "execution_count": 7
        }
      ]
    },
    {
      "cell_type": "code",
      "metadata": {
        "id": "xPZX5CZr6fcw"
      },
      "source": [
        "df['label'] = df.iloc[:, 1:].idxmax(1)"
      ],
      "execution_count": 8,
      "outputs": []
    },
    {
      "cell_type": "code",
      "metadata": {
        "id": "0jXqsrSR6RpH"
      },
      "source": [
        "#create folds\r\n",
        "N_FOLDS = 2\r\n",
        "df['fold'] = -1\r\n",
        "\r\n",
        "strat_kfold = StratifiedKFold(n_splits=N_FOLDS, random_state=SEED, shuffle=True)\r\n",
        "for i, (_, test_index) in enumerate(strat_kfold.split(df.image_id.values, df['label'].values)):\r\n",
        "    df.iloc[test_index, -1] = i\r\n",
        "    \r\n",
        "df['fold'] = df['fold'].astype('int')"
      ],
      "execution_count": 9,
      "outputs": []
    },
    {
      "cell_type": "code",
      "metadata": {
        "colab": {
          "base_uri": "https://localhost:8080/",
          "height": 352
        },
        "id": "J4jtpJmn60lf",
        "outputId": "e04f69f6-f732-47f8-e7ce-c2ddaa9a9c4a"
      },
      "source": [
        "df.head(10)"
      ],
      "execution_count": 10,
      "outputs": [
        {
          "output_type": "execute_result",
          "data": {
            "text/html": [
              "<div>\n",
              "<style scoped>\n",
              "    .dataframe tbody tr th:only-of-type {\n",
              "        vertical-align: middle;\n",
              "    }\n",
              "\n",
              "    .dataframe tbody tr th {\n",
              "        vertical-align: top;\n",
              "    }\n",
              "\n",
              "    .dataframe thead th {\n",
              "        text-align: right;\n",
              "    }\n",
              "</style>\n",
              "<table border=\"1\" class=\"dataframe\">\n",
              "  <thead>\n",
              "    <tr style=\"text-align: right;\">\n",
              "      <th></th>\n",
              "      <th>image_id</th>\n",
              "      <th>healthy</th>\n",
              "      <th>multiple_diseases</th>\n",
              "      <th>rust</th>\n",
              "      <th>scab</th>\n",
              "      <th>label</th>\n",
              "      <th>fold</th>\n",
              "    </tr>\n",
              "  </thead>\n",
              "  <tbody>\n",
              "    <tr>\n",
              "      <th>0</th>\n",
              "      <td>Train_0</td>\n",
              "      <td>0</td>\n",
              "      <td>0</td>\n",
              "      <td>0</td>\n",
              "      <td>1</td>\n",
              "      <td>scab</td>\n",
              "      <td>1</td>\n",
              "    </tr>\n",
              "    <tr>\n",
              "      <th>1</th>\n",
              "      <td>Train_1</td>\n",
              "      <td>0</td>\n",
              "      <td>1</td>\n",
              "      <td>0</td>\n",
              "      <td>0</td>\n",
              "      <td>multiple_diseases</td>\n",
              "      <td>1</td>\n",
              "    </tr>\n",
              "    <tr>\n",
              "      <th>2</th>\n",
              "      <td>Train_2</td>\n",
              "      <td>1</td>\n",
              "      <td>0</td>\n",
              "      <td>0</td>\n",
              "      <td>0</td>\n",
              "      <td>healthy</td>\n",
              "      <td>0</td>\n",
              "    </tr>\n",
              "    <tr>\n",
              "      <th>3</th>\n",
              "      <td>Train_3</td>\n",
              "      <td>0</td>\n",
              "      <td>0</td>\n",
              "      <td>1</td>\n",
              "      <td>0</td>\n",
              "      <td>rust</td>\n",
              "      <td>0</td>\n",
              "    </tr>\n",
              "    <tr>\n",
              "      <th>4</th>\n",
              "      <td>Train_4</td>\n",
              "      <td>1</td>\n",
              "      <td>0</td>\n",
              "      <td>0</td>\n",
              "      <td>0</td>\n",
              "      <td>healthy</td>\n",
              "      <td>1</td>\n",
              "    </tr>\n",
              "    <tr>\n",
              "      <th>5</th>\n",
              "      <td>Train_5</td>\n",
              "      <td>1</td>\n",
              "      <td>0</td>\n",
              "      <td>0</td>\n",
              "      <td>0</td>\n",
              "      <td>healthy</td>\n",
              "      <td>0</td>\n",
              "    </tr>\n",
              "    <tr>\n",
              "      <th>6</th>\n",
              "      <td>Train_6</td>\n",
              "      <td>0</td>\n",
              "      <td>1</td>\n",
              "      <td>0</td>\n",
              "      <td>0</td>\n",
              "      <td>multiple_diseases</td>\n",
              "      <td>1</td>\n",
              "    </tr>\n",
              "    <tr>\n",
              "      <th>7</th>\n",
              "      <td>Train_7</td>\n",
              "      <td>0</td>\n",
              "      <td>0</td>\n",
              "      <td>0</td>\n",
              "      <td>1</td>\n",
              "      <td>scab</td>\n",
              "      <td>1</td>\n",
              "    </tr>\n",
              "    <tr>\n",
              "      <th>8</th>\n",
              "      <td>Train_8</td>\n",
              "      <td>0</td>\n",
              "      <td>0</td>\n",
              "      <td>0</td>\n",
              "      <td>1</td>\n",
              "      <td>scab</td>\n",
              "      <td>0</td>\n",
              "    </tr>\n",
              "    <tr>\n",
              "      <th>9</th>\n",
              "      <td>Train_9</td>\n",
              "      <td>1</td>\n",
              "      <td>0</td>\n",
              "      <td>0</td>\n",
              "      <td>0</td>\n",
              "      <td>healthy</td>\n",
              "      <td>1</td>\n",
              "    </tr>\n",
              "  </tbody>\n",
              "</table>\n",
              "</div>"
            ],
            "text/plain": [
              "  image_id  healthy  multiple_diseases  rust  scab              label  fold\n",
              "0  Train_0        0                  0     0     1               scab     1\n",
              "1  Train_1        0                  1     0     0  multiple_diseases     1\n",
              "2  Train_2        1                  0     0     0            healthy     0\n",
              "3  Train_3        0                  0     1     0               rust     0\n",
              "4  Train_4        1                  0     0     0            healthy     1\n",
              "5  Train_5        1                  0     0     0            healthy     0\n",
              "6  Train_6        0                  1     0     0  multiple_diseases     1\n",
              "7  Train_7        0                  0     0     1               scab     1\n",
              "8  Train_8        0                  0     0     1               scab     0\n",
              "9  Train_9        1                  0     0     0            healthy     1"
            ]
          },
          "metadata": {
            "tags": []
          },
          "execution_count": 10
        }
      ]
    },
    {
      "cell_type": "code",
      "metadata": {
        "id": "wTCDW__G5ZOi"
      },
      "source": [
        "def get_dls(df, size, fold, bs):\r\n",
        "\r\n",
        "    batch_tfms = [Normalize.from_stats(*imagenet_stats)]\r\n",
        "    dblock = DataBlock(blocks=(ImageBlock, CategoryBlock),\r\n",
        "                       splitter=IndexSplitter(df.loc[df.fold==fold].index),\r\n",
        "                       getters=[\r\n",
        "                          ColReader('image_id', pref=path/'images', suff='.jpg'),\r\n",
        "                          ColReader('label')\r\n",
        "                              ],\r\n",
        "                       item_tfms=[RandomResizedCrop(size, min_scale=0.35), FlipItem(0.5)],\r\n",
        "                       batch_tfms=batch_tfms)\r\n",
        "    return dblock.dataloaders(df, bs=bs)"
      ],
      "execution_count": 11,
      "outputs": []
    },
    {
      "cell_type": "code",
      "metadata": {
        "colab": {
          "base_uri": "https://localhost:8080/",
          "height": 536
        },
        "id": "xGd0L9yN7BFC",
        "outputId": "2440ec25-d172-4f6e-85a8-925586db77de"
      },
      "source": [
        "dls = get_dls(df, 224, 0, bs=16)\r\n",
        "dls.show_batch()"
      ],
      "execution_count": 12,
      "outputs": [
        {
          "output_type": "display_data",
          "data": {
            "image/png": "[encoded data removed]",
            "text/plain": [
              "<Figure size 648x648 with 9 Axes>"
            ]
          },
          "metadata": {
            "tags": [],
            "needs_background": "light"
          }
        }
      ]
    },
    {
      "cell_type": "code",
      "metadata": {
        "colab": {
          "base_uri": "https://localhost:8080/",
          "height": 810
        },
        "id": "aB1cPlua7IG2",
        "outputId": "c9e24ac6-7b03-40dd-f7f7-f67dcbb22d5e"
      },
      "source": [
        "splits, preds, targs, preds_c,  = [],[],[],[]\r\n",
        "items = pd.DataFrame(columns = df.columns)\r\n",
        "\r\n",
        "for i in range(N_FOLDS):\r\n",
        "\r\n",
        "    dls = get_dls(df, 224, i, bs=16)\r\n",
        "\r\n",
        "    learn = cnn_learner(dls, resnet18, metrics=[accuracy,RocAuc()])\r\n",
        "    learn.fine_tune(10, reset_opt=True)\r\n",
        "    \r\n",
        "    # store predictions\r\n",
        "    p, t, c = learn.get_preds(ds_idx=1, with_decoded=True)\r\n",
        "    preds.append(p); targs.append(t); preds_c.append(c); \r\n",
        "    items = pd.concat([items, dls.valid.items])"
      ],
      "execution_count": 36,
      "outputs": [
        {
          "output_type": "display_data",
          "data": {
            "text/html": [
              "<table border=\"1\" class=\"dataframe\">\n",
              "  <thead>\n",
              "    <tr style=\"text-align: left;\">\n",
              "      <th>epoch</th>\n",
              "      <th>train_loss</th>\n",
              "      <th>valid_loss</th>\n",
              "      <th>accuracy</th>\n",
              "      <th>roc_auc_score</th>\n",
              "      <th>time</th>\n",
              "    </tr>\n",
              "  </thead>\n",
              "  <tbody>\n",
              "    <tr>\n",
              "      <td>0</td>\n",
              "      <td>1.411981</td>\n",
              "      <td>0.713797</td>\n",
              "      <td>0.792536</td>\n",
              "      <td>0.870047</td>\n",
              "      <td>01:20</td>\n",
              "    </tr>\n",
              "  </tbody>\n",
              "</table>"
            ],
            "text/plain": [
              "<IPython.core.display.HTML object>"
            ]
          },
          "metadata": {
            "tags": []
          }
        },
        {
          "output_type": "display_data",
          "data": {
            "text/html": [
              "<table border=\"1\" class=\"dataframe\">\n",
              "  <thead>\n",
              "    <tr style=\"text-align: left;\">\n",
              "      <th>epoch</th>\n",
              "      <th>train_loss</th>\n",
              "      <th>valid_loss</th>\n",
              "      <th>accuracy</th>\n",
              "      <th>roc_auc_score</th>\n",
              "      <th>time</th>\n",
              "    </tr>\n",
              "  </thead>\n",
              "  <tbody>\n",
              "    <tr>\n",
              "      <td>0</td>\n",
              "      <td>0.709534</td>\n",
              "      <td>0.499834</td>\n",
              "      <td>0.847420</td>\n",
              "      <td>0.911853</td>\n",
              "      <td>01:22</td>\n",
              "    </tr>\n",
              "    <tr>\n",
              "      <td>1</td>\n",
              "      <td>0.588571</td>\n",
              "      <td>0.407983</td>\n",
              "      <td>0.880351</td>\n",
              "      <td>0.935296</td>\n",
              "      <td>01:21</td>\n",
              "    </tr>\n",
              "    <tr>\n",
              "      <td>2</td>\n",
              "      <td>0.488128</td>\n",
              "      <td>0.427596</td>\n",
              "      <td>0.884742</td>\n",
              "      <td>0.938118</td>\n",
              "      <td>01:20</td>\n",
              "    </tr>\n",
              "    <tr>\n",
              "      <td>3</td>\n",
              "      <td>0.439910</td>\n",
              "      <td>0.349862</td>\n",
              "      <td>0.899012</td>\n",
              "      <td>0.947479</td>\n",
              "      <td>01:22</td>\n",
              "    </tr>\n",
              "    <tr>\n",
              "      <td>4</td>\n",
              "      <td>0.363965</td>\n",
              "      <td>0.395973</td>\n",
              "      <td>0.899012</td>\n",
              "      <td>0.941372</td>\n",
              "      <td>01:22</td>\n",
              "    </tr>\n",
              "    <tr>\n",
              "      <td>5</td>\n",
              "      <td>0.323230</td>\n",
              "      <td>0.439528</td>\n",
              "      <td>0.886937</td>\n",
              "      <td>0.931641</td>\n",
              "      <td>01:23</td>\n",
              "    </tr>\n",
              "    <tr>\n",
              "      <td>6</td>\n",
              "      <td>0.246927</td>\n",
              "      <td>0.387600</td>\n",
              "      <td>0.895719</td>\n",
              "      <td>0.939472</td>\n",
              "      <td>01:22</td>\n",
              "    </tr>\n",
              "    <tr>\n",
              "      <td>7</td>\n",
              "      <td>0.206437</td>\n",
              "      <td>0.334387</td>\n",
              "      <td>0.911087</td>\n",
              "      <td>0.945592</td>\n",
              "      <td>01:22</td>\n",
              "    </tr>\n",
              "    <tr>\n",
              "      <td>8</td>\n",
              "      <td>0.165572</td>\n",
              "      <td>0.334089</td>\n",
              "      <td>0.911087</td>\n",
              "      <td>0.947704</td>\n",
              "      <td>01:22</td>\n",
              "    </tr>\n",
              "    <tr>\n",
              "      <td>9</td>\n",
              "      <td>0.151018</td>\n",
              "      <td>0.311419</td>\n",
              "      <td>0.909989</td>\n",
              "      <td>0.951884</td>\n",
              "      <td>01:22</td>\n",
              "    </tr>\n",
              "  </tbody>\n",
              "</table>"
            ],
            "text/plain": [
              "<IPython.core.display.HTML object>"
            ]
          },
          "metadata": {
            "tags": []
          }
        },
        {
          "output_type": "display_data",
          "data": {
            "text/html": [
              ""
            ],
            "text/plain": [
              "<IPython.core.display.HTML object>"
            ]
          },
          "metadata": {
            "tags": []
          }
        },
        {
          "output_type": "display_data",
          "data": {
            "text/html": [
              "<table border=\"1\" class=\"dataframe\">\n",
              "  <thead>\n",
              "    <tr style=\"text-align: left;\">\n",
              "      <th>epoch</th>\n",
              "      <th>train_loss</th>\n",
              "      <th>valid_loss</th>\n",
              "      <th>accuracy</th>\n",
              "      <th>roc_auc_score</th>\n",
              "      <th>time</th>\n",
              "    </tr>\n",
              "  </thead>\n",
              "  <tbody>\n",
              "    <tr>\n",
              "      <td>0</td>\n",
              "      <td>1.402369</td>\n",
              "      <td>0.608052</td>\n",
              "      <td>0.783516</td>\n",
              "      <td>0.894956</td>\n",
              "      <td>01:21</td>\n",
              "    </tr>\n",
              "  </tbody>\n",
              "</table>"
            ],
            "text/plain": [
              "<IPython.core.display.HTML object>"
            ]
          },
          "metadata": {
            "tags": []
          }
        },
        {
          "output_type": "display_data",
          "data": {
            "text/html": [
              "<table border=\"1\" class=\"dataframe\">\n",
              "  <thead>\n",
              "    <tr style=\"text-align: left;\">\n",
              "      <th>epoch</th>\n",
              "      <th>train_loss</th>\n",
              "      <th>valid_loss</th>\n",
              "      <th>accuracy</th>\n",
              "      <th>roc_auc_score</th>\n",
              "      <th>time</th>\n",
              "    </tr>\n",
              "  </thead>\n",
              "  <tbody>\n",
              "    <tr>\n",
              "      <td>0</td>\n",
              "      <td>0.800687</td>\n",
              "      <td>0.441426</td>\n",
              "      <td>0.867033</td>\n",
              "      <td>0.927058</td>\n",
              "      <td>01:22</td>\n",
              "    </tr>\n",
              "    <tr>\n",
              "      <td>1</td>\n",
              "      <td>0.584091</td>\n",
              "      <td>0.389376</td>\n",
              "      <td>0.876923</td>\n",
              "      <td>0.943050</td>\n",
              "      <td>01:22</td>\n",
              "    </tr>\n",
              "    <tr>\n",
              "      <td>2</td>\n",
              "      <td>0.438013</td>\n",
              "      <td>0.401408</td>\n",
              "      <td>0.881319</td>\n",
              "      <td>0.945486</td>\n",
              "      <td>01:22</td>\n",
              "    </tr>\n",
              "    <tr>\n",
              "      <td>3</td>\n",
              "      <td>0.391701</td>\n",
              "      <td>0.393522</td>\n",
              "      <td>0.891209</td>\n",
              "      <td>0.948330</td>\n",
              "      <td>01:23</td>\n",
              "    </tr>\n",
              "    <tr>\n",
              "      <td>4</td>\n",
              "      <td>0.337889</td>\n",
              "      <td>0.415939</td>\n",
              "      <td>0.876923</td>\n",
              "      <td>0.951458</td>\n",
              "      <td>01:23</td>\n",
              "    </tr>\n",
              "    <tr>\n",
              "      <td>5</td>\n",
              "      <td>0.296600</td>\n",
              "      <td>0.376018</td>\n",
              "      <td>0.892308</td>\n",
              "      <td>0.959475</td>\n",
              "      <td>01:22</td>\n",
              "    </tr>\n",
              "    <tr>\n",
              "      <td>6</td>\n",
              "      <td>0.225385</td>\n",
              "      <td>0.323374</td>\n",
              "      <td>0.903297</td>\n",
              "      <td>0.966004</td>\n",
              "      <td>01:23</td>\n",
              "    </tr>\n",
              "    <tr>\n",
              "      <td>7</td>\n",
              "      <td>0.172887</td>\n",
              "      <td>0.308598</td>\n",
              "      <td>0.904396</td>\n",
              "      <td>0.964712</td>\n",
              "      <td>01:23</td>\n",
              "    </tr>\n",
              "    <tr>\n",
              "      <td>8</td>\n",
              "      <td>0.174614</td>\n",
              "      <td>0.301862</td>\n",
              "      <td>0.908791</td>\n",
              "      <td>0.964535</td>\n",
              "      <td>01:23</td>\n",
              "    </tr>\n",
              "    <tr>\n",
              "      <td>9</td>\n",
              "      <td>0.175207</td>\n",
              "      <td>0.335088</td>\n",
              "      <td>0.903297</td>\n",
              "      <td>0.963807</td>\n",
              "      <td>01:22</td>\n",
              "    </tr>\n",
              "  </tbody>\n",
              "</table>"
            ],
            "text/plain": [
              "<IPython.core.display.HTML object>"
            ]
          },
          "metadata": {
            "tags": []
          }
        },
        {
          "output_type": "display_data",
          "data": {
            "text/html": [
              ""
            ],
            "text/plain": [
              "<IPython.core.display.HTML object>"
            ]
          },
          "metadata": {
            "tags": []
          }
        }
      ]
    },
    {
      "cell_type": "code",
      "metadata": {
        "id": "tS5tWTNt8oRG"
      },
      "source": [
        "imgs = L(o for o in items.image_id.values)\r\n",
        "y_true = L(o for o in items.label.values) # Labels from dataset\r\n",
        "y_targ = L(dls.vocab[o] for o in torch.cat(targs)) # Labels from out predictions\r\n",
        "y_pred = L(dls.vocab[o] for o in torch.cat(preds_c)) # predicted labels or \"pseudo labels\"\r\n",
        "p_max = torch.cat(preds).max(dim=1)[0]"
      ],
      "execution_count": 37,
      "outputs": []
    },
    {
      "cell_type": "code",
      "metadata": {
        "id": "0r66x7esA81V"
      },
      "source": [
        "assert (y_true == y_targ)"
      ],
      "execution_count": 38,
      "outputs": []
    },
    {
      "cell_type": "code",
      "metadata": {
        "colab": {
          "base_uri": "https://localhost:8080/",
          "height": 266
        },
        "id": "sOi1s025Bi5B",
        "outputId": "0e213d23-736a-4b79-ebcc-0f7e2947f6c7"
      },
      "source": [
        "res = pd.DataFrame({'imgs':imgs,'y_true':y_true,'y_pred':y_pred}).set_index('imgs')\r\n",
        "print(res.shape)\r\n",
        "print(df.shape)\r\n",
        "res.sample(5)"
      ],
      "execution_count": 39,
      "outputs": [
        {
          "output_type": "stream",
          "text": [
            "(1821, 2)\n",
            "(1821, 7)\n"
          ],
          "name": "stdout"
        },
        {
          "output_type": "execute_result",
          "data": {
            "text/html": [
              "<div>\n",
              "<style scoped>\n",
              "    .dataframe tbody tr th:only-of-type {\n",
              "        vertical-align: middle;\n",
              "    }\n",
              "\n",
              "    .dataframe tbody tr th {\n",
              "        vertical-align: top;\n",
              "    }\n",
              "\n",
              "    .dataframe thead th {\n",
              "        text-align: right;\n",
              "    }\n",
              "</style>\n",
              "<table border=\"1\" class=\"dataframe\">\n",
              "  <thead>\n",
              "    <tr style=\"text-align: right;\">\n",
              "      <th></th>\n",
              "      <th>y_true</th>\n",
              "      <th>y_pred</th>\n",
              "    </tr>\n",
              "    <tr>\n",
              "      <th>imgs</th>\n",
              "      <th></th>\n",
              "      <th></th>\n",
              "    </tr>\n",
              "  </thead>\n",
              "  <tbody>\n",
              "    <tr>\n",
              "      <th>Train_1594</th>\n",
              "      <td>rust</td>\n",
              "      <td>rust</td>\n",
              "    </tr>\n",
              "    <tr>\n",
              "      <th>Train_994</th>\n",
              "      <td>scab</td>\n",
              "      <td>scab</td>\n",
              "    </tr>\n",
              "    <tr>\n",
              "      <th>Train_335</th>\n",
              "      <td>healthy</td>\n",
              "      <td>healthy</td>\n",
              "    </tr>\n",
              "    <tr>\n",
              "      <th>Train_1356</th>\n",
              "      <td>healthy</td>\n",
              "      <td>healthy</td>\n",
              "    </tr>\n",
              "    <tr>\n",
              "      <th>Train_1728</th>\n",
              "      <td>scab</td>\n",
              "      <td>scab</td>\n",
              "    </tr>\n",
              "  </tbody>\n",
              "</table>\n",
              "</div>"
            ],
            "text/plain": [
              "             y_true   y_pred\n",
              "imgs                        \n",
              "Train_1594     rust     rust\n",
              "Train_994      scab     scab\n",
              "Train_335   healthy  healthy\n",
              "Train_1356  healthy  healthy\n",
              "Train_1728     scab     scab"
            ]
          },
          "metadata": {
            "tags": []
          },
          "execution_count": 39
        }
      ]
    },
    {
      "cell_type": "code",
      "metadata": {
        "id": "n9oGrMnuJF_V"
      },
      "source": [
        "res.to_csv(path/'train_softlabelling.csv')"
      ],
      "execution_count": 40,
      "outputs": []
    },
    {
      "cell_type": "markdown",
      "metadata": {
        "id": "pBPavUa_2_xd"
      },
      "source": [
        "# Preparing functions and dataframes\r\n",
        "\r\n",
        "In this part, codes were borrowed from this excellent [blog](https://isaac-flath.github.io/blog/deep%20learning/2021/01/18/SoftLabeling.html) by Isaac"
      ]
    },
    {
      "cell_type": "code",
      "metadata": {
        "id": "vWyTsL2f2_JW"
      },
      "source": [
        "#df with actual and pseudolabels (from pseudolabel generation part)\r\n",
        "res = pd.read_csv(path/'train_softlabelling.csv')"
      ],
      "execution_count": 5,
      "outputs": []
    },
    {
      "cell_type": "code",
      "metadata": {
        "id": "PjwhNQZvBly2"
      },
      "source": [
        "#one-hot-encode the true_label and pred_labels\r\n",
        "res = pd.get_dummies(res,columns=['y_true','y_pred']) "
      ],
      "execution_count": 6,
      "outputs": []
    },
    {
      "cell_type": "code",
      "metadata": {
        "colab": {
          "base_uri": "https://localhost:8080/",
          "height": 139
        },
        "id": "NHTQcnfyuULx",
        "outputId": "8105b520-2bab-4da5-d104-3e08fd2cadbf"
      },
      "source": [
        "res.head(3)"
      ],
      "execution_count": 7,
      "outputs": [
        {
          "output_type": "execute_result",
          "data": {
            "text/html": [
              "<div>\n",
              "<style scoped>\n",
              "    .dataframe tbody tr th:only-of-type {\n",
              "        vertical-align: middle;\n",
              "    }\n",
              "\n",
              "    .dataframe tbody tr th {\n",
              "        vertical-align: top;\n",
              "    }\n",
              "\n",
              "    .dataframe thead th {\n",
              "        text-align: right;\n",
              "    }\n",
              "</style>\n",
              "<table border=\"1\" class=\"dataframe\">\n",
              "  <thead>\n",
              "    <tr style=\"text-align: right;\">\n",
              "      <th></th>\n",
              "      <th>imgs</th>\n",
              "      <th>y_true_healthy</th>\n",
              "      <th>y_true_multiple_diseases</th>\n",
              "      <th>y_true_rust</th>\n",
              "      <th>y_true_scab</th>\n",
              "      <th>y_pred_healthy</th>\n",
              "      <th>y_pred_multiple_diseases</th>\n",
              "      <th>y_pred_rust</th>\n",
              "      <th>y_pred_scab</th>\n",
              "    </tr>\n",
              "  </thead>\n",
              "  <tbody>\n",
              "    <tr>\n",
              "      <th>0</th>\n",
              "      <td>Train_2</td>\n",
              "      <td>1</td>\n",
              "      <td>0</td>\n",
              "      <td>0</td>\n",
              "      <td>0</td>\n",
              "      <td>1</td>\n",
              "      <td>0</td>\n",
              "      <td>0</td>\n",
              "      <td>0</td>\n",
              "    </tr>\n",
              "    <tr>\n",
              "      <th>1</th>\n",
              "      <td>Train_3</td>\n",
              "      <td>0</td>\n",
              "      <td>0</td>\n",
              "      <td>1</td>\n",
              "      <td>0</td>\n",
              "      <td>0</td>\n",
              "      <td>0</td>\n",
              "      <td>1</td>\n",
              "      <td>0</td>\n",
              "    </tr>\n",
              "    <tr>\n",
              "      <th>2</th>\n",
              "      <td>Train_5</td>\n",
              "      <td>1</td>\n",
              "      <td>0</td>\n",
              "      <td>0</td>\n",
              "      <td>0</td>\n",
              "      <td>0</td>\n",
              "      <td>0</td>\n",
              "      <td>0</td>\n",
              "      <td>1</td>\n",
              "    </tr>\n",
              "  </tbody>\n",
              "</table>\n",
              "</div>"
            ],
            "text/plain": [
              "      imgs  y_true_healthy  ...  y_pred_rust  y_pred_scab\n",
              "0  Train_2               1  ...            0            0\n",
              "1  Train_3               0  ...            1            0\n",
              "2  Train_5               1  ...            0            1\n",
              "\n",
              "[3 rows x 9 columns]"
            ]
          },
          "metadata": {
            "tags": []
          },
          "execution_count": 7
        }
      ]
    },
    {
      "cell_type": "code",
      "metadata": {
        "id": "xAAKc6QSth35"
      },
      "source": [
        "res['true_label'] = res.iloc[:, 1:5].idxmax(1).apply(lambda x: x.split('true_')[1])"
      ],
      "execution_count": 8,
      "outputs": []
    },
    {
      "cell_type": "code",
      "metadata": {
        "colab": {
          "base_uri": "https://localhost:8080/",
          "height": 139
        },
        "id": "quwSHyjtByKM",
        "outputId": "c3072b84-b326-47e7-833e-ff259ba46007"
      },
      "source": [
        "res.head(3)"
      ],
      "execution_count": 9,
      "outputs": [
        {
          "output_type": "execute_result",
          "data": {
            "text/html": [
              "<div>\n",
              "<style scoped>\n",
              "    .dataframe tbody tr th:only-of-type {\n",
              "        vertical-align: middle;\n",
              "    }\n",
              "\n",
              "    .dataframe tbody tr th {\n",
              "        vertical-align: top;\n",
              "    }\n",
              "\n",
              "    .dataframe thead th {\n",
              "        text-align: right;\n",
              "    }\n",
              "</style>\n",
              "<table border=\"1\" class=\"dataframe\">\n",
              "  <thead>\n",
              "    <tr style=\"text-align: right;\">\n",
              "      <th></th>\n",
              "      <th>imgs</th>\n",
              "      <th>y_true_healthy</th>\n",
              "      <th>y_true_multiple_diseases</th>\n",
              "      <th>y_true_rust</th>\n",
              "      <th>y_true_scab</th>\n",
              "      <th>y_pred_healthy</th>\n",
              "      <th>y_pred_multiple_diseases</th>\n",
              "      <th>y_pred_rust</th>\n",
              "      <th>y_pred_scab</th>\n",
              "      <th>true_label</th>\n",
              "    </tr>\n",
              "  </thead>\n",
              "  <tbody>\n",
              "    <tr>\n",
              "      <th>0</th>\n",
              "      <td>Train_2</td>\n",
              "      <td>1</td>\n",
              "      <td>0</td>\n",
              "      <td>0</td>\n",
              "      <td>0</td>\n",
              "      <td>1</td>\n",
              "      <td>0</td>\n",
              "      <td>0</td>\n",
              "      <td>0</td>\n",
              "      <td>healthy</td>\n",
              "    </tr>\n",
              "    <tr>\n",
              "      <th>1</th>\n",
              "      <td>Train_3</td>\n",
              "      <td>0</td>\n",
              "      <td>0</td>\n",
              "      <td>1</td>\n",
              "      <td>0</td>\n",
              "      <td>0</td>\n",
              "      <td>0</td>\n",
              "      <td>1</td>\n",
              "      <td>0</td>\n",
              "      <td>rust</td>\n",
              "    </tr>\n",
              "    <tr>\n",
              "      <th>2</th>\n",
              "      <td>Train_5</td>\n",
              "      <td>1</td>\n",
              "      <td>0</td>\n",
              "      <td>0</td>\n",
              "      <td>0</td>\n",
              "      <td>0</td>\n",
              "      <td>0</td>\n",
              "      <td>0</td>\n",
              "      <td>1</td>\n",
              "      <td>healthy</td>\n",
              "    </tr>\n",
              "  </tbody>\n",
              "</table>\n",
              "</div>"
            ],
            "text/plain": [
              "      imgs  y_true_healthy  ...  y_pred_scab  true_label\n",
              "0  Train_2               1  ...            0     healthy\n",
              "1  Train_3               0  ...            0        rust\n",
              "2  Train_5               1  ...            1     healthy\n",
              "\n",
              "[3 rows x 10 columns]"
            ]
          },
          "metadata": {
            "tags": []
          },
          "execution_count": 9
        }
      ]
    },
    {
      "cell_type": "code",
      "metadata": {
        "id": "LatS4LZrFNrY"
      },
      "source": [
        "res.rename(columns={'imgs':'image_id'}, inplace=True)"
      ],
      "execution_count": 10,
      "outputs": []
    },
    {
      "cell_type": "code",
      "metadata": {
        "id": "lkCeeenAJPHe"
      },
      "source": [
        "#codes taken from Isaac's blog\r\n",
        "class CrossEntropyLossOneHot(nn.Module):\r\n",
        "    def __init__(self):\r\n",
        "        super(CrossEntropyLossOneHot, self).__init__()\r\n",
        "        self.log_softmax = nn.LogSoftmax(dim=-1)\r\n",
        "\r\n",
        "    def forward(self, preds, labels):\r\n",
        "        return torch.mean(torch.sum(-labels * self.log_softmax(preds), -1))\r\n",
        "\r\n",
        "def accuracy(inp, targ, axis=-1):\r\n",
        "    \"Compute accuracy with `targ` when `pred` is bs * n_classes\"\r\n",
        "    pred,targ = flatten_check(inp.argmax(dim=axis), targ.argmax(dim=axis))\r\n",
        "    return (pred == targ).float().mean()"
      ],
      "execution_count": 11,
      "outputs": []
    },
    {
      "cell_type": "code",
      "metadata": {
        "id": "sPZG99Kd3iDm"
      },
      "source": [
        "# codes taken from Isaac's blog with slight modification\r\n",
        "class SoftLabelCB(Callback):\r\n",
        "    def __init__(self, df_preds,y_true_weight = 0.7): \r\n",
        "        '''df_preds is a pandas dataframe where index is image paths\r\n",
        "             Must have y_true and y_pred one hot encoded columns (ie y_true_0, y_true_1)\r\n",
        "          '''\r\n",
        "        \r\n",
        "        self.y_true_weight = y_true_weight\r\n",
        "        self.y_pred_weight = 1 - y_true_weight\r\n",
        "        self.df = df_preds\r\n",
        "\r\n",
        "    def before_train(self):\r\n",
        "        if type(self.dl.items)==type(pd.DataFrame()): self.idx_list = L(o for o in self.dl.items.index.values)\r\n",
        "        if is_listy(self.dl.items): self.imgs_list = L(self.dl.items)      \r\n",
        "    \r\n",
        "    def before_validate(self):\r\n",
        "        if type(self.dl.items)==type(pd.DataFrame()): self.idx_list = L(o for o in self.dl.items.index.values)\r\n",
        "        if is_listy(self.dl.items): self.imgs_list = L(self.dl.items)       \r\n",
        "    \r\n",
        "    def before_batch(self):\r\n",
        "        # get the images' names for the current batch\r\n",
        "        idx = self.idx_list[self.dl._DataLoader__idxs[self.iter*self.dl.bs:self.iter*self.dl.bs+self.dl.bs]]\r\n",
        "        # get soft labels\r\n",
        "        df = self.df\r\n",
        "        soft_labels = df.loc[idx,df.columns.str.startswith('y_true')].values\r\n",
        "        \r\n",
        "        if self.training:\r\n",
        "            soft_labels = soft_labels*self.y_true_weight + df.loc[idx,df.columns.str.startswith('y_pred')].values*self.y_pred_weight\r\n",
        "        self.learn.yb = (Tensor(soft_labels).cuda(),)"
      ],
      "execution_count": 12,
      "outputs": []
    },
    {
      "cell_type": "code",
      "metadata": {
        "id": "aAKs2Sjr3vpy"
      },
      "source": [
        "#create folds\r\n",
        "N_FOLDS = 3\r\n",
        "res['fold'] = -1\r\n",
        "\r\n",
        "strat_kfold = StratifiedKFold(n_splits=N_FOLDS, random_state=SEED, shuffle=True)\r\n",
        "for i, (_, test_index) in enumerate(strat_kfold.split(res.image_id.values, res.true_label.values)):\r\n",
        "    res.iloc[test_index, -1] = i\r\n",
        "    \r\n",
        "res['fold'] = res['fold'].astype('int')"
      ],
      "execution_count": 14,
      "outputs": []
    },
    {
      "cell_type": "code",
      "metadata": {
        "colab": {
          "base_uri": "https://localhost:8080/",
          "height": 139
        },
        "id": "7ER8Cajm4d6G",
        "outputId": "d2efc77a-b231-45fb-8dbf-c51742c117e6"
      },
      "source": [
        "res.head(3)"
      ],
      "execution_count": 15,
      "outputs": [
        {
          "output_type": "execute_result",
          "data": {
            "text/html": [
              "<div>\n",
              "<style scoped>\n",
              "    .dataframe tbody tr th:only-of-type {\n",
              "        vertical-align: middle;\n",
              "    }\n",
              "\n",
              "    .dataframe tbody tr th {\n",
              "        vertical-align: top;\n",
              "    }\n",
              "\n",
              "    .dataframe thead th {\n",
              "        text-align: right;\n",
              "    }\n",
              "</style>\n",
              "<table border=\"1\" class=\"dataframe\">\n",
              "  <thead>\n",
              "    <tr style=\"text-align: right;\">\n",
              "      <th></th>\n",
              "      <th>image_id</th>\n",
              "      <th>y_true_healthy</th>\n",
              "      <th>y_true_multiple_diseases</th>\n",
              "      <th>y_true_rust</th>\n",
              "      <th>y_true_scab</th>\n",
              "      <th>y_pred_healthy</th>\n",
              "      <th>y_pred_multiple_diseases</th>\n",
              "      <th>y_pred_rust</th>\n",
              "      <th>y_pred_scab</th>\n",
              "      <th>true_label</th>\n",
              "      <th>fold</th>\n",
              "    </tr>\n",
              "  </thead>\n",
              "  <tbody>\n",
              "    <tr>\n",
              "      <th>0</th>\n",
              "      <td>Train_2</td>\n",
              "      <td>1</td>\n",
              "      <td>0</td>\n",
              "      <td>0</td>\n",
              "      <td>0</td>\n",
              "      <td>1</td>\n",
              "      <td>0</td>\n",
              "      <td>0</td>\n",
              "      <td>0</td>\n",
              "      <td>healthy</td>\n",
              "      <td>1</td>\n",
              "    </tr>\n",
              "    <tr>\n",
              "      <th>1</th>\n",
              "      <td>Train_3</td>\n",
              "      <td>0</td>\n",
              "      <td>0</td>\n",
              "      <td>1</td>\n",
              "      <td>0</td>\n",
              "      <td>0</td>\n",
              "      <td>0</td>\n",
              "      <td>1</td>\n",
              "      <td>0</td>\n",
              "      <td>rust</td>\n",
              "      <td>1</td>\n",
              "    </tr>\n",
              "    <tr>\n",
              "      <th>2</th>\n",
              "      <td>Train_5</td>\n",
              "      <td>1</td>\n",
              "      <td>0</td>\n",
              "      <td>0</td>\n",
              "      <td>0</td>\n",
              "      <td>0</td>\n",
              "      <td>0</td>\n",
              "      <td>0</td>\n",
              "      <td>1</td>\n",
              "      <td>healthy</td>\n",
              "      <td>2</td>\n",
              "    </tr>\n",
              "  </tbody>\n",
              "</table>\n",
              "</div>"
            ],
            "text/plain": [
              "  image_id  y_true_healthy  ...  true_label  fold\n",
              "0  Train_2               1  ...     healthy     1\n",
              "1  Train_3               0  ...        rust     1\n",
              "2  Train_5               1  ...     healthy     2\n",
              "\n",
              "[3 rows x 11 columns]"
            ]
          },
          "metadata": {
            "tags": []
          },
          "execution_count": 15
        }
      ]
    },
    {
      "cell_type": "code",
      "metadata": {
        "colab": {
          "base_uri": "https://localhost:8080/"
        },
        "id": "tJpKiTsU4v49",
        "outputId": "6caf16ba-d031-4e01-8a53-ba19679bc26b"
      },
      "source": [
        "res.fold.value_counts()"
      ],
      "execution_count": 16,
      "outputs": [
        {
          "output_type": "execute_result",
          "data": {
            "text/plain": [
              "2    607\n",
              "1    607\n",
              "0    607\n",
              "Name: fold, dtype: int64"
            ]
          },
          "metadata": {
            "tags": []
          },
          "execution_count": 16
        }
      ]
    },
    {
      "cell_type": "code",
      "metadata": {
        "id": "Cl_TjEuz43D6"
      },
      "source": [
        "# get dls using the fold. also does oversampling of multiple_disease \r\n",
        "def get_data(fold, df):\r\n",
        "    \r\n",
        "    train_df_no_val = df[df['fold'] != {fold}]     #training set\r\n",
        "    train_df_just_val = df[df['fold'] == {fold}]   #validation set\r\n",
        "\r\n",
        "    train_df_bal = pd.concat(\r\n",
        "                   [train_df_no_val[train_df_no_val['true_label'] != \"multiple_diseases\"], train_df_just_val] +\r\n",
        "                   [train_df_no_val[train_df_no_val['true_label'] == 'multiple_diseases']] * 2\r\n",
        "                   ).sample(frac=1.0, random_state=SEED).reset_index(drop=True)\r\n",
        "    train_df_bal.reset_index(drop=True)\r\n",
        "\r\n",
        "    datablock = DataBlock(\r\n",
        "                blocks=(ImageBlock, CategoryBlock()),\r\n",
        "                getters=[\r\n",
        "                ColReader('image_id', pref=path/'images', suff='.jpg'),\r\n",
        "                ColReader('true_label')\r\n",
        "                ],\r\n",
        "                splitter=IndexSplitter(train_df_bal.loc[train_df_bal.fold==fold].index),\r\n",
        "                item_tfms=Resize(IMG_SIZE*2),\r\n",
        "                batch_tfms=[*aug_transforms(size=IMG_SIZE, max_rotate=30., min_scale=0.75, flip_vert=True, do_flip=True),\r\n",
        "                            Normalize.from_stats(*imagenet_stats)]\r\n",
        "                )\r\n",
        "    return datablock.dataloaders(source=train_df_bal, bs=BS), train_df_bal"
      ],
      "execution_count": 17,
      "outputs": []
    },
    {
      "cell_type": "markdown",
      "metadata": {
        "id": "kSAzTyj2-Yjv"
      },
      "source": [
        "# Train without softlabelling"
      ]
    },
    {
      "cell_type": "code",
      "metadata": {
        "colab": {
          "base_uri": "https://localhost:8080/"
        },
        "id": "ifhkzrZ75mh5",
        "outputId": "95a6234d-e5cd-4bc4-a178-00fcf783cef7"
      },
      "source": [
        "IMG_SIZE = 256\r\n",
        "BS=32"
      ],
      "execution_count": 18,
      "outputs": [
        {
          "output_type": "stream",
          "text": [
            "Index(['healthy', 'multiple_diseases', 'rust', 'scab'], dtype='object')\n"
          ],
          "name": "stdout"
        }
      ]
    },
    {
      "cell_type": "code",
      "metadata": {
        "colab": {
          "base_uri": "https://localhost:8080/",
          "height": 1000,
          "referenced_widgets": [
            "4a55b2f3f851409490cc6ce1e6b3f46e",
            "7c924c797bcc44c294a16400de2cb50f",
            "e6e8dd7a317540888ed88e447a223f05",
            "2405030f86c14713adf7545dbbd6bc29",
            "25203213ed854965abe14c16d66d097f",
            "9ba5d905774243909a4471ff05cc44c8",
            "beaef99c6058494abf13ee57ebc861d3",
            "3f11af4bd0f34a9d969b27f2016f0337"
          ]
        },
        "id": "vITyuwX65bO6",
        "outputId": "03999e75-72f6-4c49-cd34-14e4c70abca5"
      },
      "source": [
        "for i in range(N_FOLDS):\r\n",
        "    dls = get_data(i, train_orig)\r\n",
        "    sm = SaveModelCallback(monitor='valid_loss', fname=f'{path}/model/effnet_nosl_fold_{i}_best')\r\n",
        "    learn = cnn_learner(dls, \r\n",
        "                    resnet101,\r\n",
        "                    loss_func=CrossEntropyLossFlat(),\r\n",
        "                    metrics = [error_rate, RocAuc()])\r\n",
        "    learn.fine_tune(10, reset_opt=True, cbs=sm)"
      ],
      "execution_count": 20,
      "outputs": [
        {
          "output_type": "stream",
          "text": [
            "Downloading: \"https://download.pytorch.org/models/resnet101-5d3b4d8f.pth\" to /root/.cache/torch/hub/checkpoints/resnet101-5d3b4d8f.pth\n"
          ],
          "name": "stderr"
        },
        {
          "output_type": "display_data",
          "data": {
            "application/vnd.jupyter.widget-view+json": {
              "model_id": "4a55b2f3f851409490cc6ce1e6b3f46e",
              "version_minor": 0,
              "version_major": 2
            },
            "text/plain": [
              "HBox(children=(FloatProgress(value=0.0, max=178728960.0), HTML(value='')))"
            ]
          },
          "metadata": {
            "tags": []
          }
        },
        {
          "output_type": "stream",
          "text": [
            "\n"
          ],
          "name": "stdout"
        },
        {
          "output_type": "display_data",
          "data": {
            "text/html": [
              "<table border=\"1\" class=\"dataframe\">\n",
              "  <thead>\n",
              "    <tr style=\"text-align: left;\">\n",
              "      <th>epoch</th>\n",
              "      <th>train_loss</th>\n",
              "      <th>valid_loss</th>\n",
              "      <th>error_rate</th>\n",
              "      <th>roc_auc_score</th>\n",
              "      <th>time</th>\n",
              "    </tr>\n",
              "  </thead>\n",
              "  <tbody>\n",
              "    <tr>\n",
              "      <td>0</td>\n",
              "      <td>1.076039</td>\n",
              "      <td>0.861449</td>\n",
              "      <td>0.200942</td>\n",
              "      <td>0.918475</td>\n",
              "      <td>01:39</td>\n",
              "    </tr>\n",
              "  </tbody>\n",
              "</table>"
            ],
            "text/plain": [
              "<IPython.core.display.HTML object>"
            ]
          },
          "metadata": {
            "tags": []
          }
        },
        {
          "output_type": "stream",
          "text": [
            "Better model found at epoch 0 with valid_loss value: 0.8614493608474731.\n"
          ],
          "name": "stdout"
        },
        {
          "output_type": "display_data",
          "data": {
            "text/html": [
              "<table border=\"1\" class=\"dataframe\">\n",
              "  <thead>\n",
              "    <tr style=\"text-align: left;\">\n",
              "      <th>epoch</th>\n",
              "      <th>train_loss</th>\n",
              "      <th>valid_loss</th>\n",
              "      <th>error_rate</th>\n",
              "      <th>roc_auc_score</th>\n",
              "      <th>time</th>\n",
              "    </tr>\n",
              "  </thead>\n",
              "  <tbody>\n",
              "    <tr>\n",
              "      <td>0</td>\n",
              "      <td>0.601023</td>\n",
              "      <td>0.520140</td>\n",
              "      <td>0.136578</td>\n",
              "      <td>0.953234</td>\n",
              "      <td>01:37</td>\n",
              "    </tr>\n",
              "    <tr>\n",
              "      <td>1</td>\n",
              "      <td>0.447025</td>\n",
              "      <td>0.562575</td>\n",
              "      <td>0.114600</td>\n",
              "      <td>0.962524</td>\n",
              "      <td>01:36</td>\n",
              "    </tr>\n",
              "    <tr>\n",
              "      <td>2</td>\n",
              "      <td>0.416114</td>\n",
              "      <td>0.580850</td>\n",
              "      <td>0.119309</td>\n",
              "      <td>0.950058</td>\n",
              "      <td>01:36</td>\n",
              "    </tr>\n",
              "    <tr>\n",
              "      <td>3</td>\n",
              "      <td>0.337150</td>\n",
              "      <td>0.439429</td>\n",
              "      <td>0.106750</td>\n",
              "      <td>0.968085</td>\n",
              "      <td>01:35</td>\n",
              "    </tr>\n",
              "    <tr>\n",
              "      <td>4</td>\n",
              "      <td>0.267772</td>\n",
              "      <td>0.410308</td>\n",
              "      <td>0.100471</td>\n",
              "      <td>0.967108</td>\n",
              "      <td>01:36</td>\n",
              "    </tr>\n",
              "    <tr>\n",
              "      <td>5</td>\n",
              "      <td>0.212473</td>\n",
              "      <td>0.403120</td>\n",
              "      <td>0.095761</td>\n",
              "      <td>0.968653</td>\n",
              "      <td>01:35</td>\n",
              "    </tr>\n",
              "    <tr>\n",
              "      <td>6</td>\n",
              "      <td>0.163024</td>\n",
              "      <td>0.400273</td>\n",
              "      <td>0.094192</td>\n",
              "      <td>0.963862</td>\n",
              "      <td>01:35</td>\n",
              "    </tr>\n",
              "    <tr>\n",
              "      <td>7</td>\n",
              "      <td>0.127193</td>\n",
              "      <td>0.324429</td>\n",
              "      <td>0.069074</td>\n",
              "      <td>0.971429</td>\n",
              "      <td>01:36</td>\n",
              "    </tr>\n",
              "    <tr>\n",
              "      <td>8</td>\n",
              "      <td>0.116174</td>\n",
              "      <td>0.323599</td>\n",
              "      <td>0.067504</td>\n",
              "      <td>0.972884</td>\n",
              "      <td>01:36</td>\n",
              "    </tr>\n",
              "    <tr>\n",
              "      <td>9</td>\n",
              "      <td>0.114556</td>\n",
              "      <td>0.334770</td>\n",
              "      <td>0.072214</td>\n",
              "      <td>0.973271</td>\n",
              "      <td>01:35</td>\n",
              "    </tr>\n",
              "  </tbody>\n",
              "</table>"
            ],
            "text/plain": [
              "<IPython.core.display.HTML object>"
            ]
          },
          "metadata": {
            "tags": []
          }
        },
        {
          "output_type": "stream",
          "text": [
            "Better model found at epoch 0 with valid_loss value: 0.5201404690742493.\n",
            "Better model found at epoch 3 with valid_loss value: 0.43942898511886597.\n",
            "Better model found at epoch 4 with valid_loss value: 0.4103084206581116.\n",
            "Better model found at epoch 5 with valid_loss value: 0.40312016010284424.\n",
            "Better model found at epoch 6 with valid_loss value: 0.4002726972103119.\n",
            "Better model found at epoch 7 with valid_loss value: 0.324428915977478.\n",
            "Better model found at epoch 8 with valid_loss value: 0.32359927892684937.\n"
          ],
          "name": "stdout"
        },
        {
          "output_type": "display_data",
          "data": {
            "text/html": [
              "<table border=\"1\" class=\"dataframe\">\n",
              "  <thead>\n",
              "    <tr style=\"text-align: left;\">\n",
              "      <th>epoch</th>\n",
              "      <th>train_loss</th>\n",
              "      <th>valid_loss</th>\n",
              "      <th>error_rate</th>\n",
              "      <th>roc_auc_score</th>\n",
              "      <th>time</th>\n",
              "    </tr>\n",
              "  </thead>\n",
              "  <tbody>\n",
              "    <tr>\n",
              "      <td>0</td>\n",
              "      <td>1.086115</td>\n",
              "      <td>0.777929</td>\n",
              "      <td>0.210031</td>\n",
              "      <td>0.921712</td>\n",
              "      <td>01:33</td>\n",
              "    </tr>\n",
              "  </tbody>\n",
              "</table>"
            ],
            "text/plain": [
              "<IPython.core.display.HTML object>"
            ]
          },
          "metadata": {
            "tags": []
          }
        },
        {
          "output_type": "stream",
          "text": [
            "Better model found at epoch 0 with valid_loss value: 0.7779290676116943.\n"
          ],
          "name": "stdout"
        },
        {
          "output_type": "display_data",
          "data": {
            "text/html": [
              "<table border=\"1\" class=\"dataframe\">\n",
              "  <thead>\n",
              "    <tr style=\"text-align: left;\">\n",
              "      <th>epoch</th>\n",
              "      <th>train_loss</th>\n",
              "      <th>valid_loss</th>\n",
              "      <th>error_rate</th>\n",
              "      <th>roc_auc_score</th>\n",
              "      <th>time</th>\n",
              "    </tr>\n",
              "  </thead>\n",
              "  <tbody>\n",
              "    <tr>\n",
              "      <td>0</td>\n",
              "      <td>0.626728</td>\n",
              "      <td>0.484421</td>\n",
              "      <td>0.128527</td>\n",
              "      <td>0.950723</td>\n",
              "      <td>01:36</td>\n",
              "    </tr>\n",
              "    <tr>\n",
              "      <td>1</td>\n",
              "      <td>0.488728</td>\n",
              "      <td>0.494639</td>\n",
              "      <td>0.115987</td>\n",
              "      <td>0.965528</td>\n",
              "      <td>01:36</td>\n",
              "    </tr>\n",
              "    <tr>\n",
              "      <td>2</td>\n",
              "      <td>0.404514</td>\n",
              "      <td>0.568086</td>\n",
              "      <td>0.103448</td>\n",
              "      <td>0.956204</td>\n",
              "      <td>01:35</td>\n",
              "    </tr>\n",
              "    <tr>\n",
              "      <td>3</td>\n",
              "      <td>0.368034</td>\n",
              "      <td>0.541154</td>\n",
              "      <td>0.109718</td>\n",
              "      <td>0.964109</td>\n",
              "      <td>01:35</td>\n",
              "    </tr>\n",
              "    <tr>\n",
              "      <td>4</td>\n",
              "      <td>0.316308</td>\n",
              "      <td>0.466378</td>\n",
              "      <td>0.114420</td>\n",
              "      <td>0.960423</td>\n",
              "      <td>01:35</td>\n",
              "    </tr>\n",
              "    <tr>\n",
              "      <td>5</td>\n",
              "      <td>0.243684</td>\n",
              "      <td>0.357282</td>\n",
              "      <td>0.094044</td>\n",
              "      <td>0.975897</td>\n",
              "      <td>01:35</td>\n",
              "    </tr>\n",
              "    <tr>\n",
              "      <td>6</td>\n",
              "      <td>0.198811</td>\n",
              "      <td>0.391327</td>\n",
              "      <td>0.087774</td>\n",
              "      <td>0.972188</td>\n",
              "      <td>01:39</td>\n",
              "    </tr>\n",
              "    <tr>\n",
              "      <td>7</td>\n",
              "      <td>0.138019</td>\n",
              "      <td>0.308911</td>\n",
              "      <td>0.081505</td>\n",
              "      <td>0.980081</td>\n",
              "      <td>01:39</td>\n",
              "    </tr>\n",
              "    <tr>\n",
              "      <td>8</td>\n",
              "      <td>0.118425</td>\n",
              "      <td>0.306226</td>\n",
              "      <td>0.078370</td>\n",
              "      <td>0.979622</td>\n",
              "      <td>01:38</td>\n",
              "    </tr>\n",
              "    <tr>\n",
              "      <td>9</td>\n",
              "      <td>0.113469</td>\n",
              "      <td>0.307329</td>\n",
              "      <td>0.079937</td>\n",
              "      <td>0.979771</td>\n",
              "      <td>01:37</td>\n",
              "    </tr>\n",
              "  </tbody>\n",
              "</table>"
            ],
            "text/plain": [
              "<IPython.core.display.HTML object>"
            ]
          },
          "metadata": {
            "tags": []
          }
        },
        {
          "output_type": "stream",
          "text": [
            "Better model found at epoch 0 with valid_loss value: 0.4844209551811218.\n",
            "Better model found at epoch 4 with valid_loss value: 0.466378390789032.\n",
            "Better model found at epoch 5 with valid_loss value: 0.35728195309638977.\n",
            "Better model found at epoch 7 with valid_loss value: 0.3089105188846588.\n",
            "Better model found at epoch 8 with valid_loss value: 0.30622556805610657.\n"
          ],
          "name": "stdout"
        },
        {
          "output_type": "display_data",
          "data": {
            "text/html": [
              "<table border=\"1\" class=\"dataframe\">\n",
              "  <thead>\n",
              "    <tr style=\"text-align: left;\">\n",
              "      <th>epoch</th>\n",
              "      <th>train_loss</th>\n",
              "      <th>valid_loss</th>\n",
              "      <th>error_rate</th>\n",
              "      <th>roc_auc_score</th>\n",
              "      <th>time</th>\n",
              "    </tr>\n",
              "  </thead>\n",
              "  <tbody>\n",
              "    <tr>\n",
              "      <td>0</td>\n",
              "      <td>1.137273</td>\n",
              "      <td>0.780955</td>\n",
              "      <td>0.182104</td>\n",
              "      <td>0.924190</td>\n",
              "      <td>01:34</td>\n",
              "    </tr>\n",
              "  </tbody>\n",
              "</table>"
            ],
            "text/plain": [
              "<IPython.core.display.HTML object>"
            ]
          },
          "metadata": {
            "tags": []
          }
        },
        {
          "output_type": "stream",
          "text": [
            "Better model found at epoch 0 with valid_loss value: 0.78095543384552.\n"
          ],
          "name": "stdout"
        },
        {
          "output_type": "display_data",
          "data": {
            "text/html": [
              "<table border=\"1\" class=\"dataframe\">\n",
              "  <thead>\n",
              "    <tr style=\"text-align: left;\">\n",
              "      <th>epoch</th>\n",
              "      <th>train_loss</th>\n",
              "      <th>valid_loss</th>\n",
              "      <th>error_rate</th>\n",
              "      <th>roc_auc_score</th>\n",
              "      <th>time</th>\n",
              "    </tr>\n",
              "  </thead>\n",
              "  <tbody>\n",
              "    <tr>\n",
              "      <td>0</td>\n",
              "      <td>0.675905</td>\n",
              "      <td>0.508098</td>\n",
              "      <td>0.127159</td>\n",
              "      <td>0.954580</td>\n",
              "      <td>01:36</td>\n",
              "    </tr>\n",
              "    <tr>\n",
              "      <td>1</td>\n",
              "      <td>0.501178</td>\n",
              "      <td>0.457779</td>\n",
              "      <td>0.131868</td>\n",
              "      <td>0.964304</td>\n",
              "      <td>01:34</td>\n",
              "    </tr>\n",
              "    <tr>\n",
              "      <td>2</td>\n",
              "      <td>0.423058</td>\n",
              "      <td>0.783829</td>\n",
              "      <td>0.139717</td>\n",
              "      <td>0.939096</td>\n",
              "      <td>01:35</td>\n",
              "    </tr>\n",
              "    <tr>\n",
              "      <td>3</td>\n",
              "      <td>0.336532</td>\n",
              "      <td>0.391860</td>\n",
              "      <td>0.092622</td>\n",
              "      <td>0.970471</td>\n",
              "      <td>01:34</td>\n",
              "    </tr>\n",
              "    <tr>\n",
              "      <td>4</td>\n",
              "      <td>0.299857</td>\n",
              "      <td>0.473922</td>\n",
              "      <td>0.100471</td>\n",
              "      <td>0.964449</td>\n",
              "      <td>01:35</td>\n",
              "    </tr>\n",
              "    <tr>\n",
              "      <td>5</td>\n",
              "      <td>0.235199</td>\n",
              "      <td>0.461567</td>\n",
              "      <td>0.092622</td>\n",
              "      <td>0.957917</td>\n",
              "      <td>01:36</td>\n",
              "    </tr>\n",
              "    <tr>\n",
              "      <td>6</td>\n",
              "      <td>0.195713</td>\n",
              "      <td>0.283678</td>\n",
              "      <td>0.084772</td>\n",
              "      <td>0.971444</td>\n",
              "      <td>01:37</td>\n",
              "    </tr>\n",
              "    <tr>\n",
              "      <td>7</td>\n",
              "      <td>0.153358</td>\n",
              "      <td>0.313394</td>\n",
              "      <td>0.083203</td>\n",
              "      <td>0.972161</td>\n",
              "      <td>01:36</td>\n",
              "    </tr>\n",
              "    <tr>\n",
              "      <td>8</td>\n",
              "      <td>0.109747</td>\n",
              "      <td>0.289011</td>\n",
              "      <td>0.070644</td>\n",
              "      <td>0.974289</td>\n",
              "      <td>01:35</td>\n",
              "    </tr>\n",
              "    <tr>\n",
              "      <td>9</td>\n",
              "      <td>0.095727</td>\n",
              "      <td>0.307079</td>\n",
              "      <td>0.078493</td>\n",
              "      <td>0.972947</td>\n",
              "      <td>01:35</td>\n",
              "    </tr>\n",
              "  </tbody>\n",
              "</table>"
            ],
            "text/plain": [
              "<IPython.core.display.HTML object>"
            ]
          },
          "metadata": {
            "tags": []
          }
        },
        {
          "output_type": "stream",
          "text": [
            "Better model found at epoch 0 with valid_loss value: 0.5080981850624084.\n",
            "Better model found at epoch 1 with valid_loss value: 0.4577789008617401.\n",
            "Better model found at epoch 3 with valid_loss value: 0.39185968041419983.\n",
            "Better model found at epoch 6 with valid_loss value: 0.2836776375770569.\n"
          ],
          "name": "stdout"
        }
      ]
    },
    {
      "cell_type": "code",
      "metadata": {
        "id": "Oph8CjbB51lx"
      },
      "source": [
        "#pred for submission without softlabellig\r\n",
        "test_df = pd.read_csv(path/'test.csv')\r\n",
        "test_dl = dls.test_dl(test_df)"
      ],
      "execution_count": 21,
      "outputs": []
    },
    {
      "cell_type": "code",
      "metadata": {
        "colab": {
          "base_uri": "https://localhost:8080/",
          "height": 52
        },
        "id": "IewEzhnTJyIN",
        "outputId": "65115242-ffec-44cd-9ddd-28492196b537"
      },
      "source": [
        "preds = []\r\n",
        "for i in range(N_FOLDS):\r\n",
        "  learn = cnn_learner(dls, \r\n",
        "                    resnet101,\r\n",
        "                    loss_func=CrossEntropyLossFlat(),\r\n",
        "                    metrics = [error_rate, RocAuc()])\r\n",
        "  \r\n",
        "  learn.load(f'{path}/model/effnet_nosl_fold_{i}_best')\r\n",
        "\r\n",
        "  test_preds, _ = learn.get_preds(dl=test_dl)\r\n",
        "\r\n",
        "  preds.append(test_preds)"
      ],
      "execution_count": 23,
      "outputs": [
        {
          "output_type": "stream",
          "text": [
            "/usr/local/lib/python3.6/dist-packages/fastai/learner.py:56: UserWarning: Saved filed doesn't contain an optimizer state.\n",
            "  elif with_opt: warn(\"Saved filed doesn't contain an optimizer state.\")\n"
          ],
          "name": "stderr"
        },
        {
          "output_type": "display_data",
          "data": {
            "text/html": [
              ""
            ],
            "text/plain": [
              "<IPython.core.display.HTML object>"
            ]
          },
          "metadata": {
            "tags": []
          }
        },
        {
          "output_type": "display_data",
          "data": {
            "text/html": [
              ""
            ],
            "text/plain": [
              "<IPython.core.display.HTML object>"
            ]
          },
          "metadata": {
            "tags": []
          }
        },
        {
          "output_type": "display_data",
          "data": {
            "text/html": [
              ""
            ],
            "text/plain": [
              "<IPython.core.display.HTML object>"
            ]
          },
          "metadata": {
            "tags": []
          }
        }
      ]
    },
    {
      "cell_type": "code",
      "metadata": {
        "id": "NKADzok5KAmF"
      },
      "source": [
        "test_preds= np.mean(np.stack(preds), axis=0)"
      ],
      "execution_count": 24,
      "outputs": []
    },
    {
      "cell_type": "code",
      "metadata": {
        "id": "4Y2gg8exKE41"
      },
      "source": [
        "sub_df = pd.concat([test_df, pd.DataFrame(test_preds, columns=LABELS)], axis=1)\r\n",
        "sub_df = sub_df[['image_id', 'healthy', 'multiple_diseases', 'rust', 'scab']]\r\n",
        "sub_df.to_csv(f'{path}/submission_nosl_21012020.csv', index=False)"
      ],
      "execution_count": 25,
      "outputs": []
    },
    {
      "cell_type": "markdown",
      "metadata": {
        "id": "i6hs3QkDKRO-"
      },
      "source": [
        "# Train with softlabelling"
      ]
    },
    {
      "cell_type": "code",
      "metadata": {
        "id": "R-efR9P2RI5M"
      },
      "source": [
        "IMG_SIZE = 256\r\n",
        "BS=32"
      ],
      "execution_count": 18,
      "outputs": []
    },
    {
      "cell_type": "code",
      "metadata": {
        "colab": {
          "base_uri": "https://localhost:8080/",
          "height": 1000
        },
        "id": "cr-iidxDKUMd",
        "outputId": "eb9723e1-deb8-40d5-d8b7-e34939e7a19b"
      },
      "source": [
        "for i in range(N_FOLDS):\r\n",
        "    \r\n",
        "    gc.collect()\r\n",
        "\r\n",
        "    dls, df = get_data(i, res)\r\n",
        "\r\n",
        "    sm = SaveModelCallback(monitor='valid_loss', fname=f'{path}/model/effnet_sl_fold_{i}_best')\r\n",
        "\r\n",
        "    learn = cnn_learner(dls, \r\n",
        "                        resnet101,\r\n",
        "                        loss_func=CrossEntropyLossOneHot(),\r\n",
        "                        metrics = [accuracy, RocAuc()],\r\n",
        "                        cbs=SoftLabelCB(df)) #callback to softlabel the labels\r\n",
        "\r\n",
        "    learn.fine_tune(10,reset_opt=True, cbs=sm)"
      ],
      "execution_count": 133,
      "outputs": [
        {
          "output_type": "display_data",
          "data": {
            "text/html": [
              "<table border=\"1\" class=\"dataframe\">\n",
              "  <thead>\n",
              "    <tr style=\"text-align: left;\">\n",
              "      <th>epoch</th>\n",
              "      <th>train_loss</th>\n",
              "      <th>valid_loss</th>\n",
              "      <th>accuracy</th>\n",
              "      <th>roc_auc_score</th>\n",
              "      <th>time</th>\n",
              "    </tr>\n",
              "  </thead>\n",
              "  <tbody>\n",
              "    <tr>\n",
              "      <td>0</td>\n",
              "      <td>1.196069</td>\n",
              "      <td>0.646593</td>\n",
              "      <td>0.822606</td>\n",
              "      <td>0.942579</td>\n",
              "      <td>01:39</td>\n",
              "    </tr>\n",
              "  </tbody>\n",
              "</table>"
            ],
            "text/plain": [
              "<IPython.core.display.HTML object>"
            ]
          },
          "metadata": {
            "tags": []
          }
        },
        {
          "output_type": "stream",
          "text": [
            "Better model found at epoch 0 with valid_loss value: 0.6465927958488464.\n"
          ],
          "name": "stdout"
        },
        {
          "output_type": "display_data",
          "data": {
            "text/html": [
              "<table border=\"1\" class=\"dataframe\">\n",
              "  <thead>\n",
              "    <tr style=\"text-align: left;\">\n",
              "      <th>epoch</th>\n",
              "      <th>train_loss</th>\n",
              "      <th>valid_loss</th>\n",
              "      <th>accuracy</th>\n",
              "      <th>roc_auc_score</th>\n",
              "      <th>time</th>\n",
              "    </tr>\n",
              "  </thead>\n",
              "  <tbody>\n",
              "    <tr>\n",
              "      <td>0</td>\n",
              "      <td>0.715911</td>\n",
              "      <td>0.456973</td>\n",
              "      <td>0.869702</td>\n",
              "      <td>0.957418</td>\n",
              "      <td>01:40</td>\n",
              "    </tr>\n",
              "    <tr>\n",
              "      <td>1</td>\n",
              "      <td>0.584980</td>\n",
              "      <td>0.361855</td>\n",
              "      <td>0.908948</td>\n",
              "      <td>0.972504</td>\n",
              "      <td>01:41</td>\n",
              "    </tr>\n",
              "    <tr>\n",
              "      <td>2</td>\n",
              "      <td>0.531680</td>\n",
              "      <td>0.378312</td>\n",
              "      <td>0.902669</td>\n",
              "      <td>0.969332</td>\n",
              "      <td>01:42</td>\n",
              "    </tr>\n",
              "    <tr>\n",
              "      <td>3</td>\n",
              "      <td>0.470397</td>\n",
              "      <td>0.282871</td>\n",
              "      <td>0.919937</td>\n",
              "      <td>0.980991</td>\n",
              "      <td>01:42</td>\n",
              "    </tr>\n",
              "    <tr>\n",
              "      <td>4</td>\n",
              "      <td>0.399224</td>\n",
              "      <td>0.285282</td>\n",
              "      <td>0.923077</td>\n",
              "      <td>0.977000</td>\n",
              "      <td>01:39</td>\n",
              "    </tr>\n",
              "    <tr>\n",
              "      <td>5</td>\n",
              "      <td>0.344171</td>\n",
              "      <td>0.179385</td>\n",
              "      <td>0.943485</td>\n",
              "      <td>0.988321</td>\n",
              "      <td>01:39</td>\n",
              "    </tr>\n",
              "    <tr>\n",
              "      <td>6</td>\n",
              "      <td>0.293705</td>\n",
              "      <td>0.213124</td>\n",
              "      <td>0.924647</td>\n",
              "      <td>0.987209</td>\n",
              "      <td>01:38</td>\n",
              "    </tr>\n",
              "    <tr>\n",
              "      <td>7</td>\n",
              "      <td>0.254130</td>\n",
              "      <td>0.232186</td>\n",
              "      <td>0.924647</td>\n",
              "      <td>0.983035</td>\n",
              "      <td>01:38</td>\n",
              "    </tr>\n",
              "    <tr>\n",
              "      <td>8</td>\n",
              "      <td>0.231887</td>\n",
              "      <td>0.211991</td>\n",
              "      <td>0.927786</td>\n",
              "      <td>0.986160</td>\n",
              "      <td>01:38</td>\n",
              "    </tr>\n",
              "    <tr>\n",
              "      <td>9</td>\n",
              "      <td>0.227782</td>\n",
              "      <td>0.200714</td>\n",
              "      <td>0.937206</td>\n",
              "      <td>0.985872</td>\n",
              "      <td>01:36</td>\n",
              "    </tr>\n",
              "  </tbody>\n",
              "</table>"
            ],
            "text/plain": [
              "<IPython.core.display.HTML object>"
            ]
          },
          "metadata": {
            "tags": []
          }
        },
        {
          "output_type": "stream",
          "text": [
            "Better model found at epoch 0 with valid_loss value: 0.45697343349456787.\n",
            "Better model found at epoch 1 with valid_loss value: 0.3618546426296234.\n",
            "Better model found at epoch 3 with valid_loss value: 0.28287050127983093.\n",
            "Better model found at epoch 5 with valid_loss value: 0.1793849915266037.\n"
          ],
          "name": "stdout"
        },
        {
          "output_type": "display_data",
          "data": {
            "text/html": [
              "<table border=\"1\" class=\"dataframe\">\n",
              "  <thead>\n",
              "    <tr style=\"text-align: left;\">\n",
              "      <th>epoch</th>\n",
              "      <th>train_loss</th>\n",
              "      <th>valid_loss</th>\n",
              "      <th>accuracy</th>\n",
              "      <th>roc_auc_score</th>\n",
              "      <th>time</th>\n",
              "    </tr>\n",
              "  </thead>\n",
              "  <tbody>\n",
              "    <tr>\n",
              "      <td>0</td>\n",
              "      <td>1.107519</td>\n",
              "      <td>0.823140</td>\n",
              "      <td>0.816327</td>\n",
              "      <td>0.914866</td>\n",
              "      <td>01:35</td>\n",
              "    </tr>\n",
              "  </tbody>\n",
              "</table>"
            ],
            "text/plain": [
              "<IPython.core.display.HTML object>"
            ]
          },
          "metadata": {
            "tags": []
          }
        },
        {
          "output_type": "stream",
          "text": [
            "Better model found at epoch 0 with valid_loss value: 0.8231399655342102.\n"
          ],
          "name": "stdout"
        },
        {
          "output_type": "display_data",
          "data": {
            "text/html": [
              "<table border=\"1\" class=\"dataframe\">\n",
              "  <thead>\n",
              "    <tr style=\"text-align: left;\">\n",
              "      <th>epoch</th>\n",
              "      <th>train_loss</th>\n",
              "      <th>valid_loss</th>\n",
              "      <th>accuracy</th>\n",
              "      <th>roc_auc_score</th>\n",
              "      <th>time</th>\n",
              "    </tr>\n",
              "  </thead>\n",
              "  <tbody>\n",
              "    <tr>\n",
              "      <td>0</td>\n",
              "      <td>0.597567</td>\n",
              "      <td>0.612166</td>\n",
              "      <td>0.849294</td>\n",
              "      <td>0.939997</td>\n",
              "      <td>01:38</td>\n",
              "    </tr>\n",
              "    <tr>\n",
              "      <td>1</td>\n",
              "      <td>0.532643</td>\n",
              "      <td>0.660419</td>\n",
              "      <td>0.835165</td>\n",
              "      <td>0.955740</td>\n",
              "      <td>01:38</td>\n",
              "    </tr>\n",
              "    <tr>\n",
              "      <td>2</td>\n",
              "      <td>0.505507</td>\n",
              "      <td>0.680467</td>\n",
              "      <td>0.839874</td>\n",
              "      <td>0.930533</td>\n",
              "      <td>01:37</td>\n",
              "    </tr>\n",
              "    <tr>\n",
              "      <td>3</td>\n",
              "      <td>0.400497</td>\n",
              "      <td>0.514922</td>\n",
              "      <td>0.885400</td>\n",
              "      <td>0.955064</td>\n",
              "      <td>01:41</td>\n",
              "    </tr>\n",
              "    <tr>\n",
              "      <td>4</td>\n",
              "      <td>0.329034</td>\n",
              "      <td>0.390576</td>\n",
              "      <td>0.897959</td>\n",
              "      <td>0.967297</td>\n",
              "      <td>01:38</td>\n",
              "    </tr>\n",
              "    <tr>\n",
              "      <td>5</td>\n",
              "      <td>0.317359</td>\n",
              "      <td>0.396277</td>\n",
              "      <td>0.885400</td>\n",
              "      <td>0.956099</td>\n",
              "      <td>01:38</td>\n",
              "    </tr>\n",
              "    <tr>\n",
              "      <td>6</td>\n",
              "      <td>0.261353</td>\n",
              "      <td>0.340894</td>\n",
              "      <td>0.901099</td>\n",
              "      <td>0.967154</td>\n",
              "      <td>01:38</td>\n",
              "    </tr>\n",
              "    <tr>\n",
              "      <td>7</td>\n",
              "      <td>0.223986</td>\n",
              "      <td>0.311538</td>\n",
              "      <td>0.910518</td>\n",
              "      <td>0.971158</td>\n",
              "      <td>01:38</td>\n",
              "    </tr>\n",
              "    <tr>\n",
              "      <td>8</td>\n",
              "      <td>0.211473</td>\n",
              "      <td>0.328619</td>\n",
              "      <td>0.905808</td>\n",
              "      <td>0.970970</td>\n",
              "      <td>01:38</td>\n",
              "    </tr>\n",
              "    <tr>\n",
              "      <td>9</td>\n",
              "      <td>0.198617</td>\n",
              "      <td>0.312231</td>\n",
              "      <td>0.915228</td>\n",
              "      <td>0.972865</td>\n",
              "      <td>01:37</td>\n",
              "    </tr>\n",
              "  </tbody>\n",
              "</table>"
            ],
            "text/plain": [
              "<IPython.core.display.HTML object>"
            ]
          },
          "metadata": {
            "tags": []
          }
        },
        {
          "output_type": "stream",
          "text": [
            "Better model found at epoch 0 with valid_loss value: 0.6121659874916077.\n",
            "Better model found at epoch 3 with valid_loss value: 0.5149222612380981.\n",
            "Better model found at epoch 4 with valid_loss value: 0.39057642221450806.\n",
            "Better model found at epoch 6 with valid_loss value: 0.34089395403862.\n",
            "Better model found at epoch 7 with valid_loss value: 0.3115383982658386.\n"
          ],
          "name": "stdout"
        },
        {
          "output_type": "display_data",
          "data": {
            "text/html": [
              "<table border=\"1\" class=\"dataframe\">\n",
              "  <thead>\n",
              "    <tr style=\"text-align: left;\">\n",
              "      <th>epoch</th>\n",
              "      <th>train_loss</th>\n",
              "      <th>valid_loss</th>\n",
              "      <th>accuracy</th>\n",
              "      <th>roc_auc_score</th>\n",
              "      <th>time</th>\n",
              "    </tr>\n",
              "  </thead>\n",
              "  <tbody>\n",
              "    <tr>\n",
              "      <td>0</td>\n",
              "      <td>1.273679</td>\n",
              "      <td>0.828845</td>\n",
              "      <td>0.816614</td>\n",
              "      <td>0.903899</td>\n",
              "      <td>01:35</td>\n",
              "    </tr>\n",
              "  </tbody>\n",
              "</table>"
            ],
            "text/plain": [
              "<IPython.core.display.HTML object>"
            ]
          },
          "metadata": {
            "tags": []
          }
        },
        {
          "output_type": "stream",
          "text": [
            "Better model found at epoch 0 with valid_loss value: 0.8288446068763733.\n"
          ],
          "name": "stdout"
        },
        {
          "output_type": "display_data",
          "data": {
            "text/html": [
              "<table border=\"1\" class=\"dataframe\">\n",
              "  <thead>\n",
              "    <tr style=\"text-align: left;\">\n",
              "      <th>epoch</th>\n",
              "      <th>train_loss</th>\n",
              "      <th>valid_loss</th>\n",
              "      <th>accuracy</th>\n",
              "      <th>roc_auc_score</th>\n",
              "      <th>time</th>\n",
              "    </tr>\n",
              "  </thead>\n",
              "  <tbody>\n",
              "    <tr>\n",
              "      <td>0</td>\n",
              "      <td>0.644636</td>\n",
              "      <td>0.587642</td>\n",
              "      <td>0.869906</td>\n",
              "      <td>0.936259</td>\n",
              "      <td>01:37</td>\n",
              "    </tr>\n",
              "    <tr>\n",
              "      <td>1</td>\n",
              "      <td>0.538524</td>\n",
              "      <td>0.507113</td>\n",
              "      <td>0.873041</td>\n",
              "      <td>0.953461</td>\n",
              "      <td>01:38</td>\n",
              "    </tr>\n",
              "    <tr>\n",
              "      <td>2</td>\n",
              "      <td>0.525435</td>\n",
              "      <td>0.561299</td>\n",
              "      <td>0.876176</td>\n",
              "      <td>0.946691</td>\n",
              "      <td>01:37</td>\n",
              "    </tr>\n",
              "    <tr>\n",
              "      <td>3</td>\n",
              "      <td>0.468210</td>\n",
              "      <td>0.399249</td>\n",
              "      <td>0.907524</td>\n",
              "      <td>0.960847</td>\n",
              "      <td>01:35</td>\n",
              "    </tr>\n",
              "    <tr>\n",
              "      <td>4</td>\n",
              "      <td>0.381069</td>\n",
              "      <td>0.295334</td>\n",
              "      <td>0.912226</td>\n",
              "      <td>0.971554</td>\n",
              "      <td>01:36</td>\n",
              "    </tr>\n",
              "    <tr>\n",
              "      <td>5</td>\n",
              "      <td>0.326648</td>\n",
              "      <td>0.260882</td>\n",
              "      <td>0.931035</td>\n",
              "      <td>0.974517</td>\n",
              "      <td>01:36</td>\n",
              "    </tr>\n",
              "    <tr>\n",
              "      <td>6</td>\n",
              "      <td>0.295528</td>\n",
              "      <td>0.301511</td>\n",
              "      <td>0.910658</td>\n",
              "      <td>0.975747</td>\n",
              "      <td>01:35</td>\n",
              "    </tr>\n",
              "    <tr>\n",
              "      <td>7</td>\n",
              "      <td>0.253143</td>\n",
              "      <td>0.265451</td>\n",
              "      <td>0.916928</td>\n",
              "      <td>0.979405</td>\n",
              "      <td>01:35</td>\n",
              "    </tr>\n",
              "    <tr>\n",
              "      <td>8</td>\n",
              "      <td>0.233412</td>\n",
              "      <td>0.249408</td>\n",
              "      <td>0.921630</td>\n",
              "      <td>0.981532</td>\n",
              "      <td>01:35</td>\n",
              "    </tr>\n",
              "    <tr>\n",
              "      <td>9</td>\n",
              "      <td>0.219381</td>\n",
              "      <td>0.248433</td>\n",
              "      <td>0.916928</td>\n",
              "      <td>0.981433</td>\n",
              "      <td>01:35</td>\n",
              "    </tr>\n",
              "  </tbody>\n",
              "</table>"
            ],
            "text/plain": [
              "<IPython.core.display.HTML object>"
            ]
          },
          "metadata": {
            "tags": []
          }
        },
        {
          "output_type": "stream",
          "text": [
            "Better model found at epoch 0 with valid_loss value: 0.5876418352127075.\n",
            "Better model found at epoch 1 with valid_loss value: 0.5071130990982056.\n",
            "Better model found at epoch 3 with valid_loss value: 0.39924871921539307.\n",
            "Better model found at epoch 4 with valid_loss value: 0.29533350467681885.\n",
            "Better model found at epoch 5 with valid_loss value: 0.2608824670314789.\n",
            "Better model found at epoch 8 with valid_loss value: 0.24940846860408783.\n",
            "Better model found at epoch 9 with valid_loss value: 0.24843280017375946.\n"
          ],
          "name": "stdout"
        }
      ]
    },
    {
      "cell_type": "code",
      "metadata": {
        "id": "xV5vhFiTcInh"
      },
      "source": [
        "dls, df = get_data(0, res)\r\n",
        "test_df = pd.read_csv(path/'test.csv')\r\n",
        "test_dl = dls.test_dl(test_df)"
      ],
      "execution_count": 19,
      "outputs": []
    },
    {
      "cell_type": "code",
      "metadata": {
        "colab": {
          "base_uri": "https://localhost:8080/",
          "height": 191,
          "referenced_widgets": [
            "c9b371e93225452fbcf7fdc33efa7ad1",
            "6171b207f25c41b6949da69f47830297",
            "cbe3ad0ab9184f689195e898613cb689",
            "b413c42524da464b8ba18dbddb810d3a",
            "b3ba8369b1da4a18990a4dcd8eabf7bb",
            "b37e94ce20a841a4b1eb21015027f2b0",
            "cee03e8681dd4291b5c196adec386de0",
            "20e8d77cf8b44f6fa390ff95de1b9350"
          ]
        },
        "id": "mntP6EaMKqdj",
        "outputId": "5734fa93-ce5c-463d-e0d6-72b114768b75"
      },
      "source": [
        "#pred for submission without softlabellig\r\n",
        "preds = []\r\n",
        "for i in range(N_FOLDS):\r\n",
        "  \r\n",
        "  learn = cnn_learner(dls, \r\n",
        "                      resnet101,\r\n",
        "                      loss_func=CrossEntropyLossOneHot(),\r\n",
        "                      metrics = [accuracy, RocAuc()],\r\n",
        "                      cbs=SoftLabelCB(df)) #callback to softlabel the labels\r\n",
        "  \r\n",
        "  learn.load(f'{path}/model/effnet_sl_fold_{i}_best')\r\n",
        "\r\n",
        "  test_preds, _ = learn.get_preds(dl=test_dl)\r\n",
        "\r\n",
        "  preds.append(test_preds)"
      ],
      "execution_count": 20,
      "outputs": [
        {
          "output_type": "stream",
          "text": [
            "Downloading: \"https://download.pytorch.org/models/resnet101-5d3b4d8f.pth\" to /root/.cache/torch/hub/checkpoints/resnet101-5d3b4d8f.pth\n"
          ],
          "name": "stderr"
        },
        {
          "output_type": "display_data",
          "data": {
            "application/vnd.jupyter.widget-view+json": {
              "model_id": "c9b371e93225452fbcf7fdc33efa7ad1",
              "version_minor": 0,
              "version_major": 2
            },
            "text/plain": [
              "HBox(children=(FloatProgress(value=0.0, max=178728960.0), HTML(value='')))"
            ]
          },
          "metadata": {
            "tags": []
          }
        },
        {
          "output_type": "stream",
          "text": [
            "\n"
          ],
          "name": "stdout"
        },
        {
          "output_type": "stream",
          "text": [
            "/usr/local/lib/python3.6/dist-packages/fastai/learner.py:56: UserWarning: Saved filed doesn't contain an optimizer state.\n",
            "  elif with_opt: warn(\"Saved filed doesn't contain an optimizer state.\")\n"
          ],
          "name": "stderr"
        },
        {
          "output_type": "display_data",
          "data": {
            "text/html": [
              ""
            ],
            "text/plain": [
              "<IPython.core.display.HTML object>"
            ]
          },
          "metadata": {
            "tags": []
          }
        },
        {
          "output_type": "stream",
          "text": [
            "/usr/local/lib/python3.6/dist-packages/fastai/learner.py:56: UserWarning: Saved filed doesn't contain an optimizer state.\n",
            "  elif with_opt: warn(\"Saved filed doesn't contain an optimizer state.\")\n"
          ],
          "name": "stderr"
        },
        {
          "output_type": "display_data",
          "data": {
            "text/html": [
              ""
            ],
            "text/plain": [
              "<IPython.core.display.HTML object>"
            ]
          },
          "metadata": {
            "tags": []
          }
        },
        {
          "output_type": "stream",
          "text": [
            "/usr/local/lib/python3.6/dist-packages/fastai/learner.py:56: UserWarning: Saved filed doesn't contain an optimizer state.\n",
            "  elif with_opt: warn(\"Saved filed doesn't contain an optimizer state.\")\n"
          ],
          "name": "stderr"
        },
        {
          "output_type": "display_data",
          "data": {
            "text/html": [
              ""
            ],
            "text/plain": [
              "<IPython.core.display.HTML object>"
            ]
          },
          "metadata": {
            "tags": []
          }
        }
      ]
    },
    {
      "cell_type": "code",
      "metadata": {
        "id": "gDsZ6_ZNeJfo"
      },
      "source": [
        "import torch.nn as nn"
      ],
      "execution_count": 22,
      "outputs": []
    },
    {
      "cell_type": "code",
      "metadata": {
        "id": "M0gzHwazetzg"
      },
      "source": [
        "sm = nn.Softmax(-1)"
      ],
      "execution_count": 23,
      "outputs": []
    },
    {
      "cell_type": "code",
      "metadata": {
        "id": "UGDjs5pfeFbi"
      },
      "source": [
        "p = []\r\n",
        "for i in range(3):\r\n",
        "  p.append(sm(preds[i]))"
      ],
      "execution_count": 25,
      "outputs": []
    },
    {
      "cell_type": "code",
      "metadata": {
        "id": "Y6wgDnm_KwpL"
      },
      "source": [
        "test_preds= np.mean(np.stack(p), axis=0)"
      ],
      "execution_count": 26,
      "outputs": []
    },
    {
      "cell_type": "code",
      "metadata": {
        "id": "yVdYvpAyKylq"
      },
      "source": [
        "sub_df = pd.concat([test_df, pd.DataFrame(test_preds, columns=['healthy', 'multiple_diseases', 'rust', 'scab'])], axis=1)\r\n",
        "sub_df = sub_df[['image_id', 'healthy', 'multiple_diseases', 'rust', 'scab']]\r\n",
        "sub_df.to_csv(f'{path}/submission_sl_21012020.csv', index=False)"
      ],
      "execution_count": 30,
      "outputs": []
    },
    {
      "cell_type": "code",
      "metadata": {
        "colab": {
          "base_uri": "https://localhost:8080/",
          "height": 411
        },
        "id": "KkAtXWuRJx3j",
        "outputId": "997f1421-ab5f-47b8-9e6f-bad9279a15a5"
      },
      "source": [
        "sub_df"
      ],
      "execution_count": 31,
      "outputs": [
        {
          "output_type": "execute_result",
          "data": {
            "text/html": [
              "<div>\n",
              "<style scoped>\n",
              "    .dataframe tbody tr th:only-of-type {\n",
              "        vertical-align: middle;\n",
              "    }\n",
              "\n",
              "    .dataframe tbody tr th {\n",
              "        vertical-align: top;\n",
              "    }\n",
              "\n",
              "    .dataframe thead th {\n",
              "        text-align: right;\n",
              "    }\n",
              "</style>\n",
              "<table border=\"1\" class=\"dataframe\">\n",
              "  <thead>\n",
              "    <tr style=\"text-align: right;\">\n",
              "      <th></th>\n",
              "      <th>image_id</th>\n",
              "      <th>healthy</th>\n",
              "      <th>multiple_diseases</th>\n",
              "      <th>rust</th>\n",
              "      <th>scab</th>\n",
              "    </tr>\n",
              "  </thead>\n",
              "  <tbody>\n",
              "    <tr>\n",
              "      <th>0</th>\n",
              "      <td>Test_0</td>\n",
              "      <td>1.874524e-05</td>\n",
              "      <td>0.008526</td>\n",
              "      <td>9.914541e-01</td>\n",
              "      <td>1.090284e-06</td>\n",
              "    </tr>\n",
              "    <tr>\n",
              "      <th>1</th>\n",
              "      <td>Test_1</td>\n",
              "      <td>3.861142e-05</td>\n",
              "      <td>0.007045</td>\n",
              "      <td>9.926236e-01</td>\n",
              "      <td>2.930357e-04</td>\n",
              "    </tr>\n",
              "    <tr>\n",
              "      <th>2</th>\n",
              "      <td>Test_2</td>\n",
              "      <td>1.933658e-05</td>\n",
              "      <td>0.000011</td>\n",
              "      <td>1.258246e-10</td>\n",
              "      <td>9.999692e-01</td>\n",
              "    </tr>\n",
              "    <tr>\n",
              "      <th>3</th>\n",
              "      <td>Test_3</td>\n",
              "      <td>9.996265e-01</td>\n",
              "      <td>0.000007</td>\n",
              "      <td>3.463298e-04</td>\n",
              "      <td>1.977027e-05</td>\n",
              "    </tr>\n",
              "    <tr>\n",
              "      <th>4</th>\n",
              "      <td>Test_4</td>\n",
              "      <td>1.369706e-08</td>\n",
              "      <td>0.003426</td>\n",
              "      <td>9.965741e-01</td>\n",
              "      <td>8.094222e-08</td>\n",
              "    </tr>\n",
              "    <tr>\n",
              "      <th>...</th>\n",
              "      <td>...</td>\n",
              "      <td>...</td>\n",
              "      <td>...</td>\n",
              "      <td>...</td>\n",
              "      <td>...</td>\n",
              "    </tr>\n",
              "    <tr>\n",
              "      <th>1816</th>\n",
              "      <td>Test_1816</td>\n",
              "      <td>9.570090e-08</td>\n",
              "      <td>0.000023</td>\n",
              "      <td>9.999774e-01</td>\n",
              "      <td>6.766701e-09</td>\n",
              "    </tr>\n",
              "    <tr>\n",
              "      <th>1817</th>\n",
              "      <td>Test_1817</td>\n",
              "      <td>5.320707e-02</td>\n",
              "      <td>0.237509</td>\n",
              "      <td>8.512319e-03</td>\n",
              "      <td>7.007719e-01</td>\n",
              "    </tr>\n",
              "    <tr>\n",
              "      <th>1818</th>\n",
              "      <td>Test_1818</td>\n",
              "      <td>2.474423e-04</td>\n",
              "      <td>0.001269</td>\n",
              "      <td>9.983528e-01</td>\n",
              "      <td>1.309485e-04</td>\n",
              "    </tr>\n",
              "    <tr>\n",
              "      <th>1819</th>\n",
              "      <td>Test_1819</td>\n",
              "      <td>9.882119e-01</td>\n",
              "      <td>0.000325</td>\n",
              "      <td>1.137441e-02</td>\n",
              "      <td>8.850465e-05</td>\n",
              "    </tr>\n",
              "    <tr>\n",
              "      <th>1820</th>\n",
              "      <td>Test_1820</td>\n",
              "      <td>2.579068e-03</td>\n",
              "      <td>0.112944</td>\n",
              "      <td>1.338783e-04</td>\n",
              "      <td>8.843427e-01</td>\n",
              "    </tr>\n",
              "  </tbody>\n",
              "</table>\n",
              "<p>1821 rows × 5 columns</p>\n",
              "</div>"
            ],
            "text/plain": [
              "       image_id       healthy  multiple_diseases          rust          scab\n",
              "0        Test_0  1.874524e-05           0.008526  9.914541e-01  1.090284e-06\n",
              "1        Test_1  3.861142e-05           0.007045  9.926236e-01  2.930357e-04\n",
              "2        Test_2  1.933658e-05           0.000011  1.258246e-10  9.999692e-01\n",
              "3        Test_3  9.996265e-01           0.000007  3.463298e-04  1.977027e-05\n",
              "4        Test_4  1.369706e-08           0.003426  9.965741e-01  8.094222e-08\n",
              "...         ...           ...                ...           ...           ...\n",
              "1816  Test_1816  9.570090e-08           0.000023  9.999774e-01  6.766701e-09\n",
              "1817  Test_1817  5.320707e-02           0.237509  8.512319e-03  7.007719e-01\n",
              "1818  Test_1818  2.474423e-04           0.001269  9.983528e-01  1.309485e-04\n",
              "1819  Test_1819  9.882119e-01           0.000325  1.137441e-02  8.850465e-05\n",
              "1820  Test_1820  2.579068e-03           0.112944  1.338783e-04  8.843427e-01\n",
              "\n",
              "[1821 rows x 5 columns]"
            ]
          },
          "metadata": {
            "tags": []
          },
          "execution_count": 31
        }
      ]
    },
    {
      "cell_type": "markdown",
      "metadata": {
        "id": "tN_l6BKTgwIj"
      },
      "source": [
        "#scores without softlabelling\r\n",
        "private score: 0.93522 public score: 0.93918\r\n",
        "\r\n",
        "#scores with softlabelling\r\n",
        "private score: 0.92873 public score: 0.93242\r\n"
      ]
    }
  ]
}